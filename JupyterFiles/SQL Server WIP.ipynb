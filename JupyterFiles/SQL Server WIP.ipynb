{
 "cells": [
  {
   "cell_type": "code",
   "execution_count": null,
   "id": "5da6a79f",
   "metadata": {},
   "outputs": [],
   "source": [
    "https://stackoverflow.com/questions/61082339/dataframe-to-sql-server-using-execute-many-from-pyodbc"
   ]
  },
  {
   "cell_type": "code",
   "execution_count": null,
   "id": "75f6675c",
   "metadata": {},
   "outputs": [],
   "source": [
    " cursor = sql_con.cursor()\n",
    "cursor.fast_executemany = True\n",
    "for row_count in range(0, df.shape[0]):\n",
    "  chunk = df.iloc[row_count:row_count + 1,:].values.tolist()\n",
    "  tuple_of_tuples = tuple(tuple(x) for x in chunk)\n",
    "  for index,row in ProductInventory.iterrows():\n",
    "  cursor.executemany(\"INSERT INTO table ([x]],[Y]) values (?,?)\",tuple_of_tuples)"
   ]
  },
  {
   "cell_type": "code",
   "execution_count": null,
   "id": "e6cc97e0",
   "metadata": {},
   "outputs": [],
   "source": [
    "https://stackoverflow.com/questions/63523711/inserting-data-to-sql-server-from-a-python-dataframe-quickly"
   ]
  },
  {
   "cell_type": "code",
   "execution_count": null,
   "id": "d1f5d22b",
   "metadata": {},
   "outputs": [],
   "source": [
    "import pandas as pd    \n",
    "import pyodbc as pc    \n",
    "connection_string = \"Driver=SQL Server;Server=localhost;Database={0};Trusted_Connection=Yes;\"                           \n",
    "cnxn = pc.connect(connection_string.format(\"DataBaseNameHere\"), autocommit=True)    \n",
    "cur=cnxn.cursor()\n",
    "df= pd.read_csv(\"your_filepath_and_filename_here.csv\").fillna('')    \n",
    "query = 'insert into TableName({0}) values ({1})'    \n",
    "query = query.format(','.join(df.columns), ','.join('?' * len(df1.columns)))        \n",
    "cur.fast_executemany = True    \n",
    "cur.executemany(query, df.values.tolist())\n",
    "cnxn.close()"
   ]
  }
 ],
 "metadata": {
  "kernelspec": {
   "display_name": "Python 3",
   "language": "python",
   "name": "python3"
  },
  "language_info": {
   "codemirror_mode": {
    "name": "ipython",
    "version": 3
   },
   "file_extension": ".py",
   "mimetype": "text/x-python",
   "name": "python",
   "nbconvert_exporter": "python",
   "pygments_lexer": "ipython3",
   "version": "3.8.8"
  }
 },
 "nbformat": 4,
 "nbformat_minor": 5
}
