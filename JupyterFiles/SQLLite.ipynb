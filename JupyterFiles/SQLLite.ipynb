{
 "cells": [
  {
   "cell_type": "code",
   "execution_count": 54,
   "id": "366f104e",
   "metadata": {},
   "outputs": [],
   "source": [
    "import pandas as pd\n",
    "import sqlite3\n",
    "import os\n",
    "\n",
    "os.chdir(r'c:\\Users\\r.christianto\\SQLiteStudio')\n",
    "\n",
    "\n",
    "con = sqlite3.connect(\"mydatabase\")\n",
    "df = pd.read_sql_query(\"select sum(fcast) as Forecast,sum(actual) as Actual,sum(variance) as Diff from variance_overall where category = 'Rent - ThePond'\",con)\n",
    "#con.close"
   ]
  },
  {
   "cell_type": "code",
   "execution_count": null,
   "id": "e4a29685",
   "metadata": {},
   "outputs": [],
   "source": []
  },
  {
   "cell_type": "code",
   "execution_count": null,
   "id": "7dcf6415",
   "metadata": {},
   "outputs": [],
   "source": []
  },
  {
   "cell_type": "code",
   "execution_count": null,
   "id": "2cbf7f02",
   "metadata": {},
   "outputs": [],
   "source": []
  },
  {
   "cell_type": "code",
   "execution_count": 59,
   "id": "3aa060cc",
   "metadata": {},
   "outputs": [
    {
     "name": "stdout",
     "output_type": "stream",
     "text": [
      "The file located at the path C:\\Users\\r.christianto\\Downloads was created at Tue Oct 26 11:19:57 2021 and was last modified at Fri May 13 23:02:40 2022\n"
     ]
    }
   ],
   "source": [
    "import os\n",
    "import time\n",
    "  \n",
    "# Path to the file/directory\n",
    "path = r\"C:\\Users\\r.christianto\\Downloads\"\n",
    "  \n",
    "# Both the variables would contain time \n",
    "# elapsed since EPOCH in float\n",
    "ti_c = os.path.getctime(path)\n",
    "ti_m = os.path.getmtime(path)\n",
    "  \n",
    "# Converting the time in seconds to a timestamp\n",
    "c_ti = time.ctime(ti_c)\n",
    "m_ti = time.ctime(ti_m)\n",
    "  \n",
    "print(f\"The file located at the path {path} was created at {c_ti} and was last modified at {m_ti}\")"
   ]
  },
  {
   "cell_type": "code",
   "execution_count": 64,
   "id": "ca10fc44",
   "metadata": {},
   "outputs": [
    {
     "data": {
      "text/plain": [
       "'Fri May 13 23:02:40 2022'"
      ]
     },
     "execution_count": 64,
     "metadata": {},
     "output_type": "execute_result"
    }
   ],
   "source": [
    "m_ti"
   ]
  },
  {
   "cell_type": "code",
   "execution_count": null,
   "id": "45100a96",
   "metadata": {},
   "outputs": [],
   "source": []
  },
  {
   "cell_type": "code",
   "execution_count": 57,
   "id": "0c94d658",
   "metadata": {},
   "outputs": [
    {
     "name": "stdout",
     "output_type": "stream",
     "text": [
      "0 26577.0\n",
      "1 24984.0\n",
      "2 -1593.0\n"
     ]
    },
    {
     "data": {
      "image/png": "[encoded data removed]",
      "text/plain": [
       "<Figure size 432x288 with 1 Axes>"
      ]
     },
     "metadata": {
      "needs_background": "light"
     },
     "output_type": "display_data"
    }
   ],
   "source": [
    "import matplotlib.pyplot as plt\n",
    "\n",
    "b = df.columns\n",
    "a = df.values.tolist()[0]\n",
    "\n",
    "\n",
    "plt.bar(b,a)\n",
    "plt.title('The Pond')\n",
    "\n",
    "for index, value in enumerate(a):\n",
    "    print (index,value)\n",
    "    plt.text(index, value,\n",
    "             str(value))\n",
    " \n"
   ]
  },
  {
   "cell_type": "code",
   "execution_count": 53,
   "id": "551f9274",
   "metadata": {},
   "outputs": [
    {
     "name": "stdout",
     "output_type": "stream",
     "text": [
      "0 5\n",
      "1 2\n",
      "2 3\n",
      "3 4\n"
     ]
    },
    {
     "data": {
      "image/png": "[encoded data removed]",
      "text/plain": [
       "<Figure size 432x288 with 1 Axes>"
      ]
     },
     "metadata": {
      "needs_background": "light"
     },
     "output_type": "display_data"
    }
   ],
   "source": [
    "import matplotlib.pyplot as plt\n",
    "x = [\"A\", \"B\", \"C\", \"D\"]\n",
    "y = [5, 2, 3, 4]\n",
    "plt.bar(x, y)\n",
    " \n",
    "for index, value in enumerate(y):\n",
    "    print (index,value)\n",
    "    plt.text(index, value,\n",
    "             str(value))\n",
    " \n",
    "plt.show()"
   ]
  },
  {
   "cell_type": "code",
   "execution_count": null,
   "id": "a06940d9",
   "metadata": {},
   "outputs": [],
   "source": []
  },
  {
   "cell_type": "code",
   "execution_count": null,
   "id": "0130ab82",
   "metadata": {},
   "outputs": [],
   "source": []
  },
  {
   "cell_type": "code",
   "execution_count": null,
   "id": "fa840539",
   "metadata": {},
   "outputs": [],
   "source": []
  },
  {
   "cell_type": "code",
   "execution_count": 21,
   "id": "4208b29f",
   "metadata": {},
   "outputs": [],
   "source": [
    "# write to SQLite\n",
    "\n",
    "df.to_sql('copy',con,if_exists=\"replace\")\n",
    "\n",
    "con.close()"
   ]
  },
  {
   "cell_type": "code",
   "execution_count": 36,
   "id": "cfa7e6cb",
   "metadata": {},
   "outputs": [],
   "source": [
    "# download confirmation details \n",
    "os.chdir(r'c:\\Users\\r.christianto\\MyPython\\Yahoo')\n",
    "\n",
    "df1 = pd.read_excel('TradingSource.xlsx',sheet_name='ConfirmationDetails')\n",
    "df1 = df[['Trade Date', 'Confirmation Number', 'Order Number', 'Order Type',\n",
    "       'Code', 'Units', 'Average Price ($)', 'Brokerage (inc GST.)',\n",
    "       'Net Proceeds ($)', 'Settlement Date', 'Status', 'Flag', 'Period',\n",
    "       'Portfolio Number']]\n",
    "\n",
    "df2 = pd.read_excel('TradingSource.xlsx',sheet_name='ConfirmationDetails')"
   ]
  },
  {
   "cell_type": "code",
   "execution_count": 37,
   "id": "d1b9e6b2",
   "metadata": {},
   "outputs": [
    {
     "name": "stderr",
     "output_type": "stream",
     "text": [
      "C:\\Users\\r.christianto\\Anaconda3\\lib\\site-packages\\pandas\\core\\generic.py:2779: UserWarning: The spaces in these column names will not be changed. In pandas versions < 0.14, spaces were converted to underscores.\n",
      "  sql.to_sql(\n"
     ]
    }
   ],
   "source": [
    "\n",
    "os.chdir(r'c:\\Users\\r.christianto\\SQLiteStudio')\n",
    "con = sqlite3.connect(\"CBA\")\n",
    "df.to_sql('ConfirmationDetails',con,if_exists=\"replace\")\n",
    "\n",
    "con.close()"
   ]
  },
  {
   "cell_type": "code",
   "execution_count": 38,
   "id": "28d010b9",
   "metadata": {},
   "outputs": [],
   "source": [
    "con = sqlite3.connect(\"CBA\")\n",
    "x = pd.read_sql_query(\"select * from mastercard\",con)"
   ]
  },
  {
   "cell_type": "code",
   "execution_count": 39,
   "id": "f8f030e3",
   "metadata": {},
   "outputs": [
    {
     "data": {
      "text/html": [
       "<div>\n",
       "<style scoped>\n",
       "    .dataframe tbody tr th:only-of-type {\n",
       "        vertical-align: middle;\n",
       "    }\n",
       "\n",
       "    .dataframe tbody tr th {\n",
       "        vertical-align: top;\n",
       "    }\n",
       "\n",
       "    .dataframe thead th {\n",
       "        text-align: right;\n",
       "    }\n",
       "</style>\n",
       "<table border=\"1\" class=\"dataframe\">\n",
       "  <thead>\n",
       "    <tr style=\"text-align: right;\">\n",
       "      <th></th>\n",
       "      <th>Date</th>\n",
       "      <th>Amount</th>\n",
       "      <th>Description</th>\n",
       "    </tr>\n",
       "  </thead>\n",
       "  <tbody>\n",
       "    <tr>\n",
       "      <th>0</th>\n",
       "      <td>04/05/2022</td>\n",
       "      <td>-16.85</td>\n",
       "      <td>BREADTOP GEORGE STRE     SYDNEY      NSW</td>\n",
       "    </tr>\n",
       "    <tr>\n",
       "      <th>1</th>\n",
       "      <td>03/05/2022</td>\n",
       "      <td>-23.55</td>\n",
       "      <td>WW METRO        1716     HAYMARKET   AUS</td>\n",
       "    </tr>\n",
       "    <tr>\n",
       "      <th>2</th>\n",
       "      <td>03/05/2022</td>\n",
       "      <td>-98.21</td>\n",
       "      <td>COLES EXPRESS 1698       ULTIMO      AUS</td>\n",
       "    </tr>\n",
       "    <tr>\n",
       "      <th>3</th>\n",
       "      <td>03/05/2022</td>\n",
       "      <td>-24.60</td>\n",
       "      <td>SUSHI HUB BROADWAY       HAYMARKET   NSW</td>\n",
       "    </tr>\n",
       "    <tr>\n",
       "      <th>4</th>\n",
       "      <td>03/05/2022</td>\n",
       "      <td>-69.00</td>\n",
       "      <td>BUNNINGS 370000          ALEXANDRIA</td>\n",
       "    </tr>\n",
       "    <tr>\n",
       "      <th>...</th>\n",
       "      <td>...</td>\n",
       "      <td>...</td>\n",
       "      <td>...</td>\n",
       "    </tr>\n",
       "    <tr>\n",
       "      <th>714</th>\n",
       "      <td>13/12/2021</td>\n",
       "      <td>-13.99</td>\n",
       "      <td>LOVISA PTY LIMITED       BONDI JUNCTI</td>\n",
       "    </tr>\n",
       "    <tr>\n",
       "      <th>715</th>\n",
       "      <td>12/12/2021</td>\n",
       "      <td>-51.60</td>\n",
       "      <td>TARONGA ZOO              MOSMAN      NSW</td>\n",
       "    </tr>\n",
       "    <tr>\n",
       "      <th>716</th>\n",
       "      <td>12/12/2021</td>\n",
       "      <td>-47.00</td>\n",
       "      <td>SPOTLESS FACILITY SE     MOSMAN      NSW</td>\n",
       "    </tr>\n",
       "    <tr>\n",
       "      <th>717</th>\n",
       "      <td>12/12/2021</td>\n",
       "      <td>-13.20</td>\n",
       "      <td>SPOTLESS FACILITY SE     MOSMAN      NSW</td>\n",
       "    </tr>\n",
       "    <tr>\n",
       "      <th>718</th>\n",
       "      <td>12/12/2021</td>\n",
       "      <td>-93.52</td>\n",
       "      <td>COLES EXPRESS 1698       ULTIMO      AUS</td>\n",
       "    </tr>\n",
       "  </tbody>\n",
       "</table>\n",
       "<p>719 rows × 3 columns</p>\n",
       "</div>"
      ],
      "text/plain": [
       "           Date  Amount                               Description\n",
       "0    04/05/2022  -16.85  BREADTOP GEORGE STRE     SYDNEY      NSW\n",
       "1    03/05/2022  -23.55  WW METRO        1716     HAYMARKET   AUS\n",
       "2    03/05/2022  -98.21  COLES EXPRESS 1698       ULTIMO      AUS\n",
       "3    03/05/2022  -24.60  SUSHI HUB BROADWAY       HAYMARKET   NSW\n",
       "4    03/05/2022  -69.00       BUNNINGS 370000          ALEXANDRIA\n",
       "..          ...     ...                                       ...\n",
       "714  13/12/2021  -13.99     LOVISA PTY LIMITED       BONDI JUNCTI\n",
       "715  12/12/2021  -51.60  TARONGA ZOO              MOSMAN      NSW\n",
       "716  12/12/2021  -47.00  SPOTLESS FACILITY SE     MOSMAN      NSW\n",
       "717  12/12/2021  -13.20  SPOTLESS FACILITY SE     MOSMAN      NSW\n",
       "718  12/12/2021  -93.52  COLES EXPRESS 1698       ULTIMO      AUS\n",
       "\n",
       "[719 rows x 3 columns]"
      ]
     },
     "execution_count": 39,
     "metadata": {},
     "output_type": "execute_result"
    }
   ],
   "source": [
    "x"
   ]
  },
  {
   "cell_type": "code",
   "execution_count": 50,
   "id": "2a1f9bf9",
   "metadata": {},
   "outputs": [
    {
     "data": {
      "text/plain": [
       "Timestamp('2022-04-30 00:00:00')"
      ]
     },
     "execution_count": 50,
     "metadata": {},
     "output_type": "execute_result"
    }
   ],
   "source": [
    "\n",
    "pd.to_datetime('30/4/2022')"
   ]
  },
  {
   "cell_type": "code",
   "execution_count": 48,
   "id": "ce1dfe9a",
   "metadata": {},
   "outputs": [
    {
     "name": "stdout",
     "output_type": "stream",
     "text": [
      "404\n"
     ]
    }
   ],
   "source": [
    "print (x.status_code)"
   ]
  },
  {
   "cell_type": "code",
   "execution_count": null,
   "id": "00cba6b7",
   "metadata": {},
   "outputs": [],
   "source": []
  }
 ],
 "metadata": {
  "kernelspec": {
   "display_name": "Python 3",
   "language": "python",
   "name": "python3"
  },
  "language_info": {
   "codemirror_mode": {
    "name": "ipython",
    "version": 3
   },
   "file_extension": ".py",
   "mimetype": "text/x-python",
   "name": "python",
   "nbconvert_exporter": "python",
   "pygments_lexer": "ipython3",
   "version": "3.8.8"
  }
 },
 "nbformat": 4,
 "nbformat_minor": 5
}
