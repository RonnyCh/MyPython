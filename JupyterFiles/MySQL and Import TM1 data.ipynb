{
 "cells": [
  {
   "cell_type": "markdown",
   "id": "2bd87f5c",
   "metadata": {},
   "source": [
    "# 1. Download TM1 raw file"
   ]
  },
  {
   "cell_type": "code",
   "execution_count": 6,
   "id": "65a3faa3",
   "metadata": {},
   "outputs": [
    {
     "name": "stdout",
     "output_type": "stream",
     "text": [
      "<class 'pandas.core.frame.DataFrame'>\n",
      "RangeIndex: 490235 entries, 0 to 490234\n",
      "Data columns (total 10 columns):\n",
      " #   Column      Non-Null Count   Dtype  \n",
      "---  ------      --------------   -----  \n",
      " 0   Cube        490235 non-null  object \n",
      " 1   Version     490235 non-null  object \n",
      " 2   Period      490235 non-null  object \n",
      " 3   Company     490235 non-null  object \n",
      " 4   Account     490235 non-null  object \n",
      " 5   CostCentre  490235 non-null  object \n",
      " 6   Brand       490235 non-null  object \n",
      " 7   Currency    490235 non-null  object \n",
      " 8   Type        490235 non-null  object \n",
      " 9   Amount      490235 non-null  float64\n",
      "dtypes: float64(1), object(9)\n",
      "memory usage: 37.4+ MB\n"
     ]
    }
   ],
   "source": [
    "import pandas as pd\n",
    "import os\n",
    "\n",
    "os.chdir(r'C:\\Users\\r.christianto\\MyPython\\TM1BackUp')\n",
    "filetype = 'PNL'\n",
    "#df = pd.read_csv('Timesheet.csv',parse_dates = ['Start Date','Approved Date','Filled Date'],dayfirst=True)\n",
    "df = pd.read_csv('newpnl.cma')\n",
    "\n",
    "\n",
    "if filetype == 'PNL':\n",
    "    df.columns = ['Cube','Version','Period','Company','Account','CostCentre','Brand','Currency','Type','Amount']\n",
    "    mycube = 'pnlcube2'\n",
    "    for i in ['Account','CostCentre','Company']:\n",
    "        df[i] = df[i].astype('str')\n",
    "elif filetype == 'FA':   \n",
    "    df.columns = ['Cube','Version','Period','Company','Centre','Brand','Desc1','AssetNo','Desc2','Amount']\n",
    "    mycube = 'fixedasset'\n",
    "elif filetype == 'XeroHier':\n",
    "    df.columns = ['XeroAcct','L1','L2','L3','L4','L5','L6','L7','L8','L9','L10','Type']\n",
    "    df.fillna('',inplace=True)\n",
    "    mycube = 'xerohier'\n",
    "elif filetype == 'ClinicMap':\n",
    "    df.columns = ['ClinicNames','ClinicCodes','Code-Name']\n",
    "    df.fillna('',inplace=True)\n",
    "    mycube = 'clinicmap'\n",
    "\n",
    "df.info()"
   ]
  },
  {
   "cell_type": "markdown",
   "id": "873184ce",
   "metadata": {},
   "source": [
    "# 2. Fast export to MYSQL"
   ]
  },
  {
   "cell_type": "code",
   "execution_count": 7,
   "id": "366ec40f",
   "metadata": {},
   "outputs": [],
   "source": [
    "import pandas as pd\n",
    "from sqlalchemy import create_engine\n",
    "\n",
    "# Credentials to database connection\n",
    "hostname=\"localhost\"\n",
    "dbname=\"lca\"\n",
    "uname=\"root\"\n",
    "pwd=\"Ronchi1989!\"\n",
    "\n",
    "\n",
    "# Create SQLAlchemy engine to connect to MySQL Database\n",
    "engine = create_engine(\"mysql+pymysql://{user}:{pw}@{host}/{db}\".format(host=hostname, db=dbname, user=uname, pw=pwd))\n",
    "\n",
    "# Convert dataframe to sql table                                   \n",
    "df.to_sql(mycube, engine, if_exists = 'replace', index=False)\n",
    "# option for if_exist >>>>> {‘fail’, ‘replace’, ‘append’}"
   ]
  },
  {
   "cell_type": "markdown",
   "id": "03841850",
   "metadata": {},
   "source": [
    "# Read from MYSQL to DF"
   ]
  },
  {
   "cell_type": "code",
   "execution_count": 1,
   "id": "cb1a3e77",
   "metadata": {},
   "outputs": [],
   "source": [
    "import pandas as pd\n",
    "from sqlalchemy import create_engine\n",
    "\n",
    "# Credentials to database connection\n",
    "hostname=\"localhost\"\n",
    "dbname=\"pribadi\"\n",
    "uname=\"root\"\n",
    "pwd=\"Ronchi1989!\"\n",
    "\n",
    "\n",
    "# Create SQLAlchemy engine to connect to MySQL Database\n",
    "engine = create_engine(\"mysql+pymysql://{user}:{pw}@{host}/{db}\".format(host=hostname, db=dbname, user=uname, pw=pwd))\n"
   ]
  },
  {
   "cell_type": "code",
   "execution_count": 2,
   "id": "3d50d762",
   "metadata": {},
   "outputs": [],
   "source": [
    "\n",
    "SQL = '''\n",
    "\n",
    "select * from cbacard\n",
    "\n",
    "\n",
    "'''\n",
    "\n",
    "\n",
    "con = engine.connect()\n",
    "frame = pd.read_sql(SQL,con)\n",
    "\n",
    "#df = pd.pivot_table(frame,index=['Cube','Version'],columns=['Period'],values=['Amount'], aggfunc = lambda x:x.sum())\n",
    "#df.dropna(inplace=True)"
   ]
  },
  {
   "cell_type": "code",
   "execution_count": 3,
   "id": "0dabd390",
   "metadata": {},
   "outputs": [
    {
     "name": "stdout",
     "output_type": "stream",
     "text": [
      "<class 'pandas.core.frame.DataFrame'>\n",
      "RangeIndex: 2887 entries, 0 to 2886\n",
      "Data columns (total 4 columns):\n",
      " #   Column       Non-Null Count  Dtype         \n",
      "---  ------       --------------  -----         \n",
      " 0   Date         2887 non-null   datetime64[ns]\n",
      " 1   Amount       2887 non-null   float64       \n",
      " 2   Description  2887 non-null   object        \n",
      " 3   Balance      0 non-null      object        \n",
      "dtypes: datetime64[ns](1), float64(1), object(2)\n",
      "memory usage: 90.3+ KB\n"
     ]
    }
   ],
   "source": [
    "frame.info()"
   ]
  },
  {
   "cell_type": "code",
   "execution_count": 4,
   "id": "2f0e9602",
   "metadata": {},
   "outputs": [],
   "source": [
    "frame.to_csv('test.csv',index=False)"
   ]
  },
  {
   "cell_type": "code",
   "execution_count": 6,
   "id": "5b422b1e",
   "metadata": {},
   "outputs": [
    {
     "name": "stdout",
     "output_type": "stream",
     "text": [
      "<class 'pandas.core.frame.DataFrame'>\n",
      "RangeIndex: 2887 entries, 0 to 2886\n",
      "Data columns (total 4 columns):\n",
      " #   Column       Non-Null Count  Dtype  \n",
      "---  ------       --------------  -----  \n",
      " 0   Date         2887 non-null   object \n",
      " 1   Amount       2887 non-null   float64\n",
      " 2   Description  2887 non-null   object \n",
      " 3   Balance      0 non-null      float64\n",
      "dtypes: float64(2), object(2)\n",
      "memory usage: 90.3+ KB\n"
     ]
    }
   ],
   "source": [
    "df = pd.read_csv('test.csv')\n",
    "\n",
    "df.info()"
   ]
  },
  {
   "cell_type": "code",
   "execution_count": 8,
   "id": "a68e9550",
   "metadata": {},
   "outputs": [],
   "source": [
    "import os\n",
    "os.chdir(r'C:\\tmp')\n",
    "\n",
    "frame.to_csv('xero.csv',index=False)"
   ]
  },
  {
   "cell_type": "markdown",
   "id": "6767dc58",
   "metadata": {},
   "source": [
    "# Using mysql connector to do other ETL"
   ]
  },
  {
   "cell_type": "code",
   "execution_count": 43,
   "id": "70bf5ba1",
   "metadata": {},
   "outputs": [],
   "source": [
    "import mysql.connector\n",
    "\n",
    "mydb = mysql.connector.connect(\n",
    "  host=\"localhost\",\n",
    "  user=\"root\",\n",
    "  password=\"Ronchi1989!\",\n",
    "  database=\"lca\"\n",
    ")\n",
    "\n",
    "mycursor = mydb.cursor()\n",
    "\n"
   ]
  },
  {
   "cell_type": "code",
   "execution_count": null,
   "id": "9c5d984e",
   "metadata": {},
   "outputs": [],
   "source": [
    "sql = \"drop view vxerocsv\"\n",
    "\n",
    "mycursor.execute(sql)"
   ]
  },
  {
   "cell_type": "code",
   "execution_count": null,
   "id": "b69399c2",
   "metadata": {},
   "outputs": [],
   "source": []
  }
 ],
 "metadata": {
  "kernelspec": {
   "display_name": "Python 3",
   "language": "python",
   "name": "python3"
  },
  "language_info": {
   "codemirror_mode": {
    "name": "ipython",
    "version": 3
   },
   "file_extension": ".py",
   "mimetype": "text/x-python",
   "name": "python",
   "nbconvert_exporter": "python",
   "pygments_lexer": "ipython3",
   "version": "3.8.8"
  }
 },
 "nbformat": 4,
 "nbformat_minor": 5
}
