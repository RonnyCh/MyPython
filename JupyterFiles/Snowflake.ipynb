{
 "cells": [
  {
   "cell_type": "code",
   "execution_count": 6,
   "id": "4337a974",
   "metadata": {},
   "outputs": [],
   "source": [
    "# https://www.analyticsvidhya.com/blog/2021/05/one-stop-shop-for-connecting-snowflake-to-python/\n",
    "#!pip install snowflake-connector-python[pandas]\n",
    "#pip install snowflake-sqlalchemy"
   ]
  },
  {
   "cell_type": "code",
   "execution_count": 28,
   "id": "51e65b8e",
   "metadata": {},
   "outputs": [],
   "source": [
    "import snowflake.connector\n",
    "import pandas as pd\n",
    "import numpy as np\n",
    "ctx = snowflake.connector.connect(\n",
    "    account = 'xb05962.australia-east.azure',\n",
    "    user = 'Ronnyc',\n",
    "    password = 'Ronchi1989',\n",
    "    warehouse = 'FINANCE',\n",
    "    database = 'FINANCE_TEAM',\n",
    "    schema = 'PUBLIC'\n",
    ")\n",
    "cur = ctx.cursor()"
   ]
  },
  {
   "cell_type": "code",
   "execution_count": 29,
   "id": "d2b9934a",
   "metadata": {},
   "outputs": [
    {
     "data": {
      "text/html": [
       "<div>\n",
       "<style scoped>\n",
       "    .dataframe tbody tr th:only-of-type {\n",
       "        vertical-align: middle;\n",
       "    }\n",
       "\n",
       "    .dataframe tbody tr th {\n",
       "        vertical-align: top;\n",
       "    }\n",
       "\n",
       "    .dataframe thead th {\n",
       "        text-align: right;\n",
       "    }\n",
       "</style>\n",
       "<table border=\"1\" class=\"dataframe\">\n",
       "  <thead>\n",
       "    <tr style=\"text-align: right;\">\n",
       "      <th></th>\n",
       "      <th>0</th>\n",
       "      <th>1</th>\n",
       "      <th>2</th>\n",
       "      <th>3</th>\n",
       "      <th>4</th>\n",
       "      <th>5</th>\n",
       "      <th>6</th>\n",
       "      <th>7</th>\n",
       "      <th>8</th>\n",
       "    </tr>\n",
       "  </thead>\n",
       "  <tbody>\n",
       "    <tr>\n",
       "      <th>0</th>\n",
       "      <td>2021-10-31</td>\n",
       "      <td>LCA Elizabeth Pty Limited</td>\n",
       "      <td>Revenue</td>\n",
       "      <td>41000</td>\n",
       "      <td>Earned Revenue</td>\n",
       "      <td>0</td>\n",
       "      <td>154984</td>\n",
       "      <td>0</td>\n",
       "      <td>626644</td>\n",
       "    </tr>\n",
       "    <tr>\n",
       "      <th>1</th>\n",
       "      <td>2021-10-31</td>\n",
       "      <td>LCA Elizabeth Pty Limited</td>\n",
       "      <td>Revenue</td>\n",
       "      <td>81000</td>\n",
       "      <td>Interest Income</td>\n",
       "      <td>0</td>\n",
       "      <td>1</td>\n",
       "      <td>0</td>\n",
       "      <td>3</td>\n",
       "    </tr>\n",
       "    <tr>\n",
       "      <th>2</th>\n",
       "      <td>2021-10-31</td>\n",
       "      <td>LCA Elizabeth Pty Limited</td>\n",
       "      <td>Revenue</td>\n",
       "      <td>82000</td>\n",
       "      <td>Lease Incentive</td>\n",
       "      <td>0</td>\n",
       "      <td>3611</td>\n",
       "      <td>0</td>\n",
       "      <td>14444</td>\n",
       "    </tr>\n",
       "    <tr>\n",
       "      <th>3</th>\n",
       "      <td>2021-10-31</td>\n",
       "      <td>LCA Elizabeth Pty Limited</td>\n",
       "      <td>Revenue</td>\n",
       "      <td>41010</td>\n",
       "      <td>Sales Commission</td>\n",
       "      <td>0</td>\n",
       "      <td>12</td>\n",
       "      <td>0</td>\n",
       "      <td>114</td>\n",
       "    </tr>\n",
       "  </tbody>\n",
       "</table>\n",
       "</div>"
      ],
      "text/plain": [
       "            0                          1        2      3                 4  5  \\\n",
       "0  2021-10-31  LCA Elizabeth Pty Limited  Revenue  41000    Earned Revenue  0   \n",
       "1  2021-10-31  LCA Elizabeth Pty Limited  Revenue  81000   Interest Income  0   \n",
       "2  2021-10-31  LCA Elizabeth Pty Limited  Revenue  82000   Lease Incentive  0   \n",
       "3  2021-10-31  LCA Elizabeth Pty Limited  Revenue  41010  Sales Commission  0   \n",
       "\n",
       "        6  7       8  \n",
       "0  154984  0  626644  \n",
       "1       1  0       3  \n",
       "2    3611  0   14444  \n",
       "3      12  0     114  "
      ]
     },
     "execution_count": 29,
     "metadata": {},
     "output_type": "execute_result"
    }
   ],
   "source": [
    "sql = \"select * from xero\"\n",
    "x  = cur.execute(sql)\n",
    "m = cur.fetchall()\n",
    "\n",
    "pd.DataFrame(m)"
   ]
  },
  {
   "cell_type": "code",
   "execution_count": 41,
   "id": "c3b8b2e9",
   "metadata": {},
   "outputs": [
    {
     "data": {
      "text/plain": [
       "<snowflake.connector.cursor.SnowflakeCursor at 0x1fd3eb71490>"
      ]
     },
     "execution_count": 41,
     "metadata": {},
     "output_type": "execute_result"
    }
   ],
   "source": [
    "cur.execute(\n",
    "        \"CREATE OR REPLACE TABLE \"\n",
    "        \"test_table(col1 integer, col2 string)\"\n",
    ")\n",
    "\n",
    "  "
   ]
  },
  {
   "cell_type": "code",
   "execution_count": 11,
   "id": "d3cc03e7",
   "metadata": {},
   "outputs": [
    {
     "data": {
      "text/plain": [
       "<snowflake.connector.cursor.SnowflakeCursor at 0x1fd3a50eca0>"
      ]
     },
     "execution_count": 11,
     "metadata": {},
     "output_type": "execute_result"
    }
   ],
   "source": [
    "cur.execute(\n",
    "        \"CREATE OR REPLACE TABLE \"\n",
    "        \"test_table(col1 varchar(10), col2 varchar(20))\")"
   ]
  },
  {
   "cell_type": "code",
   "execution_count": 13,
   "id": "3ba0983d",
   "metadata": {},
   "outputs": [
    {
     "data": {
      "text/plain": [
       "<snowflake.connector.cursor.SnowflakeCursor at 0x1fd3a50eca0>"
      ]
     },
     "execution_count": 13,
     "metadata": {},
     "output_type": "execute_result"
    }
   ],
   "source": [
    "cur.execute (\n",
    "  \"CREATE OR REPLACE TABLE \"  \n",
    "  \"test_table(Company varchar(100), AcctType varchar(50), Acct varchar(100))\")\n"
   ]
  },
  {
   "cell_type": "code",
   "execution_count": null,
   "id": "b3120fd3",
   "metadata": {},
   "outputs": [],
   "source": []
  },
  {
   "cell_type": "code",
   "execution_count": 32,
   "id": "7606e06d",
   "metadata": {},
   "outputs": [
    {
     "data": {
      "text/plain": [
       "<snowflake.connector.cursor.SnowflakeCursor at 0x24ac89909d0>"
      ]
     },
     "execution_count": 32,
     "metadata": {},
     "output_type": "execute_result"
    }
   ],
   "source": [
    "cur.execute(\n",
    "        \"INSERT INTO test_table(col1, col2) VALUES \" + \n",
    "        \"    (123, 'test string1'), \" + \n",
    "        \"    (456, 'test string2')\")"
   ]
  },
  {
   "cell_type": "code",
   "execution_count": 33,
   "id": "3c527fb9",
   "metadata": {},
   "outputs": [
    {
     "data": {
      "text/html": [
       "<div>\n",
       "<style scoped>\n",
       "    .dataframe tbody tr th:only-of-type {\n",
       "        vertical-align: middle;\n",
       "    }\n",
       "\n",
       "    .dataframe tbody tr th {\n",
       "        vertical-align: top;\n",
       "    }\n",
       "\n",
       "    .dataframe thead th {\n",
       "        text-align: right;\n",
       "    }\n",
       "</style>\n",
       "<table border=\"1\" class=\"dataframe\">\n",
       "  <thead>\n",
       "    <tr style=\"text-align: right;\">\n",
       "      <th></th>\n",
       "      <th>0</th>\n",
       "      <th>1</th>\n",
       "    </tr>\n",
       "  </thead>\n",
       "  <tbody>\n",
       "    <tr>\n",
       "      <th>0</th>\n",
       "      <td>123</td>\n",
       "      <td>test string1</td>\n",
       "    </tr>\n",
       "    <tr>\n",
       "      <th>1</th>\n",
       "      <td>456</td>\n",
       "      <td>test string2</td>\n",
       "    </tr>\n",
       "  </tbody>\n",
       "</table>\n",
       "</div>"
      ],
      "text/plain": [
       "     0             1\n",
       "0  123  test string1\n",
       "1  456  test string2"
      ]
     },
     "execution_count": 33,
     "metadata": {},
     "output_type": "execute_result"
    }
   ],
   "source": [
    "sql = \"select * from test_table\"\n",
    "x  = cur.execute(sql)\n",
    "m = cur.fetchall()\n",
    "\n",
    "pd.DataFrame(m)\n"
   ]
  },
  {
   "cell_type": "code",
   "execution_count": 47,
   "id": "a000bb28",
   "metadata": {},
   "outputs": [],
   "source": [
    "sql = \"delete from xero2\"\n",
    "x  = cur.execute(sql)"
   ]
  },
  {
   "cell_type": "code",
   "execution_count": 60,
   "id": "f68d2541",
   "metadata": {},
   "outputs": [],
   "source": [
    "sql = \"select * from xero3\"\n",
    "x  = cur.execute(sql)\n",
    "df = pd.DataFrame(cur.fetchall())"
   ]
  },
  {
   "cell_type": "code",
   "execution_count": 62,
   "id": "bc71675f",
   "metadata": {},
   "outputs": [
    {
     "data": {
      "text/plain": [
       "(15303, 3)"
      ]
     },
     "execution_count": 62,
     "metadata": {},
     "output_type": "execute_result"
    }
   ],
   "source": [
    "df.shape"
   ]
  },
  {
   "cell_type": "code",
   "execution_count": 63,
   "id": "d3fbdd60",
   "metadata": {},
   "outputs": [
    {
     "data": {
      "text/html": [
       "<div>\n",
       "<style scoped>\n",
       "    .dataframe tbody tr th:only-of-type {\n",
       "        vertical-align: middle;\n",
       "    }\n",
       "\n",
       "    .dataframe tbody tr th {\n",
       "        vertical-align: top;\n",
       "    }\n",
       "\n",
       "    .dataframe thead th {\n",
       "        text-align: right;\n",
       "    }\n",
       "</style>\n",
       "<table border=\"1\" class=\"dataframe\">\n",
       "  <thead>\n",
       "    <tr style=\"text-align: right;\">\n",
       "      <th></th>\n",
       "      <th>0</th>\n",
       "      <th>1</th>\n",
       "      <th>2</th>\n",
       "    </tr>\n",
       "  </thead>\n",
       "  <tbody>\n",
       "    <tr>\n",
       "      <th>0</th>\n",
       "      <td>LCA Elizabeth Pty Limited</td>\n",
       "      <td>Revenue</td>\n",
       "      <td>Earned Revenue</td>\n",
       "    </tr>\n",
       "    <tr>\n",
       "      <th>1</th>\n",
       "      <td>LCA Elizabeth Pty Limited</td>\n",
       "      <td>Revenue</td>\n",
       "      <td>Interest Income</td>\n",
       "    </tr>\n",
       "    <tr>\n",
       "      <th>2</th>\n",
       "      <td>LCA Elizabeth Pty Limited</td>\n",
       "      <td>Revenue</td>\n",
       "      <td>Lease Incentive</td>\n",
       "    </tr>\n",
       "    <tr>\n",
       "      <th>3</th>\n",
       "      <td>LCA Elizabeth Pty Limited</td>\n",
       "      <td>Revenue</td>\n",
       "      <td>Sales Commission</td>\n",
       "    </tr>\n",
       "    <tr>\n",
       "      <th>4</th>\n",
       "      <td>LCA Elizabeth Pty Limited</td>\n",
       "      <td>Expenses</td>\n",
       "      <td>Opening Stock</td>\n",
       "    </tr>\n",
       "  </tbody>\n",
       "</table>\n",
       "</div>"
      ],
      "text/plain": [
       "                           0         1                 2\n",
       "0  LCA Elizabeth Pty Limited   Revenue    Earned Revenue\n",
       "1  LCA Elizabeth Pty Limited   Revenue   Interest Income\n",
       "2  LCA Elizabeth Pty Limited   Revenue   Lease Incentive\n",
       "3  LCA Elizabeth Pty Limited   Revenue  Sales Commission\n",
       "4  LCA Elizabeth Pty Limited  Expenses     Opening Stock"
      ]
     },
     "execution_count": 63,
     "metadata": {},
     "output_type": "execute_result"
    }
   ],
   "source": [
    "df.head(5)"
   ]
  },
  {
   "cell_type": "markdown",
   "id": "5d75f238",
   "metadata": {},
   "source": [
    "# Example to load csv to table in snowflake via python, esp date format\n",
    "https://docs.snowflake.com/en/user-guide/python-connector-example.html#creating-tables-and-inserting-data"
   ]
  },
  {
   "cell_type": "code",
   "execution_count": 125,
   "id": "4bc7cc67",
   "metadata": {},
   "outputs": [],
   "source": [
    "import snowflake.connector\n",
    "import pandas as pd\n",
    "import numpy as np\n",
    "ctx = snowflake.connector.connect(\n",
    "    account = 'xb05962.australia-east.azure',\n",
    "    user = 'Ronnyc',\n",
    "    password = 'Ronchi1989',\n",
    "    warehouse = 'FINANCE',\n",
    "    database = 'FINANCE_TEAM',\n",
    "    schema = 'PUBLIC'\n",
    ")\n",
    "cur = ctx.cursor()"
   ]
  },
  {
   "cell_type": "code",
   "execution_count": 126,
   "id": "902c030f",
   "metadata": {},
   "outputs": [
    {
     "data": {
      "text/plain": [
       "<snowflake.connector.cursor.SnowflakeCursor at 0x1fd3eb9b2e0>"
      ]
     },
     "execution_count": 126,
     "metadata": {},
     "output_type": "execute_result"
    }
   ],
   "source": [
    "# create table with date\n",
    "cur.execute (\"alter session set DATE_INPUT_FORMAT = 'DD/MM/YYYY'\")\n",
    "cur.execute (\n",
    "            \"create or replace table \"\n",
    "            \"mydate(Date date)\"\n",
    "            )"
   ]
  },
  {
   "cell_type": "code",
   "execution_count": 127,
   "id": "b8d5c3ae",
   "metadata": {},
   "outputs": [
    {
     "data": {
      "text/plain": [
       "<snowflake.connector.cursor.SnowflakeCursor at 0x1fd3eb9b2e0>"
      ]
     },
     "execution_count": 127,
     "metadata": {},
     "output_type": "execute_result"
    }
   ],
   "source": [
    "### Load csv files start with test*\n",
    "cur.execute(\"PUT file:///tmp/Book* @%mydate\")\n",
    "cur.execute(\"COPY INTO mydate\")\n"
   ]
  },
  {
   "cell_type": "code",
   "execution_count": 128,
   "id": "1177c860",
   "metadata": {},
   "outputs": [
    {
     "data": {
      "text/html": [
       "<div>\n",
       "<style scoped>\n",
       "    .dataframe tbody tr th:only-of-type {\n",
       "        vertical-align: middle;\n",
       "    }\n",
       "\n",
       "    .dataframe tbody tr th {\n",
       "        vertical-align: top;\n",
       "    }\n",
       "\n",
       "    .dataframe thead th {\n",
       "        text-align: right;\n",
       "    }\n",
       "</style>\n",
       "<table border=\"1\" class=\"dataframe\">\n",
       "  <thead>\n",
       "    <tr style=\"text-align: right;\">\n",
       "      <th></th>\n",
       "      <th>0</th>\n",
       "    </tr>\n",
       "  </thead>\n",
       "  <tbody>\n",
       "    <tr>\n",
       "      <th>0</th>\n",
       "      <td>2021-01-01</td>\n",
       "    </tr>\n",
       "    <tr>\n",
       "      <th>1</th>\n",
       "      <td>2021-01-02</td>\n",
       "    </tr>\n",
       "    <tr>\n",
       "      <th>2</th>\n",
       "      <td>2021-01-03</td>\n",
       "    </tr>\n",
       "    <tr>\n",
       "      <th>3</th>\n",
       "      <td>2021-01-04</td>\n",
       "    </tr>\n",
       "    <tr>\n",
       "      <th>4</th>\n",
       "      <td>2021-01-05</td>\n",
       "    </tr>\n",
       "    <tr>\n",
       "      <th>5</th>\n",
       "      <td>2021-01-06</td>\n",
       "    </tr>\n",
       "    <tr>\n",
       "      <th>6</th>\n",
       "      <td>2021-01-07</td>\n",
       "    </tr>\n",
       "    <tr>\n",
       "      <th>7</th>\n",
       "      <td>2021-01-08</td>\n",
       "    </tr>\n",
       "    <tr>\n",
       "      <th>8</th>\n",
       "      <td>2021-01-09</td>\n",
       "    </tr>\n",
       "    <tr>\n",
       "      <th>9</th>\n",
       "      <td>2021-01-10</td>\n",
       "    </tr>\n",
       "    <tr>\n",
       "      <th>10</th>\n",
       "      <td>2021-01-11</td>\n",
       "    </tr>\n",
       "    <tr>\n",
       "      <th>11</th>\n",
       "      <td>2021-01-12</td>\n",
       "    </tr>\n",
       "    <tr>\n",
       "      <th>12</th>\n",
       "      <td>2021-01-13</td>\n",
       "    </tr>\n",
       "    <tr>\n",
       "      <th>13</th>\n",
       "      <td>2021-01-14</td>\n",
       "    </tr>\n",
       "    <tr>\n",
       "      <th>14</th>\n",
       "      <td>2021-01-15</td>\n",
       "    </tr>\n",
       "  </tbody>\n",
       "</table>\n",
       "</div>"
      ],
      "text/plain": [
       "             0\n",
       "0   2021-01-01\n",
       "1   2021-01-02\n",
       "2   2021-01-03\n",
       "3   2021-01-04\n",
       "4   2021-01-05\n",
       "5   2021-01-06\n",
       "6   2021-01-07\n",
       "7   2021-01-08\n",
       "8   2021-01-09\n",
       "9   2021-01-10\n",
       "10  2021-01-11\n",
       "11  2021-01-12\n",
       "12  2021-01-13\n",
       "13  2021-01-14\n",
       "14  2021-01-15"
      ]
     },
     "execution_count": 128,
     "metadata": {},
     "output_type": "execute_result"
    }
   ],
   "source": [
    "# check the results \n",
    "\n",
    "sql = \"select * from mydate\"\n",
    "x  = cur.execute(sql)\n",
    "m = cur.fetchall()\n",
    "\n",
    "pd.DataFrame(m)"
   ]
  },
  {
   "cell_type": "code",
   "execution_count": null,
   "id": "cd10e8ac",
   "metadata": {},
   "outputs": [],
   "source": []
  },
  {
   "cell_type": "code",
   "execution_count": null,
   "id": "f1acebb4",
   "metadata": {},
   "outputs": [],
   "source": []
  },
  {
   "cell_type": "code",
   "execution_count": null,
   "id": "6b4f2381",
   "metadata": {},
   "outputs": [],
   "source": []
  },
  {
   "cell_type": "markdown",
   "id": "612a9f59",
   "metadata": {},
   "source": [
    "# LOADING XERO\n",
    "\n",
    "In Snowflake, you need to do alter session to make sure the date format the same with your csv input format. \n",
    "In this case, you will run alter session set DATE_INPUT_FORMAT = 'DD/MM/YYYY' so your csv will load properly."
   ]
  },
  {
   "cell_type": "code",
   "execution_count": 2,
   "id": "84301b56",
   "metadata": {},
   "outputs": [],
   "source": [
    "import snowflake.connector\n",
    "import pandas as pd\n",
    "import numpy as np\n",
    "ctx = snowflake.connector.connect(\n",
    "    account = 'xb05962.australia-east.azure',\n",
    "    user = 'Ronnyc',\n",
    "    password = 'Ronchi1989',\n",
    "    warehouse = 'FINANCE',\n",
    "    database = 'FINANCE_TEAM',\n",
    "    schema = 'PUBLIC'\n",
    ")\n",
    "cur = ctx.cursor()"
   ]
  },
  {
   "cell_type": "code",
   "execution_count": 3,
   "id": "0bf3a5dd",
   "metadata": {},
   "outputs": [
    {
     "data": {
      "text/plain": [
       "<snowflake.connector.cursor.SnowflakeCursor at 0x21e8c04eee0>"
      ]
     },
     "execution_count": 3,
     "metadata": {},
     "output_type": "execute_result"
    }
   ],
   "source": [
    "\n",
    "# create table with date\n",
    "cur.execute (\"alter session set DATE_INPUT_FORMAT = 'DD/MM/YYYY'\")\n",
    "cur.execute (\n",
    "            \"create or replace table \"\n",
    "            \"Xero(Date date, Organisation varchar(100), Section varchar(50), AcctCode varchar(50), AcctName varchar(100), Dr number(10,0), Cr number(10,0), YTD_Dr number(10,0), YTD_Cr number(10,0))\"\n",
    "            )"
   ]
  },
  {
   "cell_type": "code",
   "execution_count": 157,
   "id": "ea9807a3",
   "metadata": {},
   "outputs": [],
   "source": [
    "# normal insert\n",
    "#cur.execute(\"insert into mydate values \" + \"('08/24/21')\")"
   ]
  },
  {
   "cell_type": "code",
   "execution_count": 6,
   "id": "df151204",
   "metadata": {},
   "outputs": [
    {
     "ename": "ProgrammingError",
     "evalue": "100080 (22000): Number of columns in file (8) does not match that of the corresponding table (9), use file format option error_on_column_count_mismatch=false to ignore this error\n  File '@XERO/Test.csv.gz', line 2, character 1\n  Row 1 starts at line 1, column \"XERO\"[\"YTD_DR\":8]\n  If you would like to continue loading when an error is encountered, use other values such as 'SKIP_FILE' or 'CONTINUE' for the ON_ERROR option. For more information on loading options, please run 'info loading_data' in a SQL client.",
     "output_type": "error",
     "traceback": [
      "\u001b[1;31m---------------------------------------------------------------------------\u001b[0m",
      "\u001b[1;31mProgrammingError\u001b[0m                          Traceback (most recent call last)",
      "\u001b[1;32m<ipython-input-6-ab8ed544bbaf>\u001b[0m in \u001b[0;36m<module>\u001b[1;34m\u001b[0m\n\u001b[0;32m      1\u001b[0m \u001b[1;31m### Load csv files start with test*\u001b[0m\u001b[1;33m\u001b[0m\u001b[1;33m\u001b[0m\u001b[1;33m\u001b[0m\u001b[0m\n\u001b[0;32m      2\u001b[0m \u001b[0mcur\u001b[0m\u001b[1;33m.\u001b[0m\u001b[0mexecute\u001b[0m\u001b[1;33m(\u001b[0m\u001b[1;34m\"PUT file:///tmp/Test* @%Xero\"\u001b[0m\u001b[1;33m)\u001b[0m\u001b[1;33m\u001b[0m\u001b[1;33m\u001b[0m\u001b[0m\n\u001b[1;32m----> 3\u001b[1;33m \u001b[0mcur\u001b[0m\u001b[1;33m.\u001b[0m\u001b[0mexecute\u001b[0m\u001b[1;33m(\u001b[0m\u001b[1;34m\"COPY INTO Xero\"\u001b[0m\u001b[1;33m)\u001b[0m\u001b[1;33m\u001b[0m\u001b[1;33m\u001b[0m\u001b[0m\n\u001b[0m",
      "\u001b[1;32m~\\Anaconda3\\lib\\site-packages\\snowflake\\connector\\cursor.py\u001b[0m in \u001b[0;36mexecute\u001b[1;34m(self, command, params, _bind_stage, timeout, _exec_async, _do_reset, _put_callback, _put_azure_callback, _put_callback_output_stream, _get_callback, _get_azure_callback, _get_callback_output_stream, _show_progress_bar, _statement_params, _is_internal, _describe_only, _no_results, _use_ijson, _is_put_get, _raise_put_get_error, _force_put_overwrite, file_stream)\u001b[0m\n\u001b[0;32m    779\u001b[0m                 \u001b[1;34m\"sfqid\"\u001b[0m\u001b[1;33m:\u001b[0m \u001b[0mself\u001b[0m\u001b[1;33m.\u001b[0m\u001b[0m_sfqid\u001b[0m\u001b[1;33m,\u001b[0m\u001b[1;33m\u001b[0m\u001b[1;33m\u001b[0m\u001b[0m\n\u001b[0;32m    780\u001b[0m             }\n\u001b[1;32m--> 781\u001b[1;33m             Error.errorhandler_wrapper(\n\u001b[0m\u001b[0;32m    782\u001b[0m                 \u001b[0mself\u001b[0m\u001b[1;33m.\u001b[0m\u001b[0mconnection\u001b[0m\u001b[1;33m,\u001b[0m \u001b[0mself\u001b[0m\u001b[1;33m,\u001b[0m \u001b[0mProgrammingError\u001b[0m\u001b[1;33m,\u001b[0m \u001b[0merrvalue\u001b[0m\u001b[1;33m\u001b[0m\u001b[1;33m\u001b[0m\u001b[0m\n\u001b[0;32m    783\u001b[0m             )\n",
      "\u001b[1;32m~\\Anaconda3\\lib\\site-packages\\snowflake\\connector\\errors.py\u001b[0m in \u001b[0;36merrorhandler_wrapper\u001b[1;34m(connection, cursor, error_class, error_value)\u001b[0m\n\u001b[0;32m    266\u001b[0m         \"\"\"\n\u001b[0;32m    267\u001b[0m \u001b[1;33m\u001b[0m\u001b[0m\n\u001b[1;32m--> 268\u001b[1;33m         handed_over = Error.hand_to_other_handler(\n\u001b[0m\u001b[0;32m    269\u001b[0m             \u001b[0mconnection\u001b[0m\u001b[1;33m,\u001b[0m\u001b[1;33m\u001b[0m\u001b[1;33m\u001b[0m\u001b[0m\n\u001b[0;32m    270\u001b[0m             \u001b[0mcursor\u001b[0m\u001b[1;33m,\u001b[0m\u001b[1;33m\u001b[0m\u001b[1;33m\u001b[0m\u001b[0m\n",
      "\u001b[1;32m~\\Anaconda3\\lib\\site-packages\\snowflake\\connector\\errors.py\u001b[0m in \u001b[0;36mhand_to_other_handler\u001b[1;34m(connection, cursor, error_class, error_value)\u001b[0m\n\u001b[0;32m    321\u001b[0m         \u001b[1;32mif\u001b[0m \u001b[0mcursor\u001b[0m \u001b[1;32mis\u001b[0m \u001b[1;32mnot\u001b[0m \u001b[1;32mNone\u001b[0m\u001b[1;33m:\u001b[0m\u001b[1;33m\u001b[0m\u001b[1;33m\u001b[0m\u001b[0m\n\u001b[0;32m    322\u001b[0m             \u001b[0mcursor\u001b[0m\u001b[1;33m.\u001b[0m\u001b[0mmessages\u001b[0m\u001b[1;33m.\u001b[0m\u001b[0mappend\u001b[0m\u001b[1;33m(\u001b[0m\u001b[1;33m(\u001b[0m\u001b[0merror_class\u001b[0m\u001b[1;33m,\u001b[0m \u001b[0merror_value\u001b[0m\u001b[1;33m)\u001b[0m\u001b[1;33m)\u001b[0m\u001b[1;33m\u001b[0m\u001b[1;33m\u001b[0m\u001b[0m\n\u001b[1;32m--> 323\u001b[1;33m             \u001b[0mcursor\u001b[0m\u001b[1;33m.\u001b[0m\u001b[0merrorhandler\u001b[0m\u001b[1;33m(\u001b[0m\u001b[0mconnection\u001b[0m\u001b[1;33m,\u001b[0m \u001b[0mcursor\u001b[0m\u001b[1;33m,\u001b[0m \u001b[0merror_class\u001b[0m\u001b[1;33m,\u001b[0m \u001b[0merror_value\u001b[0m\u001b[1;33m)\u001b[0m\u001b[1;33m\u001b[0m\u001b[1;33m\u001b[0m\u001b[0m\n\u001b[0m\u001b[0;32m    324\u001b[0m             \u001b[1;32mreturn\u001b[0m \u001b[1;32mTrue\u001b[0m\u001b[1;33m\u001b[0m\u001b[1;33m\u001b[0m\u001b[0m\n\u001b[0;32m    325\u001b[0m         \u001b[1;32melif\u001b[0m \u001b[0mconnection\u001b[0m \u001b[1;32mis\u001b[0m \u001b[1;32mnot\u001b[0m \u001b[1;32mNone\u001b[0m\u001b[1;33m:\u001b[0m\u001b[1;33m\u001b[0m\u001b[1;33m\u001b[0m\u001b[0m\n",
      "\u001b[1;32m~\\Anaconda3\\lib\\site-packages\\snowflake\\connector\\errors.py\u001b[0m in \u001b[0;36mdefault_errorhandler\u001b[1;34m(connection, cursor, error_class, error_value)\u001b[0m\n\u001b[0;32m    200\u001b[0m             \u001b[0mA\u001b[0m \u001b[0mSnowflake\u001b[0m \u001b[0merror\u001b[0m\u001b[1;33m.\u001b[0m\u001b[1;33m\u001b[0m\u001b[1;33m\u001b[0m\u001b[0m\n\u001b[0;32m    201\u001b[0m         \"\"\"\n\u001b[1;32m--> 202\u001b[1;33m         raise error_class(\n\u001b[0m\u001b[0;32m    203\u001b[0m             \u001b[0mmsg\u001b[0m\u001b[1;33m=\u001b[0m\u001b[0merror_value\u001b[0m\u001b[1;33m.\u001b[0m\u001b[0mget\u001b[0m\u001b[1;33m(\u001b[0m\u001b[1;34m\"msg\"\u001b[0m\u001b[1;33m)\u001b[0m\u001b[1;33m,\u001b[0m\u001b[1;33m\u001b[0m\u001b[1;33m\u001b[0m\u001b[0m\n\u001b[0;32m    204\u001b[0m             \u001b[0merrno\u001b[0m\u001b[1;33m=\u001b[0m\u001b[0merror_value\u001b[0m\u001b[1;33m.\u001b[0m\u001b[0mget\u001b[0m\u001b[1;33m(\u001b[0m\u001b[1;34m\"errno\"\u001b[0m\u001b[1;33m)\u001b[0m\u001b[1;33m,\u001b[0m\u001b[1;33m\u001b[0m\u001b[1;33m\u001b[0m\u001b[0m\n",
      "\u001b[1;31mProgrammingError\u001b[0m: 100080 (22000): Number of columns in file (8) does not match that of the corresponding table (9), use file format option error_on_column_count_mismatch=false to ignore this error\n  File '@XERO/Test.csv.gz', line 2, character 1\n  Row 1 starts at line 1, column \"XERO\"[\"YTD_DR\":8]\n  If you would like to continue loading when an error is encountered, use other values such as 'SKIP_FILE' or 'CONTINUE' for the ON_ERROR option. For more information on loading options, please run 'info loading_data' in a SQL client."
     ]
    }
   ],
   "source": [
    "### Load csv files start with test*\n",
    "cur.execute(\"PUT file:///tmp/Test* @%Xero\")\n",
    "cur.execute(\"COPY INTO Xero\")\n"
   ]
  },
  {
   "cell_type": "code",
   "execution_count": 5,
   "id": "97c16fe2",
   "metadata": {},
   "outputs": [
    {
     "data": {
      "text/html": [
       "<div>\n",
       "<style scoped>\n",
       "    .dataframe tbody tr th:only-of-type {\n",
       "        vertical-align: middle;\n",
       "    }\n",
       "\n",
       "    .dataframe tbody tr th {\n",
       "        vertical-align: top;\n",
       "    }\n",
       "\n",
       "    .dataframe thead th {\n",
       "        text-align: right;\n",
       "    }\n",
       "</style>\n",
       "<table border=\"1\" class=\"dataframe\">\n",
       "  <thead>\n",
       "    <tr style=\"text-align: right;\">\n",
       "      <th></th>\n",
       "      <th>0</th>\n",
       "      <th>1</th>\n",
       "      <th>2</th>\n",
       "      <th>3</th>\n",
       "      <th>4</th>\n",
       "      <th>5</th>\n",
       "      <th>6</th>\n",
       "      <th>7</th>\n",
       "      <th>8</th>\n",
       "    </tr>\n",
       "  </thead>\n",
       "  <tbody>\n",
       "    <tr>\n",
       "      <th>0</th>\n",
       "      <td>2021-10-31</td>\n",
       "      <td>LCA Elizabeth Pty Limited</td>\n",
       "      <td>Revenue</td>\n",
       "      <td>41000</td>\n",
       "      <td>Earned Revenue</td>\n",
       "      <td>NaN</td>\n",
       "      <td>154984.0</td>\n",
       "      <td>NaN</td>\n",
       "      <td>626644.0</td>\n",
       "    </tr>\n",
       "    <tr>\n",
       "      <th>1</th>\n",
       "      <td>2021-10-31</td>\n",
       "      <td>LCA Elizabeth Pty Limited</td>\n",
       "      <td>Revenue</td>\n",
       "      <td>81000</td>\n",
       "      <td>Interest Income</td>\n",
       "      <td>NaN</td>\n",
       "      <td>1.0</td>\n",
       "      <td>NaN</td>\n",
       "      <td>3.0</td>\n",
       "    </tr>\n",
       "    <tr>\n",
       "      <th>2</th>\n",
       "      <td>2021-10-31</td>\n",
       "      <td>LCA Elizabeth Pty Limited</td>\n",
       "      <td>Revenue</td>\n",
       "      <td>82000</td>\n",
       "      <td>Lease Incentive</td>\n",
       "      <td>NaN</td>\n",
       "      <td>3611.0</td>\n",
       "      <td>NaN</td>\n",
       "      <td>14444.0</td>\n",
       "    </tr>\n",
       "    <tr>\n",
       "      <th>3</th>\n",
       "      <td>2021-10-31</td>\n",
       "      <td>LCA Elizabeth Pty Limited</td>\n",
       "      <td>Revenue</td>\n",
       "      <td>41010</td>\n",
       "      <td>Sales Commission</td>\n",
       "      <td>NaN</td>\n",
       "      <td>12.0</td>\n",
       "      <td>NaN</td>\n",
       "      <td>114.0</td>\n",
       "    </tr>\n",
       "    <tr>\n",
       "      <th>4</th>\n",
       "      <td>2021-10-31</td>\n",
       "      <td>LCA Elizabeth Pty Limited</td>\n",
       "      <td>Expenses</td>\n",
       "      <td>50500</td>\n",
       "      <td>Opening Stock</td>\n",
       "      <td>39762.0</td>\n",
       "      <td>NaN</td>\n",
       "      <td>192103.0</td>\n",
       "      <td>NaN</td>\n",
       "    </tr>\n",
       "    <tr>\n",
       "      <th>...</th>\n",
       "      <td>...</td>\n",
       "      <td>...</td>\n",
       "      <td>...</td>\n",
       "      <td>...</td>\n",
       "      <td>...</td>\n",
       "      <td>...</td>\n",
       "      <td>...</td>\n",
       "      <td>...</td>\n",
       "      <td>...</td>\n",
       "    </tr>\n",
       "    <tr>\n",
       "      <th>15298</th>\n",
       "      <td>2021-10-31</td>\n",
       "      <td>LCA Roselands Pty Ltd</td>\n",
       "      <td>Liabilities</td>\n",
       "      <td>21410</td>\n",
       "      <td>Superannuation Payable</td>\n",
       "      <td>1191.0</td>\n",
       "      <td>NaN</td>\n",
       "      <td>NaN</td>\n",
       "      <td>1133.0</td>\n",
       "    </tr>\n",
       "    <tr>\n",
       "      <th>15299</th>\n",
       "      <td>2021-10-31</td>\n",
       "      <td>LCA Roselands Pty Ltd</td>\n",
       "      <td>Liabilities</td>\n",
       "      <td>21200</td>\n",
       "      <td>Trade Creditors</td>\n",
       "      <td>NaN</td>\n",
       "      <td>28168.0</td>\n",
       "      <td>NaN</td>\n",
       "      <td>139115.0</td>\n",
       "    </tr>\n",
       "    <tr>\n",
       "      <th>15300</th>\n",
       "      <td>2021-10-31</td>\n",
       "      <td>LCA Roselands Pty Ltd</td>\n",
       "      <td>Equity</td>\n",
       "      <td>31000</td>\n",
       "      <td>Issued Shares</td>\n",
       "      <td>NaN</td>\n",
       "      <td>0.0</td>\n",
       "      <td>NaN</td>\n",
       "      <td>100.0</td>\n",
       "    </tr>\n",
       "    <tr>\n",
       "      <th>15301</th>\n",
       "      <td>2021-10-31</td>\n",
       "      <td>LCA Roselands Pty Ltd</td>\n",
       "      <td>Equity</td>\n",
       "      <td>38000</td>\n",
       "      <td>Retained Earnings</td>\n",
       "      <td>NaN</td>\n",
       "      <td>0.0</td>\n",
       "      <td>29316.0</td>\n",
       "      <td>NaN</td>\n",
       "    </tr>\n",
       "    <tr>\n",
       "      <th>15302</th>\n",
       "      <td>2021-10-31</td>\n",
       "      <td>LCA Roselands Pty Ltd</td>\n",
       "      <td>Equity</td>\n",
       "      <td>31001</td>\n",
       "      <td>Tax Benefits Carried Forward</td>\n",
       "      <td>NaN</td>\n",
       "      <td>0.0</td>\n",
       "      <td>NaN</td>\n",
       "      <td>19508.0</td>\n",
       "    </tr>\n",
       "  </tbody>\n",
       "</table>\n",
       "<p>15303 rows × 9 columns</p>\n",
       "</div>"
      ],
      "text/plain": [
       "                0                          1            2      3  \\\n",
       "0      2021-10-31  LCA Elizabeth Pty Limited      Revenue  41000   \n",
       "1      2021-10-31  LCA Elizabeth Pty Limited      Revenue  81000   \n",
       "2      2021-10-31  LCA Elizabeth Pty Limited      Revenue  82000   \n",
       "3      2021-10-31  LCA Elizabeth Pty Limited      Revenue  41010   \n",
       "4      2021-10-31  LCA Elizabeth Pty Limited     Expenses  50500   \n",
       "...           ...                        ...          ...    ...   \n",
       "15298  2021-10-31      LCA Roselands Pty Ltd  Liabilities  21410   \n",
       "15299  2021-10-31      LCA Roselands Pty Ltd  Liabilities  21200   \n",
       "15300  2021-10-31      LCA Roselands Pty Ltd       Equity  31000   \n",
       "15301  2021-10-31      LCA Roselands Pty Ltd       Equity  38000   \n",
       "15302  2021-10-31      LCA Roselands Pty Ltd       Equity  31001   \n",
       "\n",
       "                                  4        5         6         7         8  \n",
       "0                    Earned Revenue      NaN  154984.0       NaN  626644.0  \n",
       "1                   Interest Income      NaN       1.0       NaN       3.0  \n",
       "2                   Lease Incentive      NaN    3611.0       NaN   14444.0  \n",
       "3                  Sales Commission      NaN      12.0       NaN     114.0  \n",
       "4                     Opening Stock  39762.0       NaN  192103.0       NaN  \n",
       "...                             ...      ...       ...       ...       ...  \n",
       "15298        Superannuation Payable   1191.0       NaN       NaN    1133.0  \n",
       "15299               Trade Creditors      NaN   28168.0       NaN  139115.0  \n",
       "15300                 Issued Shares      NaN       0.0       NaN     100.0  \n",
       "15301             Retained Earnings      NaN       0.0   29316.0       NaN  \n",
       "15302  Tax Benefits Carried Forward      NaN       0.0       NaN   19508.0  \n",
       "\n",
       "[15303 rows x 9 columns]"
      ]
     },
     "execution_count": 5,
     "metadata": {},
     "output_type": "execute_result"
    }
   ],
   "source": [
    "# check the results \n",
    "\n",
    "sql = \"select * from xero\"\n",
    "x  = cur.execute(sql)\n",
    "m = cur.fetchall()\n",
    "\n",
    "pd.DataFrame(m)"
   ]
  },
  {
   "cell_type": "code",
   "execution_count": null,
   "id": "8dca110a",
   "metadata": {},
   "outputs": [],
   "source": [
    "Date;XeroOrganisation,SectionName;AccountCode;AccountName;Debit;Credit;YTD Debit;YTD Credit\n",
    "\n",
    "\n",
    "# create table with date\n",
    "cur.execute (\"alter session set DATE_INPUT_FORMAT = 'MM/DD/YYYY'\")\n",
    "cur.execute (\n",
    "            \"create or replace table \"\n",
    "            \"xero(date date)\"\n",
    "            )\n"
   ]
  }
 ],
 "metadata": {
  "kernelspec": {
   "display_name": "Python 3",
   "language": "python",
   "name": "python3"
  },
  "language_info": {
   "codemirror_mode": {
    "name": "ipython",
    "version": 3
   },
   "file_extension": ".py",
   "mimetype": "text/x-python",
   "name": "python",
   "nbconvert_exporter": "python",
   "pygments_lexer": "ipython3",
   "version": "3.8.8"
  }
 },
 "nbformat": 4,
 "nbformat_minor": 5
}
