{
 "cells": [
  {
   "cell_type": "code",
   "execution_count": null,
   "id": "f41865b9",
   "metadata": {},
   "outputs": [],
   "source": [
    "# install some of the modules first\n",
    "pip install mouse\n",
    "pip install keyboard\n",
    "pip install pickle"
   ]
  },
  {
   "cell_type": "code",
   "execution_count": 2,
   "id": "968f43ef",
   "metadata": {},
   "outputs": [
    {
     "name": "stdout",
     "output_type": "stream",
     "text": [
      "Mouse movement name?? :\n",
      "mouse1\n"
     ]
    }
   ],
   "source": [
    "import mouse\n",
    "import keyboard\n",
    "import pickle\n",
    "\n",
    "file = input('Mouse movement name?? :\\n')\n",
    "file = file + '.txt'\n",
    "\n",
    "# simple recording of mouse events\n",
    "\n",
    "# put to list\n",
    "mouse_events = []\n",
    "\n",
    "# start recording\n",
    "mouse.hook(mouse_events.append)\n",
    "\n",
    "\n",
    "#kb = keyboard.record(until ='Esc')\n",
    "\n",
    "#press Esc to kill the event\n",
    "if not keyboard.wait(\"Esc\"):\n",
    "    mouse.unhook_all()\n",
    "    # save the recording    \n",
    "    with open(file, 'wb') as fh:\n",
    "       pickle.dump(mouse_events, fh)\n"
   ]
  },
  {
   "cell_type": "code",
   "execution_count": null,
   "id": "d14e6342",
   "metadata": {},
   "outputs": [],
   "source": [
    "# open the recording\n",
    "pickle_off = open (file, \"rb\")\n",
    "emp = pickle.load(pickle_off)\n",
    "\n",
    "\n",
    "# replay the events\n",
    "mouse.play(emp)"
   ]
  },
  {
   "cell_type": "markdown",
   "id": "c37cbee1",
   "metadata": {},
   "source": [
    "# Enhanced version to combine mouse and keyboard"
   ]
  },
  {
   "cell_type": "code",
   "execution_count": 15,
   "id": "1caf76de",
   "metadata": {},
   "outputs": [
    {
     "name": "stdout",
     "output_type": "stream",
     "text": [
      "Initial List \n",
      "                Event    X    Y          Time  Duration\n",
      "0  Mouse Click Event  978  761  1.637320e+09  0.000000\n",
      "1  Mouse Click Event  306   22  1.637320e+09  2.051286\n",
      "2  Mouse Click Event  601  246  1.637320e+09  1.568961\n",
      "3  Mouse Click Event  783  240  1.637320e+09  2.251745\n",
      "4  Mouse Click Event  743  287  1.637320e+09  2.951008 \n",
      "\n",
      " New list \n",
      "                Event    X    Y          Time  Duration\n",
      "0  Mouse Click Event  978  761  1.637320e+09  0.000000\n",
      "1  Mouse Click Event  306   22  1.637320e+09  2.051286\n",
      "2  Mouse Click Event  601  246  1.637320e+09  1.568961\n",
      "3  Mouse Click Event  783  240  1.637320e+09  2.251745\n",
      "4  Mouse Click Event  743  287  1.637320e+09  2.951008\n"
     ]
    }
   ],
   "source": [
    "\n",
    "import mouse\n",
    "import keyboard            \n",
    "import pickle\n",
    "import pandas as pd\n",
    "\n",
    "mouse_events = []\n",
    "\n",
    "\n",
    "mouse.hook(mouse_events.append)\n",
    "keyboard.start_recording()\n",
    "\n",
    "keyboard.wait(\"Esc\")\n",
    "\n",
    "mouse.unhook(mouse_events.append)\n",
    "keyboard_events = keyboard.stop_recording()\n",
    "\n",
    "\n",
    "# put mouse results (click only) to list\n",
    "list = []\n",
    "\n",
    "for i in range(len(mouse_events)):\n",
    "    if mouse_events[i][0] == 'down':\n",
    "        # pick up previus coordinate\n",
    "        #row = i - 1\n",
    "        #x = mouse_events[row][0]\n",
    "        #y = mouse_events[row][1]     \n",
    "        #list.append([x,y])\n",
    "        \n",
    "        for chk in range(1,5):\n",
    "        #    # check previous 5 rows until you dont see 'down' or 'up' key\n",
    "            row = i - chk\n",
    "            if mouse_events[row][0] not in ('down','up'):\n",
    "                 x = mouse_events[row][0]\n",
    "                 y = mouse_events[row][1]     \n",
    "                 z = mouse_events[row][2]\n",
    "                 list.append(['Mouse Click Event',x,y,z])\n",
    "                 break   \n",
    "                \n",
    "# put keyboard results to list\n",
    "string = []\n",
    "stroke = []\n",
    "finalword = []\n",
    "\n",
    "for m in range(len(keyboard_events)):\n",
    "    mystring = str(keyboard_events[m])\n",
    "    letter = mystring[14:15]\n",
    "    if 'down' in mystring:\n",
    "        if 'backspace' in mystring:\n",
    "            #print (string)\n",
    "            string.pop()\n",
    "            #print (string)\n",
    "            #list.append(['Keyboard Event','backspace'])\n",
    "        elif 'space' in mystring:\n",
    "             #list.append(['Keyboard Event','space'])\n",
    "             string.append(' ')\n",
    "        elif 'enter' in mystring:\n",
    "               \n",
    "            if len(string) != 0 :\n",
    "                finalword = ''.join(string) \n",
    "                list.append(['Keyboard Write',finalword])\n",
    "                list.append(['Keyboard Event','enter'])\n",
    "                string = []\n",
    "            \n",
    "            #finalword = []\n",
    "            #string.append(' Enter ')\n",
    "        elif 'tab' in mystring:\n",
    "            #list.append(['Keyboard Event','enter'])\n",
    "            #string.append(' Tab ')\n",
    "            if len(string) != 0 :\n",
    "                finalword = ''.join(string) \n",
    "                list.append(['Keyboard Write',finalword])\n",
    "                list.append(['Keyboard Event','tab'])\n",
    "                string = []\n",
    "            \n",
    "        elif 'shift' in mystring:\n",
    "            # shift means nothing for this logic as it is just uppercase or lowercase\n",
    "            letter = ''\n",
    "            \n",
    "        elif 'esc' in mystring:\n",
    "            #list.append(['Ignore','esc'])\n",
    "            #print (mystring)\n",
    "            if len(string) != 0 :\n",
    "                finalword = ''.join(string) \n",
    "                list.append(['Keyboard Write',finalword])\n",
    "                list.append(['Keyboard Event','enter'])\n",
    "                string = []\n",
    "        else:\n",
    "            string.append(letter)\n",
    "            \n",
    "            \n",
    "# add duration to the list\n",
    "\n",
    "for index, i in enumerate(list):\n",
    "   try :\n",
    "    if index != 0:\n",
    "        now = list[index][3]\n",
    "        before = list[index-1][3]\n",
    "        duration = now - before\n",
    "        list[index].append(duration)\n",
    "    else:\n",
    "        list[index].append(0)\n",
    "   except:\n",
    "        break\n",
    "        \n",
    "        \n",
    "# tidy up the sequence between mouse and keyboards into a list\n",
    "\n",
    "import pyautogui as s\n",
    "import time\n",
    "\n",
    "tmp = []\n",
    "newlist = []\n",
    "#count = 0\n",
    "\n",
    "for index, i in enumerate(list):\n",
    "    if 'Mouse' in i[0]:             # mouse in string \n",
    "        time = i[4]                 # time column\n",
    "        if time < 2 and tmp == []:\n",
    "            newlist.append(i)\n",
    "        else:\n",
    "            # if time > 2 seconds, move them into tmp list\n",
    "            tmp.append(i)\n",
    "    elif 'Keyboard Write' in i[0]:\n",
    "        newlist.append(i)\n",
    "    elif 'Keyboard Event' in i[0]:\n",
    "        newlist.append(i)\n",
    "        \n",
    "        \n",
    "        # first check if it is a tab event\n",
    "        if i[0][1] == 'tab':\n",
    "            # add the next two events to the list\n",
    "            newlist.append(i+1)\n",
    "            newlist.append(i+2)\n",
    "        \n",
    "       \n",
    "        \n",
    "        else:\n",
    "        # after keyboard events will bring back those mouse events\n",
    "        # from tmp list after the keyboards.\n",
    "        # logic will loop until the next mouse event > 2 seconds\n",
    "        # at the moment assumption is typing will be more than 2 seconds.\n",
    "            for i in range(len(tmp)):\n",
    "\n",
    "                if i == 0:     # first event, straight back to the main list\n",
    "                    count = 0\n",
    "                    newlist.append(tmp[count])\n",
    "                    count += 1\n",
    "                    #tmp.pop(i)\n",
    "                    #i = i - 1\n",
    "                elif tmp[i][4] < 2:      # if less than 2 seconds, keep adding to main list\n",
    "                    newlist.append(tmp[count])\n",
    "                    count += 1\n",
    "                    #tmp.pop(i)\n",
    "                    #i = i -1\n",
    "                elif tmp[i][4] > 2:      # when the next keyboard even found (> 2 seconds), exit the loop\n",
    "                    break\n",
    "        \n",
    "# if no keyboard events, length of new list will be shorter than the original list\n",
    "# hence just use the original list\n",
    "\n",
    "if len(newlist) != len(list):\n",
    "    newlist = list\n",
    "            \n",
    "# save the recording    \n",
    "with open('record.txt', 'wb') as fh:\n",
    "   pickle.dump(newlist, fh)\n",
    "\n",
    "\n",
    "# open the recording\n",
    "pickle_off = open ('record.txt', \"rb\")\n",
    "newlist = pickle.load(pickle_off)\n",
    "\n",
    "\n",
    "\n",
    "# put to dataframes\n",
    "x1 = pd.DataFrame(list)\n",
    "x2 = pd.DataFrame(newlist)\n",
    "x1.columns = ['Event','X','Y','Time','Duration']\n",
    "x2.columns = ['Event','X','Y','Time','Duration']\n",
    "print ('Initial List \\n',x1,'\\n\\n','New list \\n',x2)\n",
    "\n",
    "   "
   ]
  },
  {
   "cell_type": "code",
   "execution_count": 16,
   "id": "2e96b952",
   "metadata": {},
   "outputs": [],
   "source": [
    "# replay the click        \n",
    "import pyautogui as s\n",
    "import time\n",
    "\n",
    "#newlist = list\n",
    "\n",
    "for i in range(len(newlist)):\n",
    "    if 'Mouse' in newlist[i][0]:\n",
    "        x = newlist[i][1]\n",
    "        y = newlist[i][2]\n",
    "        s.moveTo(x,y,0.7)\n",
    "        s.click()\n",
    "        time.sleep(2.5)\n",
    "    elif 'Write' in newlist[i][0]:\n",
    "        #break\n",
    "        #s.press('enter')\n",
    "        s.write(newlist[i][1],0.3)\n",
    "    elif 'tab' in newlist[i][1]:\n",
    "        s.press('tab')\n",
    "        time.sleep(0.8)\n",
    "    elif 'enter' in newlist[i][1]:\n",
    "        s.press('enter')\n",
    "        time.sleep(2.5)"
   ]
  },
  {
   "cell_type": "markdown",
   "id": "9e746903",
   "metadata": {},
   "source": [
    "##### work in progress version 2, to fix tab event e.g combank but still not working\n"
   ]
  },
  {
   "cell_type": "code",
   "execution_count": 11,
   "id": "371e0915",
   "metadata": {},
   "outputs": [],
   "source": [
    "# v2 recording\n",
    "\n",
    "\n",
    "\n",
    "import mouse\n",
    "import keyboard            \n",
    "import pickle\n",
    "\n",
    "mouse_events = []\n",
    "\n",
    "\n",
    "mouse.hook(mouse_events.append)\n",
    "keyboard.start_recording()\n",
    "\n",
    "keyboard.wait(\"Esc\")\n",
    "\n",
    "mouse.unhook(mouse_events.append)\n",
    "keyboard_events = keyboard.stop_recording()\n",
    "\n",
    "\n",
    "# put mouse results (click only) to list\n",
    "list = []\n",
    "\n",
    "for i in range(len(mouse_events)):\n",
    "    if mouse_events[i][0] == 'down':\n",
    "        # pick up previus coordinate\n",
    "        #row = i - 1\n",
    "        #x = mouse_events[row][0]\n",
    "        #y = mouse_events[row][1]     \n",
    "        #list.append([x,y])\n",
    "        \n",
    "        for chk in range(1,5):\n",
    "        #    # check previous 5 rows until you dont see 'down' or 'up' key\n",
    "            row = i - chk\n",
    "            if mouse_events[row][0] not in ('down','up'):\n",
    "                 x = mouse_events[row][0]\n",
    "                 y = mouse_events[row][1]     \n",
    "                 z = mouse_events[row][2]\n",
    "                 list.append(['Mouse Click Event',x,y,z])\n",
    "                 break   \n",
    "                \n",
    "# put keyboard results to list\n",
    "string = []\n",
    "stroke = []\n",
    "finalword = []\n",
    "\n",
    "for m in range(len(keyboard_events)):\n",
    "    mystring = str(keyboard_events[m])\n",
    "    letter = mystring[14:15]\n",
    "    if 'down' in mystring:\n",
    "        if 'backspace' in mystring:\n",
    "            #print (string)\n",
    "            string.pop()\n",
    "            #print (string)\n",
    "            #list.append(['Keyboard Event','backspace'])\n",
    "        elif 'space' in mystring:\n",
    "             #list.append(['Keyboard Event','space'])\n",
    "             string.append(' ')\n",
    "        elif 'enter' in mystring:\n",
    "               \n",
    "            if len(string) != 0 :\n",
    "                finalword = ''.join(string) \n",
    "                list.append(['Keyboard Write',finalword])\n",
    "                list.append(['Keyboard Event','enter'])\n",
    "                string = []\n",
    "            \n",
    "            #finalword = []\n",
    "            #string.append(' Enter ')\n",
    "        elif 'tab' in mystring:\n",
    "            #list.append(['Keyboard Event','enter'])\n",
    "            #string.append(' Tab ')\n",
    "            if len(string) != 0 :\n",
    "                finalword = ''.join(string) \n",
    "                list.append(['Keyboard Write',finalword])\n",
    "                list.append(['Keyboard Event','tab'])\n",
    "                string = []\n",
    "            \n",
    "        elif 'shift' in mystring:\n",
    "            # shift means nothing for this logic as it is just uppercase or lowercase\n",
    "            letter = ''\n",
    "            \n",
    "        elif 'esc' in mystring:\n",
    "            #list.append(['Ignore','esc'])\n",
    "            #print (mystring)\n",
    "            if len(string) != 0 :\n",
    "                finalword = ''.join(string) \n",
    "                list.append(['Keyboard Write',finalword])\n",
    "                list.append(['Keyboard Event','enter'])\n",
    "                string = []\n",
    "        else:\n",
    "            string.append(letter)\n",
    "            \n",
    "            \n",
    "# add duration to the list\n",
    "\n",
    "for index, i in enumerate(list):\n",
    "   try :\n",
    "    if index != 0:\n",
    "        now = list[index][3]\n",
    "        before = list[index-1][3]\n",
    "        duration = now - before\n",
    "        list[index].append(duration)\n",
    "    else:\n",
    "        list[index].append(0)\n",
    "   except:\n",
    "        break\n",
    "        \n",
    "        \n",
    "# tidy up the sequence between mouse and keyboards into a list\n",
    "\n",
    "import pyautogui as s\n",
    "import time\n",
    "\n",
    "tmp = []\n",
    "newlist = []\n",
    "count = 0\n",
    "\n",
    "for index, i in enumerate(list):\n",
    "    if 'Mouse' in i[0]:             # mouse in string \n",
    "        time = i[4]                 # time column\n",
    "        if time < 2 and tmp == []:\n",
    "            newlist.append(i)\n",
    "        else:\n",
    "            # if time > 2 seconds, move them into tmp list\n",
    "            tmp.append(i)\n",
    "    \n",
    "    elif 'Keyboard Write' in i[0] and i[1] != 'tab':\n",
    "        if status != 'skip':\n",
    "            newlist.append(i)\n",
    "            status = ''\n",
    "        else:\n",
    "            status = ''\n",
    "    elif 'Keyboard Event' in i[0] and i[1] != 'tab':\n",
    "        if status != 'skip':\n",
    "            newlist.append(i)\n",
    "        else:\n",
    "            status = ''\n",
    "    elif 'Keyboard Event' in i[0] and i[1] == 'tab':\n",
    "         newlist.append(i)\n",
    "         newlist.append(list[index+1])\n",
    "         newlist.append(list[index+2])\n",
    "         status = 'skip'\n",
    "        \n",
    "    else:\n",
    "    # after keyboard events will bring back those mouse events\n",
    "    # from tmp list after the keyboards.\n",
    "    # logic will loop until the next mouse event > 2 seconds\n",
    "    # at the moment assumption is typing will be more than 2 seconds.\n",
    "        for i in range(len(tmp)):\n",
    "\n",
    "            if i == 0:     # first event, straight back to the main list\n",
    "                newlist.append(tmp[count])\n",
    "                count += 1\n",
    "                #tmp.pop(i)\n",
    "                #i = i - 1\n",
    "            elif tmp[i][4] < 2:      # if less than 2 seconds, keep adding to main list\n",
    "                newlist.append(tmp[count])\n",
    "                count += 1\n",
    "                #tmp.pop(i)\n",
    "                #i = i -1\n",
    "            elif tmp[i][4] > 2:      # when the next keyboard even found (> 2 seconds), exit the loop\n",
    "                break\n",
    "        \n",
    "# if no keyboard events, length of new list will be shorter than the original list\n",
    "# hence just use the original list\n",
    "\n",
    "if len(newlist) != len(list):\n",
    "    newlist = list\n",
    "            \n",
    "# save the recording    \n",
    "with open('record.txt', 'wb') as fh:\n",
    "   pickle.dump(newlist, fh)\n",
    "\n",
    "\n",
    "# open the recording\n",
    "pickle_off = open ('record.txt', \"rb\")\n",
    "newlist = pickle.load(pickle_off)\n",
    "\n",
    "   \n"
   ]
  },
  {
   "cell_type": "code",
   "execution_count": null,
   "id": "31402d15",
   "metadata": {},
   "outputs": [],
   "source": []
  },
  {
   "cell_type": "code",
   "execution_count": null,
   "id": "e025f391",
   "metadata": {},
   "outputs": [],
   "source": []
  },
  {
   "cell_type": "code",
   "execution_count": null,
   "id": "d1a80e6e",
   "metadata": {},
   "outputs": [],
   "source": []
  },
  {
   "cell_type": "code",
   "execution_count": null,
   "id": "c2cbb8a0",
   "metadata": {},
   "outputs": [],
   "source": []
  },
  {
   "cell_type": "code",
   "execution_count": 238,
   "id": "1ab25e58",
   "metadata": {},
   "outputs": [
    {
     "data": {
      "text/plain": [
       "[['Mouse Click Event', 1267, 16, 1637041477.5128713, 0],\n",
       " ['Mouse Click Event', 1493, 16, 1637041481.260487, 3.7476158142089844],\n",
       " ['Keyboard Write', 'smh'],\n",
       " ['Keyboard Event', 'enter'],\n",
       " ['Keyboard Write', 'news.com.au'],\n",
       " ['Keyboard Event', 'enter']]"
      ]
     },
     "execution_count": 238,
     "metadata": {},
     "output_type": "execute_result"
    }
   ],
   "source": [
    "list"
   ]
  },
  {
   "cell_type": "code",
   "execution_count": 239,
   "id": "e8308707",
   "metadata": {},
   "outputs": [
    {
     "data": {
      "text/plain": [
       "[['Mouse Click Event', 1267, 16, 1637041477.5128713, 0],\n",
       " ['Keyboard Write', 'smh'],\n",
       " ['Keyboard Event', 'enter'],\n",
       " ['Mouse Click Event', 1493, 16, 1637041481.260487, 3.7476158142089844],\n",
       " ['Keyboard Write', 'news.com.au'],\n",
       " ['Keyboard Event', 'enter']]"
      ]
     },
     "execution_count": 239,
     "metadata": {},
     "output_type": "execute_result"
    }
   ],
   "source": [
    "newlist"
   ]
  },
  {
   "cell_type": "code",
   "execution_count": 90,
   "id": "834ec564",
   "metadata": {},
   "outputs": [
    {
     "data": {
      "text/plain": [
       "[['Mouse Click Event', 1857, 103, 1637034558.8875306, 5.147812843322754],\n",
       " ['Mouse Click Event', 1669, 120, 1637034560.043803, 1.1562724113464355],\n",
       " ['Mouse Click Event', 836, 222, 1637034562.0071008, 1.9632978439331055]]"
      ]
     },
     "execution_count": 90,
     "metadata": {},
     "output_type": "execute_result"
    }
   ],
   "source": [
    "tmp"
   ]
  },
  {
   "cell_type": "code",
   "execution_count": null,
   "id": "87b5c4c6",
   "metadata": {},
   "outputs": [],
   "source": []
  },
  {
   "cell_type": "code",
   "execution_count": 225,
   "id": "b10ed10b",
   "metadata": {},
   "outputs": [],
   "source": [
    "tmp = []\n",
    "newlist = []\n",
    "\n",
    "\n",
    "test = []\n",
    "\n",
    "for index, i in enumerate(list):\n",
    "    if 'Mouse' in i[0]:             # mouse in string \n",
    "        time = i[4]                 # time column\n",
    "        if time < 2 and tmp == []:\n",
    "            newlist.append(i)\n",
    "        else:\n",
    "            # if time > 2 seconds, move them into tmp list\n",
    "            tmp.append(i)\n",
    "    elif 'Keyboard Write' in i[0] and i[1] != 'tab':\n",
    "        if status != 'skip':\n",
    "            newlist.append(i)\n",
    "            status = ''\n",
    "        else:\n",
    "            status = ''\n",
    "    elif 'Keyboard Event' in i[0] and i[1] != 'tab':\n",
    "        if status != 'skip':\n",
    "            newlist.append(i)\n",
    "        else:\n",
    "            status = ''\n",
    "    elif 'Keyboard Event' in i[0] and i[1] == 'tab':\n",
    "         newlist.append(i)\n",
    "         newlist.append(list[index+1])\n",
    "         newlist.append(list[index+2])\n",
    "         status = 'skip'\n"
   ]
  },
  {
   "cell_type": "code",
   "execution_count": 226,
   "id": "715130fa",
   "metadata": {},
   "outputs": [
    {
     "data": {
      "text/plain": [
       "[['Mouse Click Event', 1263, 20, 1637035935.692013, 0],\n",
       " ['Mouse Click Event', 1896, 109, 1637035940.68884, 4.996826887130737],\n",
       " ['Mouse Click Event', 1696, 127, 1637035941.6992002, 1.0103602409362793],\n",
       " ['Mouse Click Event', 868, 225, 1637035942.813764, 1.1145639419555664],\n",
       " ['Keyboard Write', 'comm'],\n",
       " ['Keyboard Event', 'enter'],\n",
       " ['Keyboard Write', '11695328'],\n",
       " ['Keyboard Event', 'tab'],\n",
       " ['Keyboard Write', 'B4055ph!'],\n",
       " ['Keyboard Event', 'enter']]"
      ]
     },
     "execution_count": 226,
     "metadata": {},
     "output_type": "execute_result"
    }
   ],
   "source": [
    "list"
   ]
  },
  {
   "cell_type": "code",
   "execution_count": 228,
   "id": "21b89df2",
   "metadata": {},
   "outputs": [
    {
     "data": {
      "text/plain": [
       "[['Mouse Click Event', 1263, 20, 1637035935.692013, 0],\n",
       " ['Keyboard Event', 'enter'],\n",
       " ['Keyboard Write', '11695328'],\n",
       " ['Keyboard Event', 'tab'],\n",
       " ['Keyboard Write', 'B4055ph!'],\n",
       " ['Keyboard Event', 'enter'],\n",
       " ['Keyboard Event', 'enter']]"
      ]
     },
     "execution_count": 228,
     "metadata": {},
     "output_type": "execute_result"
    }
   ],
   "source": [
    "newlist"
   ]
  },
  {
   "cell_type": "code",
   "execution_count": 229,
   "id": "8a35c494",
   "metadata": {},
   "outputs": [
    {
     "data": {
      "text/plain": [
       "[['Mouse Click Event', 1263, 20, 1637035935.692013, 0],\n",
       " ['Mouse Click Event', 1896, 109, 1637035940.68884, 4.996826887130737],\n",
       " ['Mouse Click Event', 1696, 127, 1637035941.6992002, 1.0103602409362793],\n",
       " ['Mouse Click Event', 868, 225, 1637035942.813764, 1.1145639419555664],\n",
       " ['Keyboard Write', 'comm'],\n",
       " ['Keyboard Event', 'enter'],\n",
       " ['Keyboard Write', '11695328'],\n",
       " ['Keyboard Event', 'tab'],\n",
       " ['Keyboard Write', 'B4055ph!'],\n",
       " ['Keyboard Event', 'enter']]"
      ]
     },
     "execution_count": 229,
     "metadata": {},
     "output_type": "execute_result"
    }
   ],
   "source": [
    "list"
   ]
  },
  {
   "cell_type": "code",
   "execution_count": null,
   "id": "44413655",
   "metadata": {},
   "outputs": [],
   "source": [
    " else:\n",
    "            # after keyboard events will bring back those mouse events\n",
    "            # from tmp list after the keyboards.\n",
    "            # logic will loop until the next mouse event > 2 seconds\n",
    "            # at the moment assumption is typing will be more than 2 seconds.\n",
    "             print ('im else')\n",
    "             for i in range(len(tmp)):\n",
    "\n",
    "                    if i == 0:     # first event, straight back to the main list\n",
    "                        count = 0\n",
    "                        newlist.append(tmp[count])\n",
    "                        #tmp.pop(i)\n",
    "                        #i = i - 1\n",
    "                    elif tmp[i][4] < 2:      # if less than 2 seconds, keep adding to main list\n",
    "                        count += 1\n",
    "                        newlist.append(tmp[count])\n",
    "                        #tmp.pop(i)\n",
    "                        #i = i -1\n",
    "                    elif tmp[i][4] > 2:      # when the next keyboard even found (> 2 seconds), exit the loop\n",
    "                        break     \n",
    "        \n",
    "       "
   ]
  },
  {
   "cell_type": "code",
   "execution_count": 215,
   "id": "7d61e790",
   "metadata": {},
   "outputs": [
    {
     "data": {
      "text/plain": [
       "[['Mouse Click Event', 1263, 20, 1637035935.692013, 0],\n",
       " ['Mouse Click Event', 1896, 109, 1637035940.68884, 4.996826887130737],\n",
       " ['Mouse Click Event', 1696, 127, 1637035941.6992002, 1.0103602409362793],\n",
       " ['Mouse Click Event', 868, 225, 1637035942.813764, 1.1145639419555664],\n",
       " ['Keyboard Write', 'comm'],\n",
       " ['Keyboard Event', 'enter'],\n",
       " ['Keyboard Write', '11695328'],\n",
       " ['Keyboard Event', 'tab'],\n",
       " ['Keyboard Write', 'B4055ph!'],\n",
       " ['Keyboard Event', 'enter']]"
      ]
     },
     "execution_count": 215,
     "metadata": {},
     "output_type": "execute_result"
    }
   ],
   "source": [
    "list\n",
    "   "
   ]
  },
  {
   "cell_type": "code",
   "execution_count": 216,
   "id": "906e20fc",
   "metadata": {},
   "outputs": [
    {
     "data": {
      "text/plain": [
       "[['Mouse Click Event', 1263, 20, 1637035935.692013, 0],\n",
       " ['Keyboard Write', 'comm'],\n",
       " ['Keyboard Event', 'enter'],\n",
       " ['Mouse Click Event', 1896, 109, 1637035940.68884, 4.996826887130737],\n",
       " ['Mouse Click Event', 1696, 127, 1637035941.6992002, 1.0103602409362793],\n",
       " ['Mouse Click Event', 868, 225, 1637035942.813764, 1.1145639419555664],\n",
       " ['Keyboard Write', '11695328'],\n",
       " ['Keyboard Write', 'B4055ph!'],\n",
       " ['Keyboard Event', 'enter'],\n",
       " ['Mouse Click Event', 1896, 109, 1637035940.68884, 4.996826887130737],\n",
       " ['Mouse Click Event', 1696, 127, 1637035941.6992002, 1.0103602409362793],\n",
       " ['Mouse Click Event', 868, 225, 1637035942.813764, 1.1145639419555664]]"
      ]
     },
     "execution_count": 216,
     "metadata": {},
     "output_type": "execute_result"
    }
   ],
   "source": [
    "newlist"
   ]
  },
  {
   "cell_type": "code",
   "execution_count": 206,
   "id": "0132e378",
   "metadata": {},
   "outputs": [
    {
     "data": {
      "text/plain": [
       "[['Mouse Click Event', 1263, 20, 1637035935.692013, 0],\n",
       " ['Mouse Click Event', 1896, 109, 1637035940.68884, 4.996826887130737],\n",
       " ['Mouse Click Event', 1696, 127, 1637035941.6992002, 1.0103602409362793],\n",
       " ['Mouse Click Event', 868, 225, 1637035942.813764, 1.1145639419555664],\n",
       " ['Keyboard Write', 'comm'],\n",
       " ['Keyboard Event', 'enter'],\n",
       " ['Keyboard Write', '11695328'],\n",
       " ['Keyboard Event', 'tab'],\n",
       " ['Keyboard Write', 'B4055ph!'],\n",
       " ['Keyboard Event', 'enter']]"
      ]
     },
     "execution_count": 206,
     "metadata": {},
     "output_type": "execute_result"
    }
   ],
   "source": [
    "list"
   ]
  },
  {
   "cell_type": "code",
   "execution_count": 207,
   "id": "5fdea629",
   "metadata": {},
   "outputs": [
    {
     "data": {
      "text/plain": [
       "[['Mouse Click Event', 1263, 20, 1637035935.692013, 0],\n",
       " ['Keyboard Write', 'comm'],\n",
       " ['Keyboard Event', 'enter'],\n",
       " ['Mouse Click Event', 1896, 109, 1637035940.68884, 4.996826887130737],\n",
       " ['Mouse Click Event', 1696, 127, 1637035941.6992002, 1.0103602409362793],\n",
       " ['Mouse Click Event', 868, 225, 1637035942.813764, 1.1145639419555664],\n",
       " ['Keyboard Write', '11695328'],\n",
       " ['Keyboard Write', 'B4055ph!'],\n",
       " ['Keyboard Event', 'enter'],\n",
       " ['Mouse Click Event', 1896, 109, 1637035940.68884, 4.996826887130737],\n",
       " ['Mouse Click Event', 1696, 127, 1637035941.6992002, 1.0103602409362793],\n",
       " ['Mouse Click Event', 868, 225, 1637035942.813764, 1.1145639419555664]]"
      ]
     },
     "execution_count": 207,
     "metadata": {},
     "output_type": "execute_result"
    }
   ],
   "source": [
    "newlist"
   ]
  },
  {
   "cell_type": "markdown",
   "id": "f85a4820",
   "metadata": {},
   "source": [
    "# Once recorded, you can add parameters to the list\n",
    "\n",
    "1. Define the parameter in param\n",
    "2. specific the location of the index tochange variable\n",
    "3. store the new variable under x\n",
    "4. put that x value to the list\n",
    "\n",
    "Re-run the replay"
   ]
  },
  {
   "cell_type": "code",
   "execution_count": 36,
   "id": "a8310fca",
   "metadata": {},
   "outputs": [
    {
     "name": "stdout",
     "output_type": "stream",
     "text": [
      "test 2020-06-30\n"
     ]
    }
   ],
   "source": [
    "# enter parameter and index to change\n",
    "param = '2020-06-30'\n",
    "tochange = newlist[3][1]\n",
    "\n",
    "x = str(tochange) + ' ' + str(param)\n",
    "newlist[3][1] = x\n",
    "\n",
    "print (x)"
   ]
  },
  {
   "cell_type": "code",
   "execution_count": null,
   "id": "1844f7bb",
   "metadata": {},
   "outputs": [],
   "source": []
  }
 ],
 "metadata": {
  "kernelspec": {
   "display_name": "Python 3",
   "language": "python",
   "name": "python3"
  },
  "language_info": {
   "codemirror_mode": {
    "name": "ipython",
    "version": 3
   },
   "file_extension": ".py",
   "mimetype": "text/x-python",
   "name": "python",
   "nbconvert_exporter": "python",
   "pygments_lexer": "ipython3",
   "version": "3.8.8"
  }
 },
 "nbformat": 4,
 "nbformat_minor": 5
}
