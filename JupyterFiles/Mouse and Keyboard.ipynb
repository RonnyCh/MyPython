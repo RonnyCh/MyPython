{
 "cells": [
  {
   "cell_type": "code",
   "execution_count": null,
   "id": "d9ae87e7",
   "metadata": {},
   "outputs": [],
   "source": [
    "# https://www.geeksforgeeks.org/keyboard-module-in-python/\n",
    "# https://www.geeksforgeeks.org/python-arcade-handling-mouse-inputs/\n",
    "# https://www.tutorialspoint.com/python-pickling\n",
    "# https://www.techgeekbuzz.com/how-to-control-your-mouse-in-python-with-python-mouse-module/#:~:text=%20How%20to%20Control%20your%20Mouse%20in%20Python%3F,of%20left-click%20and%20mouse%20movements%2C%20and...%20More%20"
   ]
  },
  {
   "cell_type": "markdown",
   "id": "74a6a68c",
   "metadata": {},
   "source": [
    "# simplest code mouse only"
   ]
  },
  {
   "cell_type": "code",
   "execution_count": 161,
   "id": "9c8b2050",
   "metadata": {},
   "outputs": [],
   "source": [
    "\n",
    "\n",
    "import pyautogui as s\n",
    "import mouse\n",
    "import keyboard\n",
    "import pickle\n",
    "import time\n",
    "\n",
    "\n",
    "s.alert('You need to record Mouse and Keyboard separately')\n",
    "\n",
    "# flag the status to start looping\n",
    "count = 0    # for filename purpose\n",
    "status = 'Go' # for looping purpose\n",
    "mylist = []   # capture all the filenames\n",
    "        \n",
    "while status == 'Go':\n",
    "    \n",
    "    chk_mouse = s.confirm(\"Record mouse, press Q to stop\", buttons = ['Yes','No'])\n",
    "    \n",
    "    # if user response cancel, set status = blank to stop the loop\n",
    "    if chk_mouse == 'Yes':\n",
    "        count += 1\n",
    "        file = 'Step' + str(count) + 'm' + '.txt'  # m stands for mouse\n",
    "    \n",
    "        mouse_event = []\n",
    "        mouse.hook(mouse_event.append)\n",
    "    \n",
    "        if not keyboard.wait(\"Tab\"):\n",
    "            # save the events\n",
    "            mouse.unhook_all()\n",
    "            with open(file, 'wb') as fh:\n",
    "                pickle.dump(mouse_event, fh)    \n",
    "                mylist.append(file) # save the step to the list\n",
    "    else:\n",
    "        status = ''\n",
    "        s.alert(\"Recording completed!!\")\n",
    "\n",
    "\n",
    "    chk_keyboard = s.confirm(\"Record keyboard, press Q to stop\", buttons = ['Yes','No'])\n",
    "\n",
    "    if chk_keyboard == \"Yes\":  \n",
    "    # record keyboard events\n",
    "        count += 1\n",
    "        file = 'Step' + str(count) + 'kb' +'.txt'  # kb stands for keyboard\n",
    "        \n",
    "        keyboard_event = []\n",
    "        keyboard.hook(keyboard_event.append)\n",
    "        if not keyboard.wait(\"Tab\"):\n",
    "            keyboard.unhook_all()\n",
    "            s.alert(\"Keyboard recording finished\")\n",
    "            # save the events\n",
    "            with open(file, 'wb') as fh:\n",
    "               pickle.dump(keyboard_event, fh)\n",
    "               mylist.append(file)  \n",
    "    else:  \n",
    "    # user does not want to proceed with keyboard events\n",
    "        status = ''\n",
    "        s.alert(\"Recording completed!!\")\n",
    "   \n",
    "                   \n",
    "    \n",
    "# save the steps from mylist to a file\n",
    "with open('mysteps.txt', 'wb') as fh:\n",
    "   pickle.dump(mylist, fh)\n",
    "   \n"
   ]
  },
  {
   "cell_type": "code",
   "execution_count": 163,
   "id": "5fdb3ce8",
   "metadata": {},
   "outputs": [],
   "source": [
    "\n",
    "import pickle\n",
    "import mouse\n",
    "import keyboard\n",
    "\n",
    "\n",
    "# open the file and replay all steps\n",
    "pickle_off = open ('mysteps.txt', \"rb\")\n",
    "myfiles = pickle.load(pickle_off)\n",
    "\n",
    "# replay all the steps\n",
    "for myfile in  myfiles:\n",
    "    pickle_off = open (myfile, \"rb\")\n",
    "    event = pickle.load(pickle_off)\n",
    "    \n",
    "    if 'kb' in myfile:\n",
    "        keyboard.play(event)\n",
    "    else:\n",
    "        mouse.play(event)\n",
    "    "
   ]
  },
  {
   "cell_type": "code",
   "execution_count": null,
   "id": "9e4754fd",
   "metadata": {},
   "outputs": [],
   "source": []
  },
  {
   "cell_type": "code",
   "execution_count": null,
   "id": "a3ac30d0",
   "metadata": {},
   "outputs": [],
   "source": []
  },
  {
   "cell_type": "code",
   "execution_count": 77,
   "id": "166d9021",
   "metadata": {},
   "outputs": [
    {
     "ename": "KeyboardInterrupt",
     "evalue": "",
     "output_type": "error",
     "traceback": [
      "\u001b[1;31m---------------------------------------------------------------------------\u001b[0m",
      "\u001b[1;31mKeyboardInterrupt\u001b[0m                         Traceback (most recent call last)",
      "\u001b[1;32m<ipython-input-77-5e3d8bc8705d>\u001b[0m in \u001b[0;36m<module>\u001b[1;34m\u001b[0m\n\u001b[0;32m     14\u001b[0m \u001b[0mkeyboard\u001b[0m\u001b[1;33m.\u001b[0m\u001b[0mhook\u001b[0m\u001b[1;33m(\u001b[0m\u001b[0mkeyboard_event\u001b[0m\u001b[1;33m.\u001b[0m\u001b[0mappend\u001b[0m\u001b[1;33m)\u001b[0m\u001b[1;33m\u001b[0m\u001b[1;33m\u001b[0m\u001b[0m\n\u001b[0;32m     15\u001b[0m \u001b[1;33m\u001b[0m\u001b[0m\n\u001b[1;32m---> 16\u001b[1;33m \u001b[1;32mif\u001b[0m \u001b[1;32mnot\u001b[0m \u001b[0mkeyboard\u001b[0m\u001b[1;33m.\u001b[0m\u001b[0mwait\u001b[0m\u001b[1;33m(\u001b[0m\u001b[1;34m\"Esc\"\u001b[0m\u001b[1;33m)\u001b[0m\u001b[1;33m:\u001b[0m\u001b[1;33m\u001b[0m\u001b[1;33m\u001b[0m\u001b[0m\n\u001b[0m\u001b[0;32m     17\u001b[0m     \u001b[0mmouse\u001b[0m\u001b[1;33m.\u001b[0m\u001b[0munhook_all\u001b[0m\u001b[1;33m(\u001b[0m\u001b[1;33m)\u001b[0m\u001b[1;33m\u001b[0m\u001b[1;33m\u001b[0m\u001b[0m\n\u001b[0;32m     18\u001b[0m     \u001b[0mkeyboard\u001b[0m\u001b[1;33m.\u001b[0m\u001b[0munhook_all\u001b[0m\u001b[1;33m(\u001b[0m\u001b[1;33m)\u001b[0m\u001b[1;33m\u001b[0m\u001b[1;33m\u001b[0m\u001b[0m\n",
      "\u001b[1;32m~\\Anaconda3\\lib\\site-packages\\keyboard\\__init__.py\u001b[0m in \u001b[0;36mwait\u001b[1;34m(hotkey, suppress, trigger_on_release)\u001b[0m\n\u001b[0;32m    880\u001b[0m         \u001b[0mlock\u001b[0m \u001b[1;33m=\u001b[0m \u001b[0m_Event\u001b[0m\u001b[1;33m(\u001b[0m\u001b[1;33m)\u001b[0m\u001b[1;33m\u001b[0m\u001b[1;33m\u001b[0m\u001b[0m\n\u001b[0;32m    881\u001b[0m         \u001b[0mremove\u001b[0m \u001b[1;33m=\u001b[0m \u001b[0madd_hotkey\u001b[0m\u001b[1;33m(\u001b[0m\u001b[0mhotkey\u001b[0m\u001b[1;33m,\u001b[0m \u001b[1;32mlambda\u001b[0m\u001b[1;33m:\u001b[0m \u001b[0mlock\u001b[0m\u001b[1;33m.\u001b[0m\u001b[0mset\u001b[0m\u001b[1;33m(\u001b[0m\u001b[1;33m)\u001b[0m\u001b[1;33m,\u001b[0m \u001b[0msuppress\u001b[0m\u001b[1;33m=\u001b[0m\u001b[0msuppress\u001b[0m\u001b[1;33m,\u001b[0m \u001b[0mtrigger_on_release\u001b[0m\u001b[1;33m=\u001b[0m\u001b[0mtrigger_on_release\u001b[0m\u001b[1;33m)\u001b[0m\u001b[1;33m\u001b[0m\u001b[1;33m\u001b[0m\u001b[0m\n\u001b[1;32m--> 882\u001b[1;33m         \u001b[0mlock\u001b[0m\u001b[1;33m.\u001b[0m\u001b[0mwait\u001b[0m\u001b[1;33m(\u001b[0m\u001b[1;33m)\u001b[0m\u001b[1;33m\u001b[0m\u001b[1;33m\u001b[0m\u001b[0m\n\u001b[0m\u001b[0;32m    883\u001b[0m         \u001b[0mremove_hotkey\u001b[0m\u001b[1;33m(\u001b[0m\u001b[0mremove\u001b[0m\u001b[1;33m)\u001b[0m\u001b[1;33m\u001b[0m\u001b[1;33m\u001b[0m\u001b[0m\n\u001b[0;32m    884\u001b[0m     \u001b[1;32melse\u001b[0m\u001b[1;33m:\u001b[0m\u001b[1;33m\u001b[0m\u001b[1;33m\u001b[0m\u001b[0m\n",
      "\u001b[1;32m~\\Anaconda3\\lib\\site-packages\\keyboard\\__init__.py\u001b[0m in \u001b[0;36mwait\u001b[1;34m(self)\u001b[0m\n\u001b[0;32m    115\u001b[0m     \u001b[1;32mdef\u001b[0m \u001b[0mwait\u001b[0m\u001b[1;33m(\u001b[0m\u001b[0mself\u001b[0m\u001b[1;33m)\u001b[0m\u001b[1;33m:\u001b[0m\u001b[1;33m\u001b[0m\u001b[1;33m\u001b[0m\u001b[0m\n\u001b[0;32m    116\u001b[0m         \u001b[1;32mwhile\u001b[0m \u001b[1;32mTrue\u001b[0m\u001b[1;33m:\u001b[0m\u001b[1;33m\u001b[0m\u001b[1;33m\u001b[0m\u001b[0m\n\u001b[1;32m--> 117\u001b[1;33m             \u001b[1;32mif\u001b[0m \u001b[0m_UninterruptibleEvent\u001b[0m\u001b[1;33m.\u001b[0m\u001b[0mwait\u001b[0m\u001b[1;33m(\u001b[0m\u001b[0mself\u001b[0m\u001b[1;33m,\u001b[0m \u001b[1;36m0.5\u001b[0m\u001b[1;33m)\u001b[0m\u001b[1;33m:\u001b[0m\u001b[1;33m\u001b[0m\u001b[1;33m\u001b[0m\u001b[0m\n\u001b[0m\u001b[0;32m    118\u001b[0m                 \u001b[1;32mbreak\u001b[0m\u001b[1;33m\u001b[0m\u001b[1;33m\u001b[0m\u001b[0m\n\u001b[0;32m    119\u001b[0m \u001b[1;33m\u001b[0m\u001b[0m\n",
      "\u001b[1;32m~\\Anaconda3\\lib\\threading.py\u001b[0m in \u001b[0;36mwait\u001b[1;34m(self, timeout)\u001b[0m\n\u001b[0;32m    556\u001b[0m             \u001b[0msignaled\u001b[0m \u001b[1;33m=\u001b[0m \u001b[0mself\u001b[0m\u001b[1;33m.\u001b[0m\u001b[0m_flag\u001b[0m\u001b[1;33m\u001b[0m\u001b[1;33m\u001b[0m\u001b[0m\n\u001b[0;32m    557\u001b[0m             \u001b[1;32mif\u001b[0m \u001b[1;32mnot\u001b[0m \u001b[0msignaled\u001b[0m\u001b[1;33m:\u001b[0m\u001b[1;33m\u001b[0m\u001b[1;33m\u001b[0m\u001b[0m\n\u001b[1;32m--> 558\u001b[1;33m                 \u001b[0msignaled\u001b[0m \u001b[1;33m=\u001b[0m \u001b[0mself\u001b[0m\u001b[1;33m.\u001b[0m\u001b[0m_cond\u001b[0m\u001b[1;33m.\u001b[0m\u001b[0mwait\u001b[0m\u001b[1;33m(\u001b[0m\u001b[0mtimeout\u001b[0m\u001b[1;33m)\u001b[0m\u001b[1;33m\u001b[0m\u001b[1;33m\u001b[0m\u001b[0m\n\u001b[0m\u001b[0;32m    559\u001b[0m             \u001b[1;32mreturn\u001b[0m \u001b[0msignaled\u001b[0m\u001b[1;33m\u001b[0m\u001b[1;33m\u001b[0m\u001b[0m\n\u001b[0;32m    560\u001b[0m \u001b[1;33m\u001b[0m\u001b[0m\n",
      "\u001b[1;32m~\\Anaconda3\\lib\\threading.py\u001b[0m in \u001b[0;36mwait\u001b[1;34m(self, timeout)\u001b[0m\n\u001b[0;32m    304\u001b[0m             \u001b[1;32melse\u001b[0m\u001b[1;33m:\u001b[0m\u001b[1;33m\u001b[0m\u001b[1;33m\u001b[0m\u001b[0m\n\u001b[0;32m    305\u001b[0m                 \u001b[1;32mif\u001b[0m \u001b[0mtimeout\u001b[0m \u001b[1;33m>\u001b[0m \u001b[1;36m0\u001b[0m\u001b[1;33m:\u001b[0m\u001b[1;33m\u001b[0m\u001b[1;33m\u001b[0m\u001b[0m\n\u001b[1;32m--> 306\u001b[1;33m                     \u001b[0mgotit\u001b[0m \u001b[1;33m=\u001b[0m \u001b[0mwaiter\u001b[0m\u001b[1;33m.\u001b[0m\u001b[0macquire\u001b[0m\u001b[1;33m(\u001b[0m\u001b[1;32mTrue\u001b[0m\u001b[1;33m,\u001b[0m \u001b[0mtimeout\u001b[0m\u001b[1;33m)\u001b[0m\u001b[1;33m\u001b[0m\u001b[1;33m\u001b[0m\u001b[0m\n\u001b[0m\u001b[0;32m    307\u001b[0m                 \u001b[1;32melse\u001b[0m\u001b[1;33m:\u001b[0m\u001b[1;33m\u001b[0m\u001b[1;33m\u001b[0m\u001b[0m\n\u001b[0;32m    308\u001b[0m                     \u001b[0mgotit\u001b[0m \u001b[1;33m=\u001b[0m \u001b[0mwaiter\u001b[0m\u001b[1;33m.\u001b[0m\u001b[0macquire\u001b[0m\u001b[1;33m(\u001b[0m\u001b[1;32mFalse\u001b[0m\u001b[1;33m)\u001b[0m\u001b[1;33m\u001b[0m\u001b[1;33m\u001b[0m\u001b[0m\n",
      "\u001b[1;31mKeyboardInterrupt\u001b[0m: "
     ]
    }
   ],
   "source": [
    "\n",
    "# record mouse events\n",
    "import mouse\n",
    "import keyboard\n",
    "import pickle\n",
    "\n",
    "file1 = 'mouse.txt'\n",
    "file2 = 'keyboard.txt'\n",
    "\n",
    "\n",
    "mouse_event = []\n",
    "keyboard_event = []\n",
    "\n",
    "mouse.hook(mouse_event.append)\n",
    "keyboard.hook(keyboard_event.append)\n",
    "\n",
    "if not keyboard.wait(\"Esc\"):\n",
    "    mouse.unhook_all()\n",
    "    keyboard.unhook_all()\n",
    "    \n",
    "# save the events\n",
    "with open(file1, 'wb') as fh:\n",
    "   pickle.dump(mouse_event, fh)    \n",
    "\n",
    "with open(file2, 'wb') as fh:\n",
    "   pickle.dump(keyboard_event, fh)    \n"
   ]
  },
  {
   "cell_type": "code",
   "execution_count": 51,
   "id": "ac7ef454",
   "metadata": {},
   "outputs": [],
   "source": [
    "# open the file\n",
    "pickle_off = open ('mouse.txt', \"rb\")\n",
    "mouse_event = pickle.load(pickle_off)\n",
    "\n",
    "# replay the event\n",
    "mouse.play(mouse_event)\n",
    "keyboard.play(keyboard_event)\n"
   ]
  },
  {
   "cell_type": "code",
   "execution_count": 45,
   "id": "7367aae7",
   "metadata": {},
   "outputs": [],
   "source": [
    "keyboard.play(keyboard_event)"
   ]
  },
  {
   "cell_type": "markdown",
   "id": "1f651e58",
   "metadata": {},
   "source": [
    "I am trying to figure out how to record users click but the issue is to incorporate keyboard type etc.  \n",
    "The code below will record mouse movemens and replay.\n",
    "\n",
    "\n",
    "Interim Solution :\n",
    "1. Sit down with Anthony to record each mouse movement\n",
    "2. Take notes on additional key strokes\n",
    "3. Tidy up the codes later"
   ]
  },
  {
   "cell_type": "markdown",
   "id": "4f7c0550",
   "metadata": {},
   "source": [
    "I am trying to figure out how to record users click but the issue is to incorporate keyboard type etc.  \n",
    "The code below will record mouse movemens and replay.\n",
    "\n",
    "\n",
    "Interim Solution :\n",
    "1. Sit down with Anthony to record each mouse movement\n",
    "2. Take notes on additional key strokes\n",
    "3. Tidy up the codes later"
   ]
  },
  {
   "cell_type": "markdown",
   "id": "05b60fa8",
   "metadata": {},
   "source": [
    "I am trying to figure out how to record users click but the issue is to incorporate keyboard type etc.  \n",
    "The code below will record mouse movemens and replay.\n",
    "\n",
    "\n",
    "Interim Solution :\n",
    "1. Sit down with Anthony to record each mouse movement\n",
    "2. Take notes on additional key strokes\n",
    "3. Tidy up the codes later"
   ]
  },
  {
   "cell_type": "code",
   "execution_count": 7,
   "id": "923567e2",
   "metadata": {},
   "outputs": [],
   "source": [
    "\n",
    "import mouse\n",
    "import keyboard            \n",
    "import pickle\n",
    "\n",
    "mouse_events = []\n",
    "\n",
    "\n",
    "mouse.hook(mouse_events.append)\n",
    "keyboard.start_recording()\n",
    "\n",
    "keyboard.wait(\"Esc\")\n",
    "\n",
    "mouse.unhook(mouse_events.append)\n",
    "keyboard_events = keyboard.stop_recording()\n",
    "\n",
    "\n",
    "# put mouse results (click only) to list\n",
    "list = []\n",
    "\n",
    "for i in range(len(mouse_events)):\n",
    "    if mouse_events[i][0] == 'down':\n",
    "        # pick up previus coordinate\n",
    "        #row = i - 1\n",
    "        #x = mouse_events[row][0]\n",
    "        #y = mouse_events[row][1]     \n",
    "        #list.append([x,y])\n",
    "        \n",
    "        for chk in range(1,5):\n",
    "        #    # check previous 5 rows until you dont see 'down' or 'up' key\n",
    "            row = i - chk\n",
    "            if mouse_events[row][0] not in ('down','up'):\n",
    "                 x = mouse_events[row][0]\n",
    "                 y = mouse_events[row][1]     \n",
    "                 z = mouse_events[row][2]\n",
    "                 list.append(['Mouse Click Event',x,y,z])\n",
    "                 break   \n",
    "                \n",
    "# put keyword results to list2, list3 just keystrokes\n",
    "string = []\n",
    "stroke = []\n",
    "finalword = []\n",
    "\n",
    "for m in range(len(keyboard_events)):\n",
    "    mystring = str(keyboard_events[m])\n",
    "    letter = mystring[14:15]\n",
    "    if 'down' in mystring:\n",
    "        if 'backspace' in mystring:\n",
    "            #print (string)\n",
    "            string.pop()\n",
    "            #print (string)\n",
    "            #list.append(['Keyboard Event','backspace'])\n",
    "        elif 'space' in mystring:\n",
    "             #list.append(['Keyboard Event','space'])\n",
    "             string.append(' ')\n",
    "        elif 'enter' in mystring:\n",
    "               \n",
    "            if len(string) != 0 :\n",
    "                finalword = ''.join(string) \n",
    "                list.append(['Keyboard Write',finalword])\n",
    "                list.append(['Keyboard Event','enter'])\n",
    "                string = []\n",
    "            \n",
    "            #finalword = []\n",
    "            #string.append(' Enter ')\n",
    "        elif 'tab' in mystring:\n",
    "            #list.append(['Keyboard Event','enter'])\n",
    "            #string.append(' Tab ')\n",
    "            if len(string) != 0 :\n",
    "                finalword = ''.join(string) \n",
    "                list.append(['Keyboard Write',finalword])\n",
    "                list.append(['Keyboard Event','tab'])\n",
    "                string = []\n",
    "            \n",
    "        elif 'shift' in mystring:\n",
    "            break\n",
    "            \n",
    "        elif 'esc' in mystring:\n",
    "            #list.append(['Ignore','esc'])\n",
    "            #print (mystring)\n",
    "            if len(string) != 0 :\n",
    "                finalword = ''.join(string) \n",
    "                list.append(['Keyboard Write',finalword])\n",
    "                list.append(['Keyboard Event','enter'])\n",
    "                string = []\n",
    "        else:\n",
    "            string.append(letter)\n",
    "            \n",
    "            \n",
    "# add duration to the list\n",
    "\n",
    "for index, i in enumerate(list):\n",
    "   try :\n",
    "    if index != 0:\n",
    "        now = list[index][3]\n",
    "        before = list[index-1][3]\n",
    "        duration = now - before\n",
    "        list[index].append(duration)\n",
    "    else:\n",
    "        list[index].append(0)\n",
    "   except:\n",
    "        break\n",
    "        \n",
    "        \n",
    "# tidy up the sequence between mouse and keyboards into a list\n",
    "\n",
    "import pyautogui as s\n",
    "import time\n",
    "\n",
    "tmp = []\n",
    "newlist = []\n",
    "count = 0\n",
    "\n",
    "for index, i in enumerate(list):\n",
    "    if 'Mouse' in i[0]:             # mouse in string \n",
    "        time = i[4]                 # time column\n",
    "        if time < 2 and tmp == []:\n",
    "            newlist.append(i)\n",
    "        else:\n",
    "            # need to loop until the next time > 2\n",
    "            tmp.append(i)\n",
    "    elif 'Keyboard Write' in i[0]:\n",
    "        newlist.append(i)\n",
    "    elif 'Keyboard Event' in i[0]:\n",
    "        newlist.append(i)\n",
    "        \n",
    "        # loop the next 4 rows until time > 2 seconds\n",
    "        \n",
    "        for i in range(len(tmp)):\n",
    "            \n",
    "            if i == 0:\n",
    "                newlist.append(tmp[count])\n",
    "                count += 1\n",
    "                #tmp.pop(i)\n",
    "                #i = i - 1\n",
    "            elif tmp[i][4] < 2:\n",
    "                newlist.append(tmp[count])\n",
    "                count += 1\n",
    "                #tmp.pop(i)\n",
    "                #i = i -1\n",
    "            elif tmp[i][4] > 2:\n",
    "                break\n",
    "        \n",
    "# if no keyboard events, length of new list will be shorter than the original list\n",
    "# hence just use the original list\n",
    "\n",
    "if len(newlist) != len(list):\n",
    "    newlist = list\n",
    "            \n",
    "# save the recording    \n",
    "with open('record.txt', 'wb') as fh:\n",
    "   pickle.dump(newlist, fh)\n",
    "\n",
    "\n",
    "# open the recording\n",
    "pickle_off = open ('record.txt', \"rb\")\n",
    "newlist = pickle.load(pickle_off)\n",
    "\n",
    "   "
   ]
  },
  {
   "cell_type": "code",
   "execution_count": 7,
   "id": "3ba09c1f",
   "metadata": {
    "collapsed": true
   },
   "outputs": [],
   "source": [
    "\n",
    "import mouse\n",
    "import keyboard            \n",
    "import pickle\n",
    "\n",
    "mouse_events = []\n",
    "\n",
    "\n",
    "mouse.hook(mouse_events.append)\n",
    "keyboard.start_recording()\n",
    "\n",
    "keyboard.wait(\"Esc\")\n",
    "\n",
    "mouse.unhook(mouse_events.append)\n",
    "keyboard_events = keyboard.stop_recording()\n",
    "\n",
    "\n",
    "# put mouse results (click only) to list\n",
    "list = []\n",
    "\n",
    "for i in range(len(mouse_events)):\n",
    "    if mouse_events[i][0] == 'down':\n",
    "        # pick up previus coordinate\n",
    "        #row = i - 1\n",
    "        #x = mouse_events[row][0]\n",
    "        #y = mouse_events[row][1]     \n",
    "        #list.append([x,y])\n",
    "        \n",
    "        for chk in range(1,5):\n",
    "        #    # check previous 5 rows until you dont see 'down' or 'up' key\n",
    "            row = i - chk\n",
    "            if mouse_events[row][0] not in ('down','up'):\n",
    "                 x = mouse_events[row][0]\n",
    "                 y = mouse_events[row][1]     \n",
    "                 z = mouse_events[row][2]\n",
    "                 list.append(['Mouse Click Event',x,y,z])\n",
    "                 break   \n",
    "                \n",
    "# put keyword results to list2, list3 just keystrokes\n",
    "string = []\n",
    "stroke = []\n",
    "finalword = []\n",
    "\n",
    "for m in range(len(keyboard_events)):\n",
    "    mystring = str(keyboard_events[m])\n",
    "    letter = mystring[14:15]\n",
    "    if 'down' in mystring:\n",
    "        if 'backspace' in mystring:\n",
    "            #print (string)\n",
    "            string.pop()\n",
    "            #print (string)\n",
    "            #list.append(['Keyboard Event','backspace'])\n",
    "        elif 'space' in mystring:\n",
    "             #list.append(['Keyboard Event','space'])\n",
    "             string.append(' ')\n",
    "        elif 'enter' in mystring:\n",
    "               \n",
    "            if len(string) != 0 :\n",
    "                finalword = ''.join(string) \n",
    "                list.append(['Keyboard Write',finalword])\n",
    "                list.append(['Keyboard Event','enter'])\n",
    "                string = []\n",
    "            \n",
    "            #finalword = []\n",
    "            #string.append(' Enter ')\n",
    "        elif 'tab' in mystring:\n",
    "            #list.append(['Keyboard Event','enter'])\n",
    "            #string.append(' Tab ')\n",
    "            if len(string) != 0 :\n",
    "                finalword = ''.join(string) \n",
    "                list.append(['Keyboard Write',finalword])\n",
    "                list.append(['Keyboard Event','tab'])\n",
    "                string = []\n",
    "            \n",
    "        elif 'shift' in mystring:\n",
    "            break\n",
    "            \n",
    "        elif 'esc' in mystring:\n",
    "            #list.append(['Ignore','esc'])\n",
    "            #print (mystring)\n",
    "            if len(string) != 0 :\n",
    "                finalword = ''.join(string) \n",
    "                list.append(['Keyboard Write',finalword])\n",
    "                list.append(['Keyboard Event','enter'])\n",
    "                string = []\n",
    "        else:\n",
    "            string.append(letter)\n",
    "            \n",
    "            \n",
    "# add duration to the list\n",
    "\n",
    "for index, i in enumerate(list):\n",
    "   try :\n",
    "    if index != 0:\n",
    "        now = list[index][3]\n",
    "        before = list[index-1][3]\n",
    "        duration = now - before\n",
    "        list[index].append(duration)\n",
    "    else:\n",
    "        list[index].append(0)\n",
    "   except:\n",
    "        break\n",
    "        \n",
    "        \n",
    "# tidy up the sequence between mouse and keyboards into a list\n",
    "\n",
    "import pyautogui as s\n",
    "import time\n",
    "\n",
    "tmp = []\n",
    "newlist = []\n",
    "count = 0\n",
    "\n",
    "for index, i in enumerate(list):\n",
    "    if 'Mouse' in i[0]:             # mouse in string \n",
    "        time = i[4]                 # time column\n",
    "        if time < 2 and tmp == []:\n",
    "            newlist.append(i)\n",
    "        else:\n",
    "            # need to loop until the next time > 2\n",
    "            tmp.append(i)\n",
    "    elif 'Keyboard Write' in i[0]:\n",
    "        newlist.append(i)\n",
    "    elif 'Keyboard Event' in i[0]:\n",
    "        newlist.append(i)\n",
    "        \n",
    "        # loop the next 4 rows until time > 2 seconds\n",
    "        \n",
    "        for i in range(len(tmp)):\n",
    "            \n",
    "            if i == 0:\n",
    "                newlist.append(tmp[count])\n",
    "                count += 1\n",
    "                #tmp.pop(i)\n",
    "                #i = i - 1\n",
    "            elif tmp[i][4] < 2:\n",
    "                newlist.append(tmp[count])\n",
    "                count += 1\n",
    "                #tmp.pop(i)\n",
    "                #i = i -1\n",
    "            elif tmp[i][4] > 2:\n",
    "                break\n",
    "        \n",
    "# if no keyboard events, length of new list will be shorter than the original list\n",
    "# hence just use the original list\n",
    "\n",
    "if len(newlist) != len(list):\n",
    "    newlist = list\n",
    "            \n",
    "# save the recording    \n",
    "with open('record.txt', 'wb') as fh:\n",
    "   pickle.dump(newlist, fh)\n",
    "\n",
    "\n",
    "# open the recording\n",
    "pickle_off = open ('record.txt', \"rb\")\n",
    "newlist = pickle.load(pickle_off)\n",
    "\n",
    "   "
   ]
  },
  {
   "cell_type": "code",
   "execution_count": 11,
   "id": "e99203aa",
   "metadata": {},
   "outputs": [],
   "source": [
    "# replay the click        \n",
    "import pyautogui as s\n",
    "import time\n",
    "\n",
    "for i in range(len(newlist)):\n",
    "    if 'Mouse' in newlist[i][0]:\n",
    "        x = newlist[i][1]\n",
    "        y = newlist[i][2]\n",
    "        s.moveTo(x,y,0.7)\n",
    "        s.click()\n",
    "        time.sleep(2.5)\n",
    "    elif 'Write' in newlist[i][0]:\n",
    "        #break\n",
    "        #s.press('enter')\n",
    "        s.write(newlist[i][1],0.3)\n",
    "    elif 'tab' in newlist[i][1]:\n",
    "        s.press('tab')\n",
    "        time.sleep(0.8)\n",
    "    elif 'enter' in newlist[i][1]:\n",
    "        s.press('enter')\n",
    "        time.sleep(2.5)"
   ]
  },
  {
   "cell_type": "code",
   "execution_count": 8,
   "id": "39b6a250",
   "metadata": {},
   "outputs": [
    {
     "data": {
      "text/plain": [
       "[['Mouse Click Event', 1263, 17, 1637031608.4256203, 0],\n",
       " ['Mouse Click Event', 744, 50, 1637031611.6357753, 3.2101550102233887],\n",
       " ['Keyboard Write', 'news'],\n",
       " ['Keyboard Event', 'enter']]"
      ]
     },
     "execution_count": 8,
     "metadata": {},
     "output_type": "execute_result"
    }
   ],
   "source": [
    "list"
   ]
  },
  {
   "cell_type": "code",
   "execution_count": 9,
   "id": "e4a450b0",
   "metadata": {},
   "outputs": [
    {
     "data": {
      "text/plain": [
       "[['Mouse Click Event', 1263, 17, 1637031608.4256203, 0],\n",
       " ['Keyboard Write', 'news'],\n",
       " ['Keyboard Event', 'enter'],\n",
       " ['Mouse Click Event', 744, 50, 1637031611.6357753, 3.2101550102233887]]"
      ]
     },
     "execution_count": 9,
     "metadata": {},
     "output_type": "execute_result"
    }
   ],
   "source": [
    "newlist"
   ]
  },
  {
   "cell_type": "code",
   "execution_count": 15,
   "id": "45c96be0",
   "metadata": {},
   "outputs": [
    {
     "data": {
      "text/plain": [
       "['Mouse Click Event', 1029, 4, 1636665329.654837, 0]"
      ]
     },
     "execution_count": 15,
     "metadata": {},
     "output_type": "execute_result"
    }
   ],
   "source": [
    "newlist.pop(0)"
   ]
  },
  {
   "cell_type": "code",
   "execution_count": 16,
   "id": "c92bc8c5",
   "metadata": {},
   "outputs": [
    {
     "data": {
      "text/plain": [
       "[['Mouse Click Event', 843, 468, 1636665331.0215201, 1.3666832447052002]]"
      ]
     },
     "execution_count": 16,
     "metadata": {},
     "output_type": "execute_result"
    }
   ],
   "source": [
    "newlist"
   ]
  },
  {
   "cell_type": "code",
   "execution_count": 79,
   "id": "1695992c",
   "metadata": {},
   "outputs": [
    {
     "name": "stdout",
     "output_type": "stream",
     "text": [
      "KeyboardEvent(r down)\n",
      "KeyboardEvent(c down)\n",
      "KeyboardEvent(h down)\n",
      "KeyboardEvent(r down)\n",
      "KeyboardEvent(i down)\n",
      "KeyboardEvent(s down)\n",
      "KeyboardEvent(t down)\n",
      "KeyboardEvent(i down)\n",
      "KeyboardEvent(a down)\n",
      "KeyboardEvent(n down)\n",
      "KeyboardEvent(t down)\n",
      "KeyboardEvent(o down)\n",
      "KeyboardEvent(shift down)\n",
      "KeyboardEvent(@ down)\n",
      "KeyboardEvent(g down)\n",
      "KeyboardEvent(m down)\n",
      "KeyboardEvent(a down)\n",
      "KeyboardEvent(i down)\n",
      "KeyboardEvent(l down)\n",
      "KeyboardEvent(. down)\n",
      "KeyboardEvent(c down)\n",
      "KeyboardEvent(o down)\n",
      "KeyboardEvent(m down)\n",
      "KeyboardEvent(tab down)\n",
      "KeyboardEvent(shift down)\n",
      "KeyboardEvent(R down)\n",
      "KeyboardEvent(o down)\n",
      "KeyboardEvent(n down)\n",
      "KeyboardEvent(c down)\n",
      "KeyboardEvent(h down)\n",
      "KeyboardEvent(i down)\n",
      "KeyboardEvent(0 down)\n",
      "KeyboardEvent(1 down)\n",
      "KeyboardEvent(esc down)\n"
     ]
    }
   ],
   "source": [
    "for m in range(len(keyboard_events)):\n",
    "    mystring = str(keyboard_events[m])\n",
    "    letter = mystring[14:15]\n",
    "    if 'down' in mystring:\n",
    "        print (keyboard_events[m])"
   ]
  },
  {
   "cell_type": "code",
   "execution_count": 86,
   "id": "465feba0",
   "metadata": {},
   "outputs": [],
   "source": [
    "# put keyword results to list2, list3 just keystrokes\n",
    "string = []\n",
    "stroke = []\n",
    "finalword = []\n",
    "\n",
    "for m in range(len(keyboard_events)):\n",
    "    mystring = str(keyboard_events[m])\n",
    "    letter = mystring[14:15]\n",
    "    if 'down' in mystring:\n",
    "        if 'backspace' in mystring:\n",
    "            #print (string)\n",
    "            string.pop()\n",
    "            #print (string)\n",
    "            #list.append(['Keyboard Event','backspace'])\n",
    "        elif 'space' in mystring:\n",
    "             #list.append(['Keyboard Event','space'])\n",
    "             string.append(' ')\n",
    "        elif 'enter' in mystring:\n",
    "               \n",
    "            if len(string) != 0 :\n",
    "                finalword = ''.join(string) \n",
    "                list.append(['Keyboard Write',finalword])\n",
    "                list.append(['Keyboard Event','enter'])\n",
    "                string = []\n",
    "            \n",
    "            #finalword = []\n",
    "            #string.append(' Enter ')\n",
    "        elif 'tab' in mystring:\n",
    "            #list.append(['Keyboard Event','enter'])\n",
    "            #string.append(' Tab ')\n",
    "            if len(string) != 0 :\n",
    "                finalword = ''.join(string) \n",
    "                list.append(['Keyboard Write',finalword])\n",
    "                list.append(['Keyboard Event','tab'])\n",
    "                string = []\n",
    "            \n",
    "        elif 'shift' in mystring:\n",
    "            break\n",
    "            \n",
    "        elif 'esc' in mystring:\n",
    "            #list.append(['Ignore','esc'])\n",
    "            #print (mystring)\n",
    "            if len(string) != 0 :\n",
    "                finalword = ''.join(string) \n",
    "                list.append(['Keyboard Write',finalword])\n",
    "                list.append(['Keyboard Event','enter'])\n",
    "                string = []\n",
    "        else:\n",
    "            string.append(letter)"
   ]
  },
  {
   "cell_type": "code",
   "execution_count": 85,
   "id": "42fc3e30",
   "metadata": {},
   "outputs": [
    {
     "data": {
      "text/plain": [
       "[]"
      ]
     },
     "execution_count": 85,
     "metadata": {},
     "output_type": "execute_result"
    }
   ],
   "source": [
    "finalword"
   ]
  },
  {
   "cell_type": "markdown",
   "id": "bf464b8b",
   "metadata": {},
   "source": [
    "# Testing issue, some keyboard events such netbank not registering keys in my list"
   ]
  },
  {
   "cell_type": "code",
   "execution_count": 32,
   "id": "d28dc0e3",
   "metadata": {},
   "outputs": [],
   "source": [
    "list = []\n",
    "\n",
    "for i in range(len(mouse_events)):\n",
    "    if mouse_events[i][0] == 'down':\n",
    "        # pick up previus coordinate\n",
    "        #row = i - 1\n",
    "        #x = mouse_events[row][0]\n",
    "        #y = mouse_events[row][1]     \n",
    "        #list.append([x,y])\n",
    "        \n",
    "        for chk in range(1,5):\n",
    "        #    # check previous 5 rows until you dont see 'down' or 'up' key\n",
    "            row = i - chk\n",
    "            if mouse_events[row][0] not in ('down','up'):\n",
    "                 x = mouse_events[row][0]\n",
    "                 y = mouse_events[row][1]     \n",
    "                 z = mouse_events[row][2]\n",
    "                 list.append(['Mouse Click Event',x,y,z])\n",
    "                 break   \n"
   ]
  },
  {
   "cell_type": "code",
   "execution_count": 33,
   "id": "44042e18",
   "metadata": {},
   "outputs": [
    {
     "data": {
      "text/plain": [
       "[['Mouse Click Event', 189, 745, 1636530845.2290127],\n",
       " ['Mouse Click Event', 419, 228, 1636530847.4760475]]"
      ]
     },
     "execution_count": 33,
     "metadata": {},
     "output_type": "execute_result"
    }
   ],
   "source": [
    "list"
   ]
  },
  {
   "cell_type": "code",
   "execution_count": 264,
   "id": "f76f623f",
   "metadata": {},
   "outputs": [
    {
     "data": {
      "text/plain": [
       "[]"
      ]
     },
     "execution_count": 264,
     "metadata": {},
     "output_type": "execute_result"
    }
   ],
   "source": [
    "finalword"
   ]
  },
  {
   "cell_type": "code",
   "execution_count": 265,
   "id": "59d2734c",
   "metadata": {},
   "outputs": [
    {
     "data": {
      "text/plain": [
       "'11695328 Tab '"
      ]
     },
     "execution_count": 265,
     "metadata": {},
     "output_type": "execute_result"
    }
   ],
   "source": [
    "''.join(string) "
   ]
  },
  {
   "cell_type": "code",
   "execution_count": 10,
   "id": "dbd219a6",
   "metadata": {},
   "outputs": [
    {
     "ename": "IndentationError",
     "evalue": "expected an indented block (<ipython-input-10-9253e8032afa>, line 17)",
     "output_type": "error",
     "traceback": [
      "\u001b[1;36m  File \u001b[1;32m\"<ipython-input-10-9253e8032afa>\"\u001b[1;36m, line \u001b[1;32m17\u001b[0m\n\u001b[1;33m    elif 'Write' in list[i][0]:\u001b[0m\n\u001b[1;37m    ^\u001b[0m\n\u001b[1;31mIndentationError\u001b[0m\u001b[1;31m:\u001b[0m expected an indented block\n"
     ]
    }
   ],
   "source": []
  },
  {
   "cell_type": "code",
   "execution_count": 249,
   "id": "242e144f",
   "metadata": {},
   "outputs": [
    {
     "data": {
      "text/plain": [
       "[['Mouse Click Event', 428, 136, 1636489419.2721257, 0],\n",
       " ['Mouse Click Event', 509, 141, 1636489420.227339, 0.9552133083343506],\n",
       " ['Mouse Click Event', 486, 130, 1636489422.1532707, 1.925931692123413],\n",
       " ['Mouse Click Event', 486, 130, 1636489422.1532707, 0.0],\n",
       " ['Mouse Click Event', 432, 7, 1636489423.9553273, 1.8020565509796143],\n",
       " ['Mouse Click Event', 525, 15, 1636489429.7898006, 5.834473371505737],\n",
       " ['Mouse Click Event', 519, 52, 1636489430.8765552, 1.086754560470581],\n",
       " ['Mouse Click Event', 304, 22, 1636489434.8816826, 4.005127429962158],\n",
       " ['Keyboard Write', 'news'],\n",
       " ['Keyboard Event', 'enter'],\n",
       " ['Keyboard Write', 'cnn'],\n",
       " ['Keyboard Event', 'enter']]"
      ]
     },
     "execution_count": 249,
     "metadata": {},
     "output_type": "execute_result"
    }
   ],
   "source": [
    "list"
   ]
  },
  {
   "cell_type": "code",
   "execution_count": 332,
   "id": "70a6caaf",
   "metadata": {},
   "outputs": [
    {
     "data": {
      "text/plain": [
       "[['Keyboard Write', 'news'],\n",
       " ['Mouse Click Event', 525, 15, 1636489429.7898006, 5.834473371505737],\n",
       " ['Keyboard Write', 'news'],\n",
       " ['Mouse Click Event', 304, 22, 1636489434.8816826, 4.005127429962158]]"
      ]
     },
     "execution_count": 332,
     "metadata": {},
     "output_type": "execute_result"
    }
   ],
   "source": [
    "newlist"
   ]
  },
  {
   "cell_type": "code",
   "execution_count": 334,
   "id": "84081b6e",
   "metadata": {},
   "outputs": [
    {
     "data": {
      "text/plain": [
       "['news']"
      ]
     },
     "execution_count": 334,
     "metadata": {},
     "output_type": "execute_result"
    }
   ],
   "source": [
    "newlist"
   ]
  },
  {
   "cell_type": "code",
   "execution_count": 335,
   "id": "2e0c5c2b",
   "metadata": {},
   "outputs": [
    {
     "data": {
      "text/plain": [
       "[['Keyboard Write', 'news'],\n",
       " ['Keyboard Event', 'enter'],\n",
       " ['Keyboard Write', 'cnn'],\n",
       " ['Keyboard Event', 'enter']]"
      ]
     },
     "execution_count": 335,
     "metadata": {},
     "output_type": "execute_result"
    }
   ],
   "source": [
    "kb"
   ]
  },
  {
   "cell_type": "code",
   "execution_count": 340,
   "id": "d49068cd",
   "metadata": {},
   "outputs": [
    {
     "data": {
      "text/plain": [
       "['Keyboard Write', 'cnn']"
      ]
     },
     "execution_count": 340,
     "metadata": {},
     "output_type": "execute_result"
    }
   ],
   "source": [
    "x.pop(2)"
   ]
  },
  {
   "cell_type": "code",
   "execution_count": 341,
   "id": "4167da34",
   "metadata": {},
   "outputs": [
    {
     "data": {
      "text/plain": [
       "[['Keyboard Write', 'news'],\n",
       " ['Keyboard Event', 'enter'],\n",
       " ['Keyboard Event', 'enter']]"
      ]
     },
     "execution_count": 341,
     "metadata": {},
     "output_type": "execute_result"
    }
   ],
   "source": [
    "x"
   ]
  },
  {
   "cell_type": "code",
   "execution_count": 338,
   "id": "fb2437f2",
   "metadata": {},
   "outputs": [
    {
     "data": {
      "text/plain": [
       "[1, 2, 4, 5]"
      ]
     },
     "execution_count": 338,
     "metadata": {},
     "output_type": "execute_result"
    }
   ],
   "source": [
    "a = [1,2,3,4,5]\n",
    "\n",
    "a.pop(2)\n",
    "a"
   ]
  },
  {
   "cell_type": "code",
   "execution_count": 266,
   "id": "a6192583",
   "metadata": {},
   "outputs": [
    {
     "data": {
      "text/plain": [
       "['Keyboard Write', 'news']"
      ]
     },
     "execution_count": 266,
     "metadata": {},
     "output_type": "execute_result"
    }
   ],
   "source": [
    "kb[0]"
   ]
  },
  {
   "cell_type": "code",
   "execution_count": 226,
   "id": "88a7436b",
   "metadata": {},
   "outputs": [
    {
     "name": "stdout",
     "output_type": "stream",
     "text": [
      "[]\n"
     ]
    }
   ],
   "source": [
    "\n",
    "mouse_events = []\n",
    "keyboard_events = []\n",
    "\n",
    "\n",
    "mouse.hook(mouse_events.append)\n",
    "keyboard.hook(keyboard_events.append)\n",
    "\n",
    "print (keyboard_events)\n",
    "keyboard.wait(\"Esc\")\n",
    "\n",
    "mouse.unhook(mouse_events.append)\n",
    "keyboard.unhook(keyboard_events.append)"
   ]
  },
  {
   "cell_type": "code",
   "execution_count": 237,
   "id": "bcaada23",
   "metadata": {},
   "outputs": [],
   "source": [
    "import threading\n",
    "import mouse\n",
    "import keyboard\n",
    "\n",
    "mouse_events = []\n",
    "\n",
    "\n",
    "mouse.hook(mouse_events.append)\n",
    "keyboard.start_recording()\n",
    "\n",
    "keyboard.wait(\"esc\")\n",
    "\n",
    "mouse.unhook(mouse_events.append)\n",
    "keyboard_events = keyboard.stop_recording()\n",
    "\n",
    "\n"
   ]
  },
  {
   "cell_type": "code",
   "execution_count": 238,
   "id": "b30a4a3e",
   "metadata": {},
   "outputs": [],
   "source": [
    "\n",
    "#Keyboard threadings:\n",
    "k_thread = threading.Thread(target = lambda :keyboard.play(keyboard_events))\n",
    "k_thread.start()\n",
    "\n",
    "#Mouse threadings:\n",
    "\n",
    "m_thread = threading.Thread(target = lambda :mouse.play(mouse_events))\n",
    "m_thread.start()\n",
    "\n",
    "#waiting for both threadings to be completed\n",
    "\n",
    "k_thread.join() \n",
    "m_thread.join()\n"
   ]
  },
  {
   "cell_type": "code",
   "execution_count": 245,
   "id": "fab0f003",
   "metadata": {},
   "outputs": [],
   "source": [
    "keyboard.start_recording()\n",
    "\n",
    "keyboard.wait('esc')\n",
    "\n",
    "\n",
    "\n",
    "x = keyboard.stop_recording()"
   ]
  },
  {
   "cell_type": "code",
   "execution_count": 247,
   "id": "8932d281",
   "metadata": {},
   "outputs": [],
   "source": [
    "keyboard.play(x)"
   ]
  },
  {
   "cell_type": "code",
   "execution_count": null,
   "id": "eafe307a",
   "metadata": {},
   "outputs": [],
   "source": []
  },
  {
   "cell_type": "code",
   "execution_count": null,
   "id": "668f88a0",
   "metadata": {},
   "outputs": [],
   "source": []
  },
  {
   "cell_type": "code",
   "execution_count": null,
   "id": "b11e0fcf",
   "metadata": {},
   "outputs": [],
   "source": []
  },
  {
   "cell_type": "code",
   "execution_count": null,
   "id": "cfeb80df",
   "metadata": {},
   "outputs": [],
   "source": []
  },
  {
   "cell_type": "code",
   "execution_count": null,
   "id": "1fecd90b",
   "metadata": {},
   "outputs": [],
   "source": []
  },
  {
   "cell_type": "code",
   "execution_count": null,
   "id": "4721e586",
   "metadata": {},
   "outputs": [],
   "source": []
  },
  {
   "cell_type": "code",
   "execution_count": null,
   "id": "b52a1bc7",
   "metadata": {},
   "outputs": [],
   "source": []
  },
  {
   "cell_type": "code",
   "execution_count": 227,
   "id": "690502de",
   "metadata": {},
   "outputs": [
    {
     "data": {
      "text/plain": [
       "[KeyboardEvent(enter up),\n",
       " KeyboardEvent(shift up),\n",
       " KeyboardEvent(backspace down),\n",
       " KeyboardEvent(backspace up),\n",
       " KeyboardEvent(backspace down),\n",
       " KeyboardEvent(backspace up),\n",
       " KeyboardEvent(backspace down),\n",
       " KeyboardEvent(backspace up),\n",
       " KeyboardEvent(backspace down),\n",
       " KeyboardEvent(backspace up),\n",
       " KeyboardEvent(backspace down),\n",
       " KeyboardEvent(backspace up),\n",
       " KeyboardEvent(r down),\n",
       " KeyboardEvent(r up),\n",
       " KeyboardEvent(o down),\n",
       " KeyboardEvent(o up),\n",
       " KeyboardEvent(n down),\n",
       " KeyboardEvent(n up),\n",
       " KeyboardEvent(n down),\n",
       " KeyboardEvent(n up),\n",
       " KeyboardEvent(n down),\n",
       " KeyboardEvent(n up),\n",
       " KeyboardEvent(y down),\n",
       " KeyboardEvent(y up),\n",
       " KeyboardEvent(enter down),\n",
       " KeyboardEvent(enter up),\n",
       " KeyboardEvent(esc down)]"
      ]
     },
     "execution_count": 227,
     "metadata": {},
     "output_type": "execute_result"
    }
   ],
   "source": [
    "keyboard_events"
   ]
  },
  {
   "cell_type": "code",
   "execution_count": null,
   "id": "1fe2a60b",
   "metadata": {},
   "outputs": [],
   "source": []
  },
  {
   "cell_type": "code",
   "execution_count": null,
   "id": "eeaf66f3",
   "metadata": {},
   "outputs": [],
   "source": []
  },
  {
   "cell_type": "code",
   "execution_count": 198,
   "id": "c3a51929",
   "metadata": {},
   "outputs": [
    {
     "name": "stdout",
     "output_type": "stream",
     "text": [
      "322 634\n",
      "454 672\n",
      "319 641\n"
     ]
    }
   ],
   "source": [
    "# replay the click        \n",
    "import pyautogui as s\n",
    "import time\n",
    "\n",
    "for i in range(len(list)):\n",
    "    if 'Mouse' in list[i][0]:\n",
    "        x = list[i][1]\n",
    "        y = list[i][2]\n",
    "        print (x,y)\n",
    "        s.moveTo(x,y,0.7)\n",
    "        s.click()\n",
    "    elif 'Write' in list[i][0]:\n",
    "        break\n",
    "        #s.write(list[i][1],0.3)\n",
    "    elif 'enter' in list[i][1]:\n",
    "        s.press('enter')\n",
    "        time.sleep(0.8)\n"
   ]
  },
  {
   "cell_type": "code",
   "execution_count": null,
   "id": "ead682c8",
   "metadata": {},
   "outputs": [],
   "source": []
  },
  {
   "cell_type": "code",
   "execution_count": 98,
   "id": "d2dcb22c",
   "metadata": {},
   "outputs": [
    {
     "name": "stdout",
     "output_type": "stream",
     "text": [
      "ButtonEvent(event_type='down', button='left', time=1636454550.4821577)\n",
      "ButtonEvent(event_type='down', button='left', time=1636454551.8724537)\n",
      "ButtonEvent(event_type='down', button='left', time=1636454553.8425562)\n"
     ]
    }
   ],
   "source": [
    "for index, i in enumerate(mouse_events):\n",
    "    if i[0]=='down':\n",
    "        print (i)"
   ]
  },
  {
   "cell_type": "code",
   "execution_count": 146,
   "id": "f1ec8119",
   "metadata": {},
   "outputs": [
    {
     "data": {
      "text/plain": [
       "[['Mouse Click Event', 833, 5, 1636457192.3343918],\n",
       " ['Mouse Click Event', 795, 53, 1636457194.858271],\n",
       " ['Mouse Click Event', 1017, 14, 1636457197.228481],\n",
       " ['Mouse Click Event', 941, 59, 1636457198.6952045],\n",
       " ['Mouse Click Event', 807, 27, 1636457203.4033446]]"
      ]
     },
     "execution_count": 146,
     "metadata": {},
     "output_type": "execute_result"
    }
   ],
   "source": [
    "import pandas as pd\n",
    "x = pd.DataFrame(list)\n",
    "\n",
    "x.values.tolist()"
   ]
  },
  {
   "cell_type": "code",
   "execution_count": 166,
   "id": "dd9f04b3",
   "metadata": {},
   "outputs": [
    {
     "data": {
      "text/plain": [
       "[['Mouse Click Event', 787, 21, 1636458629.9285266],\n",
       " ['Mouse Click Event', 707, 46, 1636458631.1554253],\n",
       " ['Mouse Click Event', 1032, 19, 1636458638.2141252],\n",
       " ['Mouse Click Event', 896, 50, 1636458639.3800523],\n",
       " ['Mouse Click Event', 599, 11, 1636458644.8895667],\n",
       " ['Keyboard Write', 'cnn.com'],\n",
       " ['Keyboard Event', 'enter'],\n",
       " ['Keyboard Write', 'msn'],\n",
       " ['Keyboard Event', 'enter']]"
      ]
     },
     "execution_count": 166,
     "metadata": {},
     "output_type": "execute_result"
    }
   ],
   "source": [
    "list"
   ]
  },
  {
   "cell_type": "code",
   "execution_count": 165,
   "id": "9723e551",
   "metadata": {},
   "outputs": [
    {
     "name": "stdout",
     "output_type": "stream",
     "text": [
      "1.2268986701965332\n",
      "7.0586998462677\n",
      "1.1659271717071533\n",
      "5.509514331817627\n"
     ]
    }
   ],
   "source": [
    "for index, i in enumerate(list):\n",
    "   try :\n",
    "    if index != 0:\n",
    "        now = list[index][3]\n",
    "        before = list[index-1][3]\n",
    "        duration = now - before\n",
    "        print (duration)\n",
    "   except:\n",
    "        break\n",
    "   "
   ]
  },
  {
   "cell_type": "code",
   "execution_count": 131,
   "id": "c7b34cfa",
   "metadata": {},
   "outputs": [
    {
     "data": {
      "text/plain": [
       "['Mouse Click Event', 427, 133, 1636455539.912833]"
      ]
     },
     "execution_count": 131,
     "metadata": {},
     "output_type": "execute_result"
    }
   ],
   "source": [
    "list[1]"
   ]
  },
  {
   "cell_type": "code",
   "execution_count": 119,
   "id": "6d75023c",
   "metadata": {},
   "outputs": [],
   "source": [
    "x = [2,3,4,5]\n",
    "\n",
    "start = 0\n",
    "for i in x:\n",
    "    start -= i\n",
    "        "
   ]
  },
  {
   "cell_type": "code",
   "execution_count": 120,
   "id": "2afa6331",
   "metadata": {},
   "outputs": [
    {
     "data": {
      "text/plain": [
       "-14"
      ]
     },
     "execution_count": 120,
     "metadata": {},
     "output_type": "execute_result"
    }
   ],
   "source": [
    "start"
   ]
  },
  {
   "cell_type": "code",
   "execution_count": 108,
   "id": "727a6d1e",
   "metadata": {},
   "outputs": [],
   "source": [
    "import pickle\n",
    "\n",
    "\n",
    "# save the recording    \n",
    "with open('record.txt', 'wb') as fh:\n",
    "   pickle.dump(list, fh)\n",
    "\n",
    "# open the recording\n",
    "pickle_off = open ('record.txt', \"rb\")\n",
    "emp = pickle.load(pickle_off)"
   ]
  },
  {
   "cell_type": "code",
   "execution_count": 109,
   "id": "c2fca6cc",
   "metadata": {},
   "outputs": [],
   "source": [
    "\n"
   ]
  },
  {
   "cell_type": "code",
   "execution_count": 111,
   "id": "cb5e13eb",
   "metadata": {},
   "outputs": [
    {
     "data": {
      "text/plain": [
       "['Mouse Click Event', 341, 549, 1636454841.7740355]"
      ]
     },
     "execution_count": 111,
     "metadata": {},
     "output_type": "execute_result"
    }
   ],
   "source": [
    "emp[0]"
   ]
  },
  {
   "cell_type": "code",
   "execution_count": 59,
   "id": "00aed10f",
   "metadata": {},
   "outputs": [
    {
     "name": "stdout",
     "output_type": "stream",
     "text": [
      "780 20\n",
      "747 52\n",
      "1016 20\n",
      "1140 14\n"
     ]
    }
   ],
   "source": [
    "\n",
    "# replay the click        \n",
    "import pyautogui as s\n",
    "import time\n",
    "\n",
    "for i in range(len(list)):\n",
    "    if 'Mouse' in list[i][0]:\n",
    "        x = list[i][1]\n",
    "        y = list[i][2]\n",
    "        print (x,y)\n",
    "        s.moveTo(x,y,0.7)\n",
    "        s.click()\n",
    "    elif 'Write' in list[i][0]:\n",
    "        s.write(list[i][1],0.3)\n",
    "    elif 'enter' in list[i][1]:\n",
    "        s.press('enter')\n",
    "        time.sleep(0.8)\n"
   ]
  },
  {
   "cell_type": "code",
   "execution_count": 83,
   "id": "4adc3e30",
   "metadata": {},
   "outputs": [],
   "source": [
    "mouse.hook(mouse_events.append)\n",
    "#keyboard.start_recording()\n",
    "\n",
    "keyboard.wait(\"Esc\")\n",
    "\n",
    "if keyboard.is_pressed('w'):\n",
    "    print ('w')\n",
    "\n",
    "mouse.unhook(mouse_events.append)\n",
    "#keyboard_events = keyboard.stop_recording()\n",
    "\n"
   ]
  },
  {
   "cell_type": "code",
   "execution_count": 68,
   "id": "6b437a85",
   "metadata": {},
   "outputs": [
    {
     "data": {
      "text/plain": [
       "-1636446391.55322"
      ]
     },
     "execution_count": 68,
     "metadata": {},
     "output_type": "execute_result"
    }
   ],
   "source": [
    "y = mouse_events[100][2]\n",
    "\n",
    "(x - y)"
   ]
  },
  {
   "cell_type": "code",
   "execution_count": 41,
   "id": "edd21944",
   "metadata": {},
   "outputs": [],
   "source": [
    "s.moveTo(566,23,1.5)\n",
    "s.click()\n",
    "#s.moveTo(747,9,3)"
   ]
  },
  {
   "cell_type": "code",
   "execution_count": 77,
   "id": "3d3beb73",
   "metadata": {},
   "outputs": [
    {
     "data": {
      "text/plain": [
       "20.34745144844055"
      ]
     },
     "execution_count": 77,
     "metadata": {},
     "output_type": "execute_result"
    }
   ],
   "source": [
    "x = mouse_events[0][2]\n",
    "y = mouse_events[316][2]\n",
    "\n",
    "y - x"
   ]
  },
  {
   "cell_type": "code",
   "execution_count": 72,
   "id": "0c531049",
   "metadata": {},
   "outputs": [
    {
     "name": "stdout",
     "output_type": "stream",
     "text": [
      "1636453219.5233865 1636453221.5258746\n"
     ]
    }
   ],
   "source": [
    "import time\n",
    "\n",
    "x = time.time()\n",
    "\n",
    "time.sleep(2)\n",
    "\n",
    "y = time.time()\n",
    "\n",
    "print (x,y)"
   ]
  },
  {
   "cell_type": "code",
   "execution_count": 73,
   "id": "0c8c56ea",
   "metadata": {},
   "outputs": [
    {
     "data": {
      "text/plain": [
       "-2.002488136291504"
      ]
     },
     "execution_count": 73,
     "metadata": {},
     "output_type": "execute_result"
    }
   ],
   "source": [
    "x - y"
   ]
  },
  {
   "cell_type": "markdown",
   "id": "0e11a8ec",
   "metadata": {},
   "source": [
    "list"
   ]
  },
  {
   "cell_type": "markdown",
   "id": "be86cae9",
   "metadata": {},
   "source": [
    "list"
   ]
  },
  {
   "cell_type": "markdown",
   "id": "f2a24047",
   "metadata": {},
   "source": [
    "list"
   ]
  },
  {
   "cell_type": "code",
   "execution_count": 21,
   "id": "a8eb43c7",
   "metadata": {},
   "outputs": [
    {
     "data": {
      "text/plain": [
       "[['Mouse Click Event', 549, 17],\n",
       " ['Mouse Click Event', 485, 43],\n",
       " ['Mouse Click Event', 742, 15],\n",
       " ['Keyboard Write', 'www.smh.com.au'],\n",
       " ['Keyboard Event', 'enter']]"
      ]
     },
     "execution_count": 21,
     "metadata": {},
     "output_type": "execute_result"
    }
   ],
   "source": [
    "list"
   ]
  },
  {
   "cell_type": "code",
   "execution_count": null,
   "id": "cf173da8",
   "metadata": {},
   "outputs": [],
   "source": []
  },
  {
   "cell_type": "code",
   "execution_count": 58,
   "id": "f4580213",
   "metadata": {},
   "outputs": [
    {
     "data": {
      "text/plain": [
       "[KeyboardEvent(r down),\n",
       " KeyboardEvent(r up),\n",
       " KeyboardEvent(o down),\n",
       " KeyboardEvent(o up),\n",
       " KeyboardEvent(n down),\n",
       " KeyboardEvent(n up),\n",
       " KeyboardEvent(n down),\n",
       " KeyboardEvent(n up),\n",
       " KeyboardEvent(enter down),\n",
       " KeyboardEvent(enter up),\n",
       " KeyboardEvent(c down),\n",
       " KeyboardEvent(c up),\n",
       " KeyboardEvent(r down),\n",
       " KeyboardEvent(r up),\n",
       " KeyboardEvent(backspace down),\n",
       " KeyboardEvent(backspace up),\n",
       " KeyboardEvent(h down),\n",
       " KeyboardEvent(h up),\n",
       " KeyboardEvent(r down),\n",
       " KeyboardEvent(i down),\n",
       " KeyboardEvent(r up),\n",
       " KeyboardEvent(i up),\n",
       " KeyboardEvent(s down),\n",
       " KeyboardEvent(s up),\n",
       " KeyboardEvent(t down),\n",
       " KeyboardEvent(t up),\n",
       " KeyboardEvent(i down),\n",
       " KeyboardEvent(a down),\n",
       " KeyboardEvent(n down),\n",
       " KeyboardEvent(i up),\n",
       " KeyboardEvent(a up),\n",
       " KeyboardEvent(n up),\n",
       " KeyboardEvent(t down),\n",
       " KeyboardEvent(o down),\n",
       " KeyboardEvent(t up),\n",
       " KeyboardEvent(o up),\n",
       " KeyboardEvent(enter down),\n",
       " KeyboardEvent(enter up),\n",
       " KeyboardEvent(esc down)]"
      ]
     },
     "execution_count": 58,
     "metadata": {},
     "output_type": "execute_result"
    }
   ],
   "source": [
    "keyboard_events"
   ]
  },
  {
   "cell_type": "code",
   "execution_count": 13,
   "id": "76213a4a",
   "metadata": {},
   "outputs": [
    {
     "name": "stdout",
     "output_type": "stream",
     "text": [
      "613 20\n",
      "365 4\n",
      "169 20\n",
      "565 21\n",
      "1048 22\n",
      "no action\n"
     ]
    }
   ],
   "source": [
    "# replay the click        \n",
    "import pyautogui as s\n",
    "import time\n",
    "\n",
    "for i in range(len(list)):\n",
    "    if 'Mouse' in list[i][0]:\n",
    "        x = list[i][1]\n",
    "        y = list[i][2]\n",
    "        print (x,y)\n",
    "        s.click(x,y)\n",
    "        time.sleep(1.5)\n",
    "    else:\n",
    "        print ('no action')"
   ]
  },
  {
   "cell_type": "code",
   "execution_count": 45,
   "id": "db8d7fea",
   "metadata": {},
   "outputs": [
    {
     "data": {
      "text/plain": [
       "'ronny cristianto Enter  Enter  Enter '"
      ]
     },
     "execution_count": 45,
     "metadata": {},
     "output_type": "execute_result"
    }
   ],
   "source": [
    "list[1][1]"
   ]
  },
  {
   "cell_type": "code",
   "execution_count": 179,
   "id": "afd9a2c1",
   "metadata": {},
   "outputs": [
    {
     "data": {
      "text/plain": [
       "[['Mouse Click Event', 1400, 11],\n",
       " ['Mouse Click Event', 876, 334],\n",
       " ['Mouse Click Event', 920, 421],\n",
       " ['Mouse Click Event', 556, 11],\n",
       " ['Keyboard Write', ' Shift B4055 Shift PH Shift !']]"
      ]
     },
     "execution_count": 179,
     "metadata": {},
     "output_type": "execute_result"
    }
   ],
   "source": [
    "for index, i in enumerate(keyboard_events):\n",
    "    if 'down' in str(i):\n",
    "        "
   ]
  },
  {
   "cell_type": "code",
   "execution_count": 30,
   "id": "e65a4ab3",
   "metadata": {},
   "outputs": [
    {
     "data": {
      "text/plain": [
       "1"
      ]
     },
     "execution_count": 30,
     "metadata": {},
     "output_type": "execute_result"
    }
   ],
   "source": [
    "len(str(keyboard_events[6])[14:15])"
   ]
  },
  {
   "cell_type": "code",
   "execution_count": 41,
   "id": "b450b4ca",
   "metadata": {},
   "outputs": [
    {
     "name": "stdout",
     "output_type": "stream",
     "text": [
      "KeyboardEvent(enter down)\n",
      "KeyboardEvent(enter down)\n",
      "KeyboardEvent(enter down)\n",
      "KeyboardEvent(enter down)\n",
      "KeyboardEvent(enter down)\n",
      "KeyboardEvent(enter down)\n",
      "KeyboardEvent(backspace down)\n",
      "KeyboardEvent(backspace down)\n",
      "KeyboardEvent(backspace down)\n",
      "KeyboardEvent(r down)\n",
      "KeyboardEvent(r down)\n",
      "KeyboardEvent(r down)\n",
      "KeyboardEvent(r down)\n",
      "KeyboardEvent(o down)\n",
      "KeyboardEvent(o down)\n",
      "KeyboardEvent(o down)\n",
      "KeyboardEvent(o down)\n",
      "KeyboardEvent(n down)\n",
      "KeyboardEvent(n down)\n",
      "KeyboardEvent(n down)\n",
      "KeyboardEvent(n down)\n",
      "KeyboardEvent(n down)\n",
      "KeyboardEvent(n down)\n",
      "KeyboardEvent(n down)\n",
      "KeyboardEvent(n down)\n",
      "KeyboardEvent(y down)\n",
      "KeyboardEvent(y down)\n",
      "KeyboardEvent(y down)\n",
      "KeyboardEvent(y down)\n",
      "KeyboardEvent(space down)\n",
      "KeyboardEvent(space down)\n",
      "KeyboardEvent(space down)\n",
      "KeyboardEvent(c down)\n",
      "KeyboardEvent(c down)\n",
      "KeyboardEvent(c down)\n",
      "KeyboardEvent(c down)\n",
      "KeyboardEvent(h down)\n",
      "KeyboardEvent(h down)\n",
      "KeyboardEvent(h down)\n",
      "KeyboardEvent(h down)\n",
      "KeyboardEvent(r down)\n",
      "KeyboardEvent(r down)\n",
      "KeyboardEvent(r down)\n",
      "KeyboardEvent(r down)\n",
      "KeyboardEvent(i down)\n",
      "KeyboardEvent(i down)\n",
      "KeyboardEvent(i down)\n",
      "KeyboardEvent(i down)\n",
      "KeyboardEvent(s down)\n",
      "KeyboardEvent(s down)\n",
      "KeyboardEvent(s down)\n",
      "KeyboardEvent(s down)\n",
      "KeyboardEvent(t down)\n",
      "KeyboardEvent(t down)\n",
      "KeyboardEvent(t down)\n",
      "KeyboardEvent(t down)\n",
      "KeyboardEvent(i down)\n",
      "KeyboardEvent(i down)\n",
      "KeyboardEvent(i down)\n",
      "KeyboardEvent(i down)\n",
      "KeyboardEvent(a down)\n",
      "KeyboardEvent(a down)\n",
      "KeyboardEvent(a down)\n",
      "KeyboardEvent(a down)\n",
      "KeyboardEvent(n down)\n",
      "KeyboardEvent(n down)\n",
      "KeyboardEvent(n down)\n",
      "KeyboardEvent(n down)\n",
      "KeyboardEvent(t down)\n",
      "KeyboardEvent(t down)\n",
      "KeyboardEvent(t down)\n",
      "KeyboardEvent(t down)\n",
      "KeyboardEvent(o down)\n",
      "KeyboardEvent(o down)\n",
      "KeyboardEvent(o down)\n",
      "KeyboardEvent(o down)\n",
      "KeyboardEvent(tab down)\n",
      "KeyboardEvent(tab down)\n",
      "KeyboardEvent(tab down)\n",
      "KeyboardEvent(enter down)\n",
      "KeyboardEvent(enter down)\n",
      "KeyboardEvent(enter down)\n",
      "KeyboardEvent(tab down)\n",
      "KeyboardEvent(tab down)\n",
      "KeyboardEvent(tab down)\n",
      "KeyboardEvent(esc down)\n",
      "KeyboardEvent(esc down)\n",
      "KeyboardEvent(esc down)\n",
      "KeyboardEvent(esc down)\n"
     ]
    }
   ],
   "source": [
    "\n",
    "event = []\n",
    "string = []\n",
    "\n",
    "for index, i in enumerate(keyboard_events):\n",
    "    mystr = str(i)\n",
    "    alpha = mystr[14:15]\n",
    "    if 'down' in mystr:  # just pick up keyboard press\n",
    "        for stroke in ['enter','tab','shift','space']:\n",
    "            if stroke in mystr:\n",
    "                event.append(stroke)\n",
    "            else:\n",
    "                # combine the letters\n",
    "                string.append(alpha)\n",
    "                print (mystr)\n",
    "    "
   ]
  },
  {
   "cell_type": "code",
   "execution_count": 40,
   "id": "a4cc1569",
   "metadata": {},
   "outputs": [
    {
     "data": {
      "text/plain": [
       "['e',\n",
       " 'e',\n",
       " 'e',\n",
       " 'e',\n",
       " 'e',\n",
       " 'e',\n",
       " 'b',\n",
       " 'b',\n",
       " 'b',\n",
       " 'r',\n",
       " 'r',\n",
       " 'r',\n",
       " 'r',\n",
       " 'o',\n",
       " 'o',\n",
       " 'o',\n",
       " 'o',\n",
       " 'n',\n",
       " 'n',\n",
       " 'n',\n",
       " 'n',\n",
       " 'n',\n",
       " 'n',\n",
       " 'n',\n",
       " 'n',\n",
       " 'y',\n",
       " 'y',\n",
       " 'y',\n",
       " 'y',\n",
       " 's',\n",
       " 's',\n",
       " 's',\n",
       " 'c',\n",
       " 'c',\n",
       " 'c',\n",
       " 'c',\n",
       " 'h',\n",
       " 'h',\n",
       " 'h',\n",
       " 'h',\n",
       " 'r',\n",
       " 'r',\n",
       " 'r',\n",
       " 'r',\n",
       " 'i',\n",
       " 'i',\n",
       " 'i',\n",
       " 'i',\n",
       " 's',\n",
       " 's',\n",
       " 's',\n",
       " 's',\n",
       " 't',\n",
       " 't',\n",
       " 't',\n",
       " 't',\n",
       " 'i',\n",
       " 'i',\n",
       " 'i',\n",
       " 'i',\n",
       " 'a',\n",
       " 'a',\n",
       " 'a',\n",
       " 'a',\n",
       " 'n',\n",
       " 'n',\n",
       " 'n',\n",
       " 'n',\n",
       " 't',\n",
       " 't',\n",
       " 't',\n",
       " 't',\n",
       " 'o',\n",
       " 'o',\n",
       " 'o',\n",
       " 'o',\n",
       " 't',\n",
       " 't',\n",
       " 't',\n",
       " 'e',\n",
       " 'e',\n",
       " 'e',\n",
       " 't',\n",
       " 't',\n",
       " 't',\n",
       " 'e',\n",
       " 'e',\n",
       " 'e',\n",
       " 'e']"
      ]
     },
     "execution_count": 40,
     "metadata": {},
     "output_type": "execute_result"
    }
   ],
   "source": [
    "string"
   ]
  },
  {
   "cell_type": "code",
   "execution_count": 34,
   "id": "11825279",
   "metadata": {},
   "outputs": [
    {
     "name": "stdout",
     "output_type": "stream",
     "text": [
      "KeyboardEvent(enter down)\n",
      "KeyboardEvent(enter down)\n",
      "KeyboardEvent(backspace down)\n",
      "KeyboardEvent(r down)\n",
      "KeyboardEvent(o down)\n",
      "KeyboardEvent(n down)\n",
      "KeyboardEvent(n down)\n",
      "KeyboardEvent(y down)\n",
      "KeyboardEvent(space down)\n",
      "KeyboardEvent(c down)\n",
      "KeyboardEvent(h down)\n",
      "KeyboardEvent(r down)\n",
      "KeyboardEvent(i down)\n",
      "KeyboardEvent(s down)\n",
      "KeyboardEvent(t down)\n",
      "KeyboardEvent(i down)\n",
      "KeyboardEvent(a down)\n",
      "KeyboardEvent(n down)\n",
      "KeyboardEvent(t down)\n",
      "KeyboardEvent(o down)\n",
      "KeyboardEvent(tab down)\n",
      "KeyboardEvent(enter down)\n",
      "KeyboardEvent(tab down)\n",
      "KeyboardEvent(esc down)\n"
     ]
    }
   ],
   "source": [
    "for index, i in enumerate(keyboard_events):\n",
    "    mystr = str(i)\n",
    "    if 'down' in mystr:\n",
    "        print (i)"
   ]
  },
  {
   "cell_type": "code",
   "execution_count": 121,
   "id": "73938c20",
   "metadata": {},
   "outputs": [
    {
     "name": "stdout",
     "output_type": "stream",
     "text": [
      "ButtonEvent(event_type='down', button='left', time=1636411923.7740228) 54\n",
      "ButtonEvent(event_type='down', button='left', time=1636411924.4364748) 88\n",
      "ButtonEvent(event_type='down', button='left', time=1636411926.1194215) 117\n",
      "ButtonEvent(event_type='down', button='left', time=1636411926.9257467) 144\n",
      "ButtonEvent(event_type='down', button='left', time=1636411928.774435) 242\n"
     ]
    }
   ],
   "source": [
    "for index, i in enumerate(mouse_events):\n",
    "    if i[0]=='down':\n",
    "        print (i,index)"
   ]
  },
  {
   "cell_type": "code",
   "execution_count": null,
   "id": "a8a510d1",
   "metadata": {},
   "outputs": [],
   "source": []
  },
  {
   "cell_type": "code",
   "execution_count": 88,
   "id": "1cb85d6f",
   "metadata": {},
   "outputs": [
    {
     "data": {
      "text/plain": [
       "[MoveEvent(x=653, y=165, time=1636410943.290443),\n",
       " MoveEvent(x=654, y=165, time=1636410943.3008046),\n",
       " MoveEvent(x=654, y=168, time=1636410943.3108037),\n",
       " MoveEvent(x=655, y=168, time=1636410943.3165827),\n",
       " MoveEvent(x=655, y=170, time=1636410943.3265634),\n",
       " MoveEvent(x=656, y=173, time=1636410943.3306873),\n",
       " MoveEvent(x=656, y=176, time=1636410943.3409917),\n",
       " MoveEvent(x=657, y=183, time=1636410943.3523452),\n",
       " MoveEvent(x=657, y=191, time=1636410943.3562574),\n",
       " MoveEvent(x=658, y=203, time=1636410943.3667514),\n",
       " MoveEvent(x=658, y=214, time=1636410943.3717542),\n",
       " MoveEvent(x=660, y=227, time=1636410943.381773),\n",
       " MoveEvent(x=660, y=236, time=1636410943.3923392),\n",
       " MoveEvent(x=660, y=249, time=1636410943.3967338),\n",
       " MoveEvent(x=661, y=268, time=1636410943.4066625),\n",
       " MoveEvent(x=663, y=281, time=1636410943.412654),\n",
       " MoveEvent(x=666, y=296, time=1636410943.4227443),\n",
       " MoveEvent(x=667, y=310, time=1636410943.4318388),\n",
       " MoveEvent(x=670, y=323, time=1636410943.4358604),\n",
       " MoveEvent(x=671, y=331, time=1636410943.4464788),\n",
       " MoveEvent(x=673, y=344, time=1636410943.4525225),\n",
       " MoveEvent(x=674, y=357, time=1636410943.4624872),\n",
       " MoveEvent(x=676, y=369, time=1636410943.4726813),\n",
       " MoveEvent(x=677, y=380, time=1636410943.478677),\n",
       " MoveEvent(x=677, y=388, time=1636410943.4866738),\n",
       " MoveEvent(x=677, y=399, time=1636410943.4926655),\n",
       " MoveEvent(x=679, y=407, time=1636410943.5030284),\n",
       " MoveEvent(x=679, y=413, time=1636410943.5126514),\n",
       " MoveEvent(x=679, y=415, time=1636410943.5186322),\n",
       " MoveEvent(x=679, y=418, time=1636410943.5286794),\n",
       " MoveEvent(x=679, y=421, time=1636410943.5318933),\n",
       " MoveEvent(x=679, y=422, time=1636410943.54263),\n",
       " MoveEvent(x=680, y=424, time=1636410943.553022),\n",
       " MoveEvent(x=680, y=426, time=1636410943.5580316),\n",
       " MoveEvent(x=680, y=429, time=1636410943.568737),\n",
       " MoveEvent(x=680, y=430, time=1636410943.5727339),\n",
       " MoveEvent(x=680, y=431, time=1636410943.5830219),\n",
       " MoveEvent(x=680, y=433, time=1636410943.5920246),\n",
       " MoveEvent(x=680, y=435, time=1636410943.5978904),\n",
       " MoveEvent(x=680, y=438, time=1636410943.6147008),\n",
       " MoveEvent(x=680, y=439, time=1636410943.6246963),\n",
       " MoveEvent(x=680, y=441, time=1636410943.6346102),\n",
       " MoveEvent(x=680, y=441, time=1636410943.6486826),\n",
       " MoveEvent(x=680, y=442, time=1636410943.674308),\n",
       " ButtonEvent(event_type='down', button='left', time=1636410943.912732),\n",
       " ButtonEvent(event_type='up', button='left', time=1636410944.0666332),\n",
       " WheelEvent(delta=-1.0, time=1636410944.562774),\n",
       " WheelEvent(delta=1.0, time=1636410945.277984)]"
      ]
     },
     "execution_count": 88,
     "metadata": {},
     "output_type": "execute_result"
    }
   ],
   "source": [
    "mouse_events"
   ]
  },
  {
   "cell_type": "code",
   "execution_count": 82,
   "id": "97336e0e",
   "metadata": {},
   "outputs": [],
   "source": []
  },
  {
   "cell_type": "code",
   "execution_count": 4,
   "id": "13882dbc",
   "metadata": {},
   "outputs": [
    {
     "data": {
      "text/plain": [
       "[[420, 128], [368, 122], [322, 614], 'test']"
      ]
     },
     "execution_count": 4,
     "metadata": {},
     "output_type": "execute_result"
    }
   ],
   "source": [
    "list"
   ]
  },
  {
   "cell_type": "code",
   "execution_count": 63,
   "id": "4287cf86",
   "metadata": {},
   "outputs": [
    {
     "ename": "KeyboardInterrupt",
     "evalue": "Interrupted by user",
     "output_type": "error",
     "traceback": [
      "\u001b[1;31m---------------------------------------------------------------------------\u001b[0m",
      "\u001b[1;31mKeyboardInterrupt\u001b[0m                         Traceback (most recent call last)",
      "\u001b[1;32m<ipython-input-63-3cc3c42d5798>\u001b[0m in \u001b[0;36m<module>\u001b[1;34m\u001b[0m\n\u001b[0;32m      3\u001b[0m \u001b[1;32mimport\u001b[0m \u001b[0mpickle\u001b[0m\u001b[1;33m\u001b[0m\u001b[1;33m\u001b[0m\u001b[0m\n\u001b[0;32m      4\u001b[0m \u001b[1;33m\u001b[0m\u001b[0m\n\u001b[1;32m----> 5\u001b[1;33m \u001b[0mfile\u001b[0m \u001b[1;33m=\u001b[0m \u001b[0minput\u001b[0m\u001b[1;33m(\u001b[0m\u001b[1;34m'Mouse movement name?? :\\n'\u001b[0m\u001b[1;33m)\u001b[0m\u001b[1;33m\u001b[0m\u001b[1;33m\u001b[0m\u001b[0m\n\u001b[0m\u001b[0;32m      6\u001b[0m \u001b[0mfile\u001b[0m \u001b[1;33m=\u001b[0m \u001b[0mfile\u001b[0m \u001b[1;33m+\u001b[0m \u001b[1;34m'.txt'\u001b[0m\u001b[1;33m\u001b[0m\u001b[1;33m\u001b[0m\u001b[0m\n\u001b[0;32m      7\u001b[0m \u001b[1;33m\u001b[0m\u001b[0m\n",
      "\u001b[1;32m~\\Anaconda3\\lib\\site-packages\\ipykernel\\kernelbase.py\u001b[0m in \u001b[0;36mraw_input\u001b[1;34m(self, prompt)\u001b[0m\n\u001b[0;32m    858\u001b[0m                 \u001b[1;34m\"raw_input was called, but this frontend does not support input requests.\"\u001b[0m\u001b[1;33m\u001b[0m\u001b[1;33m\u001b[0m\u001b[0m\n\u001b[0;32m    859\u001b[0m             )\n\u001b[1;32m--> 860\u001b[1;33m         return self._input_request(str(prompt),\n\u001b[0m\u001b[0;32m    861\u001b[0m             \u001b[0mself\u001b[0m\u001b[1;33m.\u001b[0m\u001b[0m_parent_ident\u001b[0m\u001b[1;33m,\u001b[0m\u001b[1;33m\u001b[0m\u001b[1;33m\u001b[0m\u001b[0m\n\u001b[0;32m    862\u001b[0m             \u001b[0mself\u001b[0m\u001b[1;33m.\u001b[0m\u001b[0m_parent_header\u001b[0m\u001b[1;33m,\u001b[0m\u001b[1;33m\u001b[0m\u001b[1;33m\u001b[0m\u001b[0m\n",
      "\u001b[1;32m~\\Anaconda3\\lib\\site-packages\\ipykernel\\kernelbase.py\u001b[0m in \u001b[0;36m_input_request\u001b[1;34m(self, prompt, ident, parent, password)\u001b[0m\n\u001b[0;32m    902\u001b[0m             \u001b[1;32mexcept\u001b[0m \u001b[0mKeyboardInterrupt\u001b[0m\u001b[1;33m:\u001b[0m\u001b[1;33m\u001b[0m\u001b[1;33m\u001b[0m\u001b[0m\n\u001b[0;32m    903\u001b[0m                 \u001b[1;31m# re-raise KeyboardInterrupt, to truncate traceback\u001b[0m\u001b[1;33m\u001b[0m\u001b[1;33m\u001b[0m\u001b[1;33m\u001b[0m\u001b[0m\n\u001b[1;32m--> 904\u001b[1;33m                 \u001b[1;32mraise\u001b[0m \u001b[0mKeyboardInterrupt\u001b[0m\u001b[1;33m(\u001b[0m\u001b[1;34m\"Interrupted by user\"\u001b[0m\u001b[1;33m)\u001b[0m \u001b[1;32mfrom\u001b[0m \u001b[1;32mNone\u001b[0m\u001b[1;33m\u001b[0m\u001b[1;33m\u001b[0m\u001b[0m\n\u001b[0m\u001b[0;32m    905\u001b[0m             \u001b[1;32mexcept\u001b[0m \u001b[0mException\u001b[0m \u001b[1;32mas\u001b[0m \u001b[0me\u001b[0m\u001b[1;33m:\u001b[0m\u001b[1;33m\u001b[0m\u001b[1;33m\u001b[0m\u001b[0m\n\u001b[0;32m    906\u001b[0m                 \u001b[0mself\u001b[0m\u001b[1;33m.\u001b[0m\u001b[0mlog\u001b[0m\u001b[1;33m.\u001b[0m\u001b[0mwarning\u001b[0m\u001b[1;33m(\u001b[0m\u001b[1;34m\"Invalid Message:\"\u001b[0m\u001b[1;33m,\u001b[0m \u001b[0mexc_info\u001b[0m\u001b[1;33m=\u001b[0m\u001b[1;32mTrue\u001b[0m\u001b[1;33m)\u001b[0m\u001b[1;33m\u001b[0m\u001b[1;33m\u001b[0m\u001b[0m\n",
      "\u001b[1;31mKeyboardInterrupt\u001b[0m: Interrupted by user"
     ]
    }
   ],
   "source": [
    "import mouse\n",
    "import keyboard\n",
    "import pickle\n",
    "\n",
    "file = input('Mouse movement name?? :\\n')\n",
    "file = file + '.txt'\n",
    "\n",
    "# simple recording of mouse events\n",
    "\n",
    "# put to list\n",
    "mouse_events = []\n",
    "\n",
    "# start recording\n",
    "mouse.hook(mouse_events.append)\n",
    "\n",
    "\n",
    "#kb = keyboard.record(until ='Esc')\n",
    "\n",
    "#press Esc to kill the event\n",
    "if not keyboard.wait(\"Esc\"):\n",
    "    mouse.unhook_all()\n",
    "    # save the recording    \n",
    "    with open(file, 'wb') as fh:\n",
    "       pickle.dump(mouse_events, fh)\n",
    "\n",
    "\n"
   ]
  },
  {
   "cell_type": "code",
   "execution_count": 6,
   "id": "6fbfe00a",
   "metadata": {},
   "outputs": [],
   "source": [
    "import time\n",
    "# open the recording\n",
    "#pickle_off = open (r'C:\\Users\\r.christianto\\Mouse1.txt', \"rb\")\n",
    "pickle_off = open (file, \"rb\")\n",
    "emp = pickle.load(pickle_off)\n",
    "\n",
    "\n",
    "# replay the events\n",
    "mouse.play(emp)cd downloads\n",
    "time.sleep(2)\n",
    "keyboard.write(\"cd downloads\")"
   ]
  },
  {
   "cell_type": "markdown",
   "id": "6ca136ac",
   "metadata": {},
   "source": [
    "# Solved problems with storing into text file via pickle. Now next step combining the two mouse and keyboard"
   ]
  },
  {
   "cell_type": "markdown",
   "id": "45d399ca",
   "metadata": {},
   "source": [
    "# This code below can listen mouse and keyboard but need to fix it to put the coordinates in dataframe and looping. mouse stops after one click"
   ]
  },
  {
   "cell_type": "code",
   "execution_count": null,
   "id": "23fa8a23",
   "metadata": {},
   "outputs": [],
   "source": [
    "from pynput import mouse\n",
    "from pynput import keyboard\n",
    "\n",
    "def on_move(x, y):\n",
    "    print('Pointer moved to {0}'.format(\n",
    "        (x, y)))\n",
    "\n",
    "def on_click(x, y, button, pressed):\n",
    "    print('{0} at {1}'.format(\n",
    "        'Pressed' if pressed else 'Released',\n",
    "        (x, y)))\n",
    "    if not pressed:\n",
    "        # Stop listener\n",
    "        return False\n",
    "\n",
    "def on_scroll(x, y, dx, dy):\n",
    "    print('Scrolled {0}'.format(\n",
    "        (x, y)))\n",
    "\n",
    "def on_press(key):\n",
    "    try:\n",
    "        print('alphanumeric key {0} pressed'.format(\n",
    "            key.char))\n",
    "    except AttributeError:\n",
    "        print('special key {0} pressed'.format(\n",
    "            key))\n",
    "\n",
    "def on_release(key):\n",
    "    print('{0} released'.format(\n",
    "        key))\n",
    "    if key == keyboard.Key.esc:\n",
    "        # Stop listener\n",
    "        return False \n",
    "\n",
    "# Collect events until released\n",
    "  \n",
    "\n",
    "with keyboard.Listener(on_release=on_release) as k_listener, mouse.Listener(on_click=on_click) as m_listener:\n",
    "    k_listener.join()\n",
    "    m_listener.join()"
   ]
  },
  {
   "cell_type": "markdown",
   "id": "2df5f4ee",
   "metadata": {},
   "source": [
    "# Fixing the above to create dataframe and just focus on click and write"
   ]
  },
  {
   "cell_type": "code",
   "execution_count": 147,
   "id": "212c045a",
   "metadata": {},
   "outputs": [
    {
     "name": "stdout",
     "output_type": "stream",
     "text": [
      "315 631\n",
      "False\n"
     ]
    }
   ],
   "source": [
    "from pynput import mouse\n",
    "from pynput import keyboard\n",
    "\n",
    "list1 = []\n",
    "list2 = []\n",
    "words = []\n",
    "\n",
    "def on_click(x, y, button, pressed):\n",
    "    if pressed:\n",
    "        print (x,y)\n",
    "        list1.append(['Mouse',x,y])\n",
    "    else:\n",
    "        # Stop listener\n",
    "        print (pressed)\n",
    "        return False\n",
    "\n",
    "def on_release(key):\n",
    "    \n",
    "    #convert key to string\n",
    "    x = str(key)\n",
    "    # print initial key\n",
    "    #print (key)\n",
    "    \n",
    "    # if not key must be word, append all words\n",
    "    if x[0:3] != 'Key':\n",
    "        list2.append(str(key)[1])\n",
    "    \n",
    "    # if space, insert ' '\n",
    "    elif str(key)[4:9] == 'space':\n",
    "        list2.append(' ')\n",
    "        \n",
    "        \n",
    "    if key == keyboard.Key.esc:\n",
    "        # Stop listener\n",
    "        words.append(['String',''.join(list2)])\n",
    "        return False\n",
    "    \n",
    "        \n",
    "\n",
    "# Collect events until released\n",
    "  \n",
    "\n",
    "with keyboard.Listener(on_release=on_release) as k_listener, mouse.Listener(on_click=on_click) as m_listener:\n",
    "    k_listener.join()\n",
    "    m_listener.join()"
   ]
  },
  {
   "cell_type": "code",
   "execution_count": null,
   "id": "ef97e8ac",
   "metadata": {},
   "outputs": [],
   "source": []
  },
  {
   "cell_type": "code",
   "execution_count": null,
   "id": "6a4181ec",
   "metadata": {},
   "outputs": [],
   "source": [
    "# mouse listener testing to make it run a few times\n",
    "\n",
    "from pynput import mouse\n",
    "from pynput import keyboard\n",
    "\n",
    "list1 = []\n",
    "list2 = []\n",
    "words = []\n",
    "\n",
    "def on_click(x, y, button, pressed):\n",
    "    if pressed:\n",
    "        print (x,y)\n",
    "        list1.append(['Mouse',x,y])\n",
    "    else:\n",
    "        # Stop listener\n",
    "        print (pressed)\n",
    "        return False\n",
    "\n",
    "def on_release(key):\n",
    "    \n",
    "    #convert key to string\n",
    "    x = str(key)\n",
    "    # print initial key\n",
    "    #print (key)\n",
    "    \n",
    "    # if not key must be word, append all words\n",
    "    if x[0:3] != 'Key':\n",
    "        list2.append(str(key)[1])\n",
    "    \n",
    "    # if space, insert ' '\n",
    "    elif str(key)[4:9] == 'space':\n",
    "        list2.append(' ')\n",
    "        \n",
    "        \n",
    "    if key == keyboard.Key.esc:\n",
    "        # Stop listener\n",
    "        words.append(['String',''.join(list2)])\n",
    "        return False\n",
    "    \n",
    "        \n",
    "\n",
    "# Collect events until released\n",
    "  \n",
    "\n",
    "with keyboard.Listener(on_release=on_release) as k_listener, mouse.Listener(on_click=on_click) as m_listener:\n",
    "    k_listener.join()\n",
    "    m_listener.join()"
   ]
  },
  {
   "cell_type": "code",
   "execution_count": 4,
   "id": "f8e31ae3",
   "metadata": {},
   "outputs": [
    {
     "name": "stdout",
     "output_type": "stream",
     "text": [
      "315 511\n",
      "315 511\n",
      "Key.backspace\n",
      "Key.backspace\n",
      "Key.backspace\n",
      "Key.backspace\n",
      "Key.backspace\n",
      "Key.backspace\n",
      "Key.backspace\n",
      "'t'\n",
      "'e'\n",
      "'s'\n",
      "'t'\n",
      "'i'\n",
      "'n'\n",
      "'g'\n",
      "486 128\n",
      "Key.esc\n"
     ]
    },
    {
     "ename": "KeyboardInterrupt",
     "evalue": "",
     "output_type": "error",
     "traceback": [
      "\u001b[1;31m---------------------------------------------------------------------------\u001b[0m",
      "\u001b[1;31mKeyboardInterrupt\u001b[0m                         Traceback (most recent call last)",
      "\u001b[1;32m<ipython-input-4-7338d989620b>\u001b[0m in \u001b[0;36m<module>\u001b[1;34m\u001b[0m\n\u001b[0;32m     29\u001b[0m \u001b[1;33m\u001b[0m\u001b[0m\n\u001b[0;32m     30\u001b[0m \u001b[1;32mwith\u001b[0m \u001b[0mkeyboard\u001b[0m\u001b[1;33m.\u001b[0m\u001b[0mListener\u001b[0m\u001b[1;33m(\u001b[0m\u001b[0mon_release\u001b[0m\u001b[1;33m=\u001b[0m\u001b[0mon_release\u001b[0m\u001b[1;33m)\u001b[0m \u001b[1;32mas\u001b[0m \u001b[0mk_listener\u001b[0m\u001b[1;33m,\u001b[0m \u001b[0mmouse\u001b[0m\u001b[1;33m.\u001b[0m\u001b[0mListener\u001b[0m\u001b[1;33m(\u001b[0m\u001b[0mon_click\u001b[0m\u001b[1;33m=\u001b[0m\u001b[0mon_click\u001b[0m\u001b[1;33m)\u001b[0m \u001b[1;32mas\u001b[0m \u001b[0mm_listener\u001b[0m\u001b[1;33m:\u001b[0m\u001b[1;33m\u001b[0m\u001b[1;33m\u001b[0m\u001b[0m\n\u001b[1;32m---> 31\u001b[1;33m     \u001b[0mk_listener\u001b[0m\u001b[1;33m.\u001b[0m\u001b[0mjoin\u001b[0m\u001b[1;33m(\u001b[0m\u001b[1;33m)\u001b[0m\u001b[1;33m\u001b[0m\u001b[1;33m\u001b[0m\u001b[0m\n\u001b[0m\u001b[0;32m     32\u001b[0m     \u001b[0mm_listener\u001b[0m\u001b[1;33m.\u001b[0m\u001b[0mjoin\u001b[0m\u001b[1;33m(\u001b[0m\u001b[1;33m)\u001b[0m\u001b[1;33m\u001b[0m\u001b[1;33m\u001b[0m\u001b[0m\n",
      "\u001b[1;32m~\\Anaconda3\\lib\\site-packages\\pynput\\_util\\__init__.py\u001b[0m in \u001b[0;36mjoin\u001b[1;34m(self, *args)\u001b[0m\n\u001b[0;32m    250\u001b[0m \u001b[1;33m\u001b[0m\u001b[0m\n\u001b[0;32m    251\u001b[0m     \u001b[1;32mdef\u001b[0m \u001b[0mjoin\u001b[0m\u001b[1;33m(\u001b[0m\u001b[0mself\u001b[0m\u001b[1;33m,\u001b[0m \u001b[1;33m*\u001b[0m\u001b[0margs\u001b[0m\u001b[1;33m)\u001b[0m\u001b[1;33m:\u001b[0m\u001b[1;33m\u001b[0m\u001b[1;33m\u001b[0m\u001b[0m\n\u001b[1;32m--> 252\u001b[1;33m         \u001b[0msuper\u001b[0m\u001b[1;33m(\u001b[0m\u001b[0mAbstractListener\u001b[0m\u001b[1;33m,\u001b[0m \u001b[0mself\u001b[0m\u001b[1;33m)\u001b[0m\u001b[1;33m.\u001b[0m\u001b[0mjoin\u001b[0m\u001b[1;33m(\u001b[0m\u001b[1;33m*\u001b[0m\u001b[0margs\u001b[0m\u001b[1;33m)\u001b[0m\u001b[1;33m\u001b[0m\u001b[1;33m\u001b[0m\u001b[0m\n\u001b[0m\u001b[0;32m    253\u001b[0m \u001b[1;33m\u001b[0m\u001b[0m\n\u001b[0;32m    254\u001b[0m         \u001b[1;31m# Reraise any exceptions\u001b[0m\u001b[1;33m\u001b[0m\u001b[1;33m\u001b[0m\u001b[1;33m\u001b[0m\u001b[0m\n",
      "\u001b[1;32m~\\Anaconda3\\lib\\threading.py\u001b[0m in \u001b[0;36mjoin\u001b[1;34m(self, timeout)\u001b[0m\n\u001b[0;32m   1009\u001b[0m \u001b[1;33m\u001b[0m\u001b[0m\n\u001b[0;32m   1010\u001b[0m         \u001b[1;32mif\u001b[0m \u001b[0mtimeout\u001b[0m \u001b[1;32mis\u001b[0m \u001b[1;32mNone\u001b[0m\u001b[1;33m:\u001b[0m\u001b[1;33m\u001b[0m\u001b[1;33m\u001b[0m\u001b[0m\n\u001b[1;32m-> 1011\u001b[1;33m             \u001b[0mself\u001b[0m\u001b[1;33m.\u001b[0m\u001b[0m_wait_for_tstate_lock\u001b[0m\u001b[1;33m(\u001b[0m\u001b[1;33m)\u001b[0m\u001b[1;33m\u001b[0m\u001b[1;33m\u001b[0m\u001b[0m\n\u001b[0m\u001b[0;32m   1012\u001b[0m         \u001b[1;32melse\u001b[0m\u001b[1;33m:\u001b[0m\u001b[1;33m\u001b[0m\u001b[1;33m\u001b[0m\u001b[0m\n\u001b[0;32m   1013\u001b[0m             \u001b[1;31m# the behavior of a negative timeout isn't documented, but\u001b[0m\u001b[1;33m\u001b[0m\u001b[1;33m\u001b[0m\u001b[1;33m\u001b[0m\u001b[0m\n",
      "\u001b[1;32m~\\Anaconda3\\lib\\threading.py\u001b[0m in \u001b[0;36m_wait_for_tstate_lock\u001b[1;34m(self, block, timeout)\u001b[0m\n\u001b[0;32m   1025\u001b[0m         \u001b[1;32mif\u001b[0m \u001b[0mlock\u001b[0m \u001b[1;32mis\u001b[0m \u001b[1;32mNone\u001b[0m\u001b[1;33m:\u001b[0m  \u001b[1;31m# already determined that the C code is done\u001b[0m\u001b[1;33m\u001b[0m\u001b[1;33m\u001b[0m\u001b[0m\n\u001b[0;32m   1026\u001b[0m             \u001b[1;32massert\u001b[0m \u001b[0mself\u001b[0m\u001b[1;33m.\u001b[0m\u001b[0m_is_stopped\u001b[0m\u001b[1;33m\u001b[0m\u001b[1;33m\u001b[0m\u001b[0m\n\u001b[1;32m-> 1027\u001b[1;33m         \u001b[1;32melif\u001b[0m \u001b[0mlock\u001b[0m\u001b[1;33m.\u001b[0m\u001b[0macquire\u001b[0m\u001b[1;33m(\u001b[0m\u001b[0mblock\u001b[0m\u001b[1;33m,\u001b[0m \u001b[0mtimeout\u001b[0m\u001b[1;33m)\u001b[0m\u001b[1;33m:\u001b[0m\u001b[1;33m\u001b[0m\u001b[1;33m\u001b[0m\u001b[0m\n\u001b[0m\u001b[0;32m   1028\u001b[0m             \u001b[0mlock\u001b[0m\u001b[1;33m.\u001b[0m\u001b[0mrelease\u001b[0m\u001b[1;33m(\u001b[0m\u001b[1;33m)\u001b[0m\u001b[1;33m\u001b[0m\u001b[1;33m\u001b[0m\u001b[0m\n\u001b[0;32m   1029\u001b[0m             \u001b[0mself\u001b[0m\u001b[1;33m.\u001b[0m\u001b[0m_stop\u001b[0m\u001b[1;33m(\u001b[0m\u001b[1;33m)\u001b[0m\u001b[1;33m\u001b[0m\u001b[1;33m\u001b[0m\u001b[0m\n",
      "\u001b[1;31mKeyboardInterrupt\u001b[0m: "
     ]
    }
   ],
   "source": [
    "# mouse listener testing to make it run a few times\n",
    "# at the moment, after one click it stops\n",
    "\n",
    "from pynput import mouse\n",
    "from pynput import keyboard\n",
    "import time\n",
    "\n",
    "start = time.time()\n",
    "\n",
    "def on_click(x, y, button, pressed):\n",
    "\n",
    "    print (x,y)\n",
    "    \n",
    "    end = time.time()\n",
    "    \n",
    "    if (end - start) > 5:\n",
    "        return False\n",
    "    \n",
    "def on_release(key):\n",
    "    print (key)\n",
    "    \n",
    "    end = time.time()\n",
    "    \n",
    "    if (end - start) > 5:\n",
    "        return False\n",
    "    \n",
    "\n",
    "# Collect events until released\n",
    "  \n",
    "with keyboard.Listener(on_release=on_release) as k_listener, mouse.Listener(on_click=on_click) as m_listener:\n",
    "    k_listener.join()\n",
    "    m_listener.join()"
   ]
  },
  {
   "cell_type": "code",
   "execution_count": null,
   "id": "f9ea3896",
   "metadata": {},
   "outputs": [],
   "source": [
    "testing"
   ]
  },
  {
   "cell_type": "code",
   "execution_count": null,
   "id": "abb932a3",
   "metadata": {},
   "outputs": [],
   "source": []
  },
  {
   "cell_type": "code",
   "execution_count": null,
   "id": "36e58936",
   "metadata": {},
   "outputs": [],
   "source": [
    "\n",
    "# testing click to stop looping like esc in keyboard\n",
    "import time\n",
    "from pynput import mouse\n",
    "from pynput import keyboard\n",
    "\n",
    "\n",
    "start = time.time()\n",
    "\n",
    "def on_click(x, y, button, pressed):\n",
    "    if pressed:\n",
    "        print (x,y)\n",
    "        #start = time.time()\n",
    "    #else:\n",
    "        #print (time.time() - start)\n",
    "        #if (time.time() - start) > 10:\n",
    "        #    return False\n",
    "\n",
    "with mouse.Listener(on_click = on_click) as m_listener:\n",
    "    m_listener.join()\n",
    "    m.listener.stop()\n",
    "    \n",
    "if (time.time() - start) > 10:\n",
    "        m.listener.stop()\n",
    "\n"
   ]
  },
  {
   "cell_type": "code",
   "execution_count": null,
   "id": "ba40212d",
   "metadata": {},
   "outputs": [],
   "source": [
    "from pynput import mouse\n",
    "\n",
    "class MyException(Exception): pass\n",
    "\n",
    "def on_click(x, y, button, pressed):\n",
    "    print (x,y,button)\n",
    "    #if button == mouse.Button.right:\n",
    "    \n",
    "        #raise MyException(button)\n",
    "        return false\n",
    "# Collect events until released\n",
    "with mouse.Listener(\n",
    "        on_click=on_click) as listener:\n",
    "    \n",
    "        listener.join()\n",
    "    "
   ]
  },
  {
   "cell_type": "code",
   "execution_count": null,
   "id": "ef1171b6",
   "metadata": {},
   "outputs": [],
   "source": []
  },
  {
   "cell_type": "code",
   "execution_count": null,
   "id": "b544e464",
   "metadata": {},
   "outputs": [],
   "source": []
  },
  {
   "cell_type": "code",
   "execution_count": null,
   "id": "9195bcbc",
   "metadata": {},
   "outputs": [],
   "source": [
    "ronny christianto testing"
   ]
  },
  {
   "cell_type": "code",
   "execution_count": null,
   "id": "20248495",
   "metadata": {},
   "outputs": [],
   "source": [
    "words"
   ]
  },
  {
   "cell_type": "markdown",
   "id": "846b3f7c",
   "metadata": {},
   "source": [
    "# Testing loop"
   ]
  },
  {
   "cell_type": "code",
   "execution_count": null,
   "id": "308cd449",
   "metadata": {},
   "outputs": [],
   "source": [
    "import pyautogui\n",
    "import time\n",
    "\n",
    "import datetime\n",
    "import time\n",
    "\n",
    "pyautogui.FAILSAFE = False\n",
    "\n",
    "\n",
    "mydate = datetime.date.today()\n",
    "mytime = datetime.time(hour=10,minute=16)\n",
    "mytime = datetime.datetime.combine(mydate,mytime)\n",
    "\n",
    "while datetime.datetime.now() < mytime:\n",
    "        pyautogui.click(28,1055)\n",
    "        time.sleep(150)"
   ]
  },
  {
   "cell_type": "code",
   "execution_count": null,
   "id": "29b44558",
   "metadata": {},
   "outputs": [],
   "source": []
  },
  {
   "cell_type": "markdown",
   "id": "dac8d3a1",
   "metadata": {},
   "source": [
    "# looks promising too using mouse keyboard but pls check"
   ]
  },
  {
   "cell_type": "code",
   "execution_count": 74,
   "id": "517b4b8e",
   "metadata": {},
   "outputs": [],
   "source": [
    "import threading\n",
    "import mouse\n",
    "import keyboard\n",
    "\n",
    "mouse_events = []\n",
    "\n",
    "\n",
    "mouse.hook(mouse_events.append)\n",
    "keyboard.start_recording()\n",
    "\n",
    "keyboard.wait(\"Esc\")\n",
    "\n",
    "mouse.unhook(mouse_events.append)\n",
    "keyboard_events = keyboard.stop_recording()\n",
    "\n",
    "\n",
    "\n",
    "\n",
    "# put mouse results (click only) to list\n",
    "list = []\n",
    "\n",
    "for i in range(len(mouse_events)):\n",
    "    if mouse_events[i][0] == 'down':\n",
    "        # pick up previus coordinate\n",
    "        row = i - 1\n",
    "        x = mouse_events[row][0]\n",
    "        y = mouse_events[row][1]     \n",
    "        list.append([x,y])\n",
    "        \n",
    "# replay the click        \n",
    "import pyautogui as s\n",
    "\n",
    "for i in range(len(list)):\n",
    "    s.click(list[i][0],list[i][1])\n",
    "    time.sleep(1)\n"
   ]
  },
  {
   "cell_type": "code",
   "execution_count": 75,
   "id": "0420ddbc",
   "metadata": {},
   "outputs": [],
   "source": []
  },
  {
   "cell_type": "code",
   "execution_count": 73,
   "id": "722578f5",
   "metadata": {},
   "outputs": [],
   "source": []
  },
  {
   "cell_type": "code",
   "execution_count": 77,
   "id": "66aac3cf",
   "metadata": {},
   "outputs": [
    {
     "data": {
      "text/plain": [
       "[KeyboardEvent(esc down)]"
      ]
     },
     "execution_count": 77,
     "metadata": {},
     "output_type": "execute_result"
    }
   ],
   "source": [
    "keyboard_events"
   ]
  },
  {
   "cell_type": "code",
   "execution_count": null,
   "id": "1a70c2b8",
   "metadata": {},
   "outputs": [],
   "source": []
  },
  {
   "cell_type": "code",
   "execution_count": null,
   "id": "df1f07f3",
   "metadata": {},
   "outputs": [],
   "source": []
  },
  {
   "cell_type": "code",
   "execution_count": 32,
   "id": "8f82486f",
   "metadata": {},
   "outputs": [
    {
     "data": {
      "text/plain": [
       "[KeyboardEvent(esc down)]"
      ]
     },
     "execution_count": 32,
     "metadata": {},
     "output_type": "execute_result"
    }
   ],
   "source": [
    "keyboard_events"
   ]
  },
  {
   "cell_type": "code",
   "execution_count": null,
   "id": "2db54154",
   "metadata": {},
   "outputs": [],
   "source": [
    "mouse.play(mouse_events)\n",
    "keyboard.play(keyboard_events)"
   ]
  },
  {
   "cell_type": "markdown",
   "id": "191be554",
   "metadata": {},
   "source": [
    "keyboard_events"
   ]
  },
  {
   "cell_type": "code",
   "execution_count": null,
   "id": "e4959129",
   "metadata": {},
   "outputs": [],
   "source": [
    "for i in list2:\n",
    "    if 'Key' in i:\n",
    "        print (i)"
   ]
  },
  {
   "cell_type": "code",
   "execution_count": null,
   "id": "42250e6b",
   "metadata": {},
   "outputs": [],
   "source": [
    "tmp = []\n",
    "for i in list2:\n",
    "   i = str(i)\n",
    "   tmp.append(i) "
   ]
  },
  {
   "cell_type": "code",
   "execution_count": null,
   "id": "d2f5c736",
   "metadata": {},
   "outputs": [],
   "source": [
    "''.join(tmp)"
   ]
  },
  {
   "cell_type": "code",
   "execution_count": null,
   "id": "c8a81cbe",
   "metadata": {},
   "outputs": [],
   "source": [
    "x = ['a','b','c']\n",
    "string = ''.join(x)\n",
    "s.click(324,636)\n",
    "s.write(string)"
   ]
  },
  {
   "cell_type": "code",
   "execution_count": null,
   "id": "756cf631",
   "metadata": {},
   "outputs": [],
   "source": [
    "import pyautogui as s\n",
    "\n",
    "\n",
    "s.write(\"hello\")"
   ]
  },
  {
   "cell_type": "code",
   "execution_count": null,
   "id": "e751468c",
   "metadata": {},
   "outputs": [],
   "source": [
    "ABC"
   ]
  },
  {
   "cell_type": "code",
   "execution_count": null,
   "id": "e5af19b5",
   "metadata": {
    "scrolled": true
   },
   "outputs": [],
   "source": [
    "list"
   ]
  },
  {
   "cell_type": "code",
   "execution_count": 7,
   "id": "add201b4",
   "metadata": {},
   "outputs": [],
   "source": [
    "import mouse\n",
    "import keyboard\n",
    "\n",
    "keyboard_event = []\n",
    "mouse_event = []\n",
    "#keyboard.hook(keyboard_event.append)\n",
    "keyboard.hook(lambda _: keyboard_event.append(_))\n",
    "mouse.hook(mouse_event.append)\n",
    "\n",
    "if not keyboard.wait(\"Esc\"):\n",
    "    keyboard.unhook_all()\n",
    "    mouse.unhook_all()\n",
    "    \n",
    "    \n",
    "    \n",
    "mouse.play(mouse_event)\n"
   ]
  },
  {
   "cell_type": "markdown",
   "id": "6f0873d1",
   "metadata": {},
   "source": []
  },
  {
   "cell_type": "code",
   "execution_count": 8,
   "id": "884b7b1b",
   "metadata": {},
   "outputs": [],
   "source": [
    "mouse.play(mouse_event)\n",
    "#keyboard.play(keyboard_event)"
   ]
  },
  {
   "cell_type": "code",
   "execution_count": 4,
   "id": "74493507",
   "metadata": {},
   "outputs": [
    {
     "data": {
      "text/plain": [
       "[KeyboardEvent(esc down)]"
      ]
     },
     "execution_count": 4,
     "metadata": {},
     "output_type": "execute_result"
    }
   ],
   "source": [
    "keyboard_event"
   ]
  },
  {
   "cell_type": "code",
   "execution_count": null,
   "id": "facc2311",
   "metadata": {},
   "outputs": [],
   "source": []
  },
  {
   "cell_type": "code",
   "execution_count": null,
   "id": "68d8b96f",
   "metadata": {},
   "outputs": [],
   "source": []
  },
  {
   "cell_type": "code",
   "execution_count": null,
   "id": "46369429",
   "metadata": {},
   "outputs": [],
   "source": []
  },
  {
   "cell_type": "code",
   "execution_count": null,
   "id": "9786ff32",
   "metadata": {},
   "outputs": [],
   "source": [
    "keyboard.write(\"Hello\")"
   ]
  },
  {
   "cell_type": "code",
   "execution_count": null,
   "id": "e07c0318",
   "metadata": {},
   "outputs": [],
   "source": [
    "keyboard.start_recording()\n",
    "\n",
    "\n",
    "\n"
   ]
  },
  {
   "cell_type": "code",
   "execution_count": null,
   "id": "d8bade89",
   "metadata": {},
   "outputs": [],
   "source": [
    "keyboard.stop_recording()"
   ]
  },
  {
   "cell_type": "code",
   "execution_count": null,
   "id": "13fafa4f",
   "metadata": {},
   "outputs": [],
   "source": []
  },
  {
   "cell_type": "code",
   "execution_count": null,
   "id": "d8fddc6d",
   "metadata": {},
   "outputs": [],
   "source": []
  },
  {
   "cell_type": "code",
   "execution_count": null,
   "id": "dc88ff7a",
   "metadata": {},
   "outputs": [],
   "source": [
    "import threading\n",
    "import mouse\n",
    "import keyboard\n",
    "\n",
    "mouse_events = []\n",
    "\n",
    "\n",
    "mouse.hook(mouse_events.append)\n",
    "keyboard.start_recording()\n",
    "\n",
    "keyboard.wait(\"Esc\")\n",
    "\n",
    "mouse.unhook(mouse_events.append)\n",
    "keyboard_events = keyboard.stop_recording()\n",
    "\n",
    "mouse.play(mouse_events)\n",
    "keyboard.play(keyboard_events)\n"
   ]
  },
  {
   "cell_type": "code",
   "execution_count": null,
   "id": "2c04fdca",
   "metadata": {},
   "outputs": [],
   "source": []
  },
  {
   "cell_type": "code",
   "execution_count": null,
   "id": "4e285f15",
   "metadata": {},
   "outputs": [],
   "source": [
    "#Keyboard threadings:\n",
    "\n",
    "k_thread = threading.Thread(target = lambda :keyboard.play(keyboard_events))\n",
    "k_thread.start()\n",
    "\n",
    "#Mouse threadings:\n",
    "\n",
    "m_thread = threading.Thread(target = lambda :mouse.play(mouse_events))\n",
    "m_thread.start()\n",
    "\n",
    "#waiting for both threadings to be completed\n",
    "\n",
    "k_thread.join() \n",
    "m_thread.join()"
   ]
  },
  {
   "cell_type": "markdown",
   "id": "189e4b93",
   "metadata": {},
   "source": [
    "keyboard.play(keyboard_events)"
   ]
  },
  {
   "cell_type": "code",
   "execution_count": null,
   "id": "0301afb3",
   "metadata": {},
   "outputs": [],
   "source": [
    "keyboard_events"
   ]
  },
  {
   "cell_type": "code",
   "execution_count": null,
   "id": "dcb7178a",
   "metadata": {},
   "outputs": [],
   "source": [
    "\n"
   ]
  },
  {
   "cell_type": "code",
   "execution_count": null,
   "id": "29e0ca98",
   "metadata": {},
   "outputs": [],
   "source": []
  },
  {
   "cell_type": "code",
   "execution_count": null,
   "id": "fa302660",
   "metadata": {},
   "outputs": [],
   "source": []
  },
  {
   "cell_type": "code",
   "execution_count": null,
   "id": "0dbe9cec",
   "metadata": {},
   "outputs": [],
   "source": []
  },
  {
   "cell_type": "code",
   "execution_count": null,
   "id": "8aea17cd",
   "metadata": {},
   "outputs": [],
   "source": [
    "#keyboard.play(kb, speed_factor = 1)"
   ]
  },
  {
   "cell_type": "code",
   "execution_count": null,
   "id": "60eabdc3",
   "metadata": {
    "scrolled": true
   },
   "outputs": [],
   "source": [
    "\n",
    "\n",
    "# replay the events\n",
    "mouse.play(mouse_events)\n",
    "\n",
    "keyboard.write(\"GEEKS FOR GEEKS\")"
   ]
  },
  {
   "cell_type": "code",
   "execution_count": null,
   "id": "bbf7c3f4",
   "metadata": {},
   "outputs": [],
   "source": [
    "import mouse\n",
    "import keyboard #pip install keyboard\n",
    "\n",
    "#when left button click\n",
    "mouse.on_click(lambda x: print(x.position()))\n",
    "\n",
    "#when right  button click\n",
    "mouse.on_right_click(lambda : print(\"Right Button was clicked\"))\n",
    "\n",
    "#press Esc to kill the event\n",
    "if not keyboard.wait(\"Esc\"):\n",
    "    mouse.unhook_all()"
   ]
  },
  {
   "cell_type": "code",
   "execution_count": null,
   "id": "3c0f3147",
   "metadata": {},
   "outputs": [],
   "source": []
  },
  {
   "cell_type": "code",
   "execution_count": null,
   "id": "ec29ab9b",
   "metadata": {},
   "outputs": [],
   "source": [
    "import keyboard\n",
    "  \n",
    "# It writes the content to output\n",
    "keyboard.write(\"GEEKS FOR GEEKS\\n\")\n",
    "  \n",
    "# It writes the keys r, k and endofline \n",
    "keyboard.press_and_release('shift + r, shift + k, \\n')\n",
    "keyboard.press_and_release('R, K')\n",
    "  \n",
    "# it blocks until ctrl is pressed\n",
    "keyboard.wait('Ctrl')"
   ]
  },
  {
   "cell_type": "code",
   "execution_count": 285,
   "id": "eadff91d",
   "metadata": {},
   "outputs": [
    {
     "ename": "KeyboardInterrupt",
     "evalue": "",
     "output_type": "error",
     "traceback": [
      "\u001b[1;31m---------------------------------------------------------------------------\u001b[0m",
      "\u001b[1;31mKeyboardInterrupt\u001b[0m                         Traceback (most recent call last)",
      "\u001b[1;32m<ipython-input-285-ca872dee1828>\u001b[0m in \u001b[0;36m<module>\u001b[1;34m\u001b[0m\n\u001b[0;32m      3\u001b[0m \u001b[1;33m\u001b[0m\u001b[0m\n\u001b[0;32m      4\u001b[0m \u001b[1;31m# It records all the keys until escape is pressed\u001b[0m\u001b[1;33m\u001b[0m\u001b[1;33m\u001b[0m\u001b[1;33m\u001b[0m\u001b[0m\n\u001b[1;32m----> 5\u001b[1;33m \u001b[0mrk\u001b[0m \u001b[1;33m=\u001b[0m \u001b[0mkeyboard\u001b[0m\u001b[1;33m.\u001b[0m\u001b[0mrecord\u001b[0m\u001b[1;33m(\u001b[0m\u001b[0muntil\u001b[0m \u001b[1;33m=\u001b[0m\u001b[1;34m'Esc'\u001b[0m\u001b[1;33m)\u001b[0m\u001b[1;33m\u001b[0m\u001b[1;33m\u001b[0m\u001b[0m\n\u001b[0m\u001b[0;32m      6\u001b[0m \u001b[1;33m\u001b[0m\u001b[0m\n\u001b[0;32m      7\u001b[0m \u001b[1;31m# It replay back the all keys\u001b[0m\u001b[1;33m\u001b[0m\u001b[1;33m\u001b[0m\u001b[1;33m\u001b[0m\u001b[0m\n",
      "\u001b[1;32m~\\Anaconda3\\lib\\site-packages\\keyboard\\__init__.py\u001b[0m in \u001b[0;36mrecord\u001b[1;34m(until, suppress, trigger_on_release)\u001b[0m\n\u001b[0;32m   1040\u001b[0m     \"\"\"\n\u001b[0;32m   1041\u001b[0m     \u001b[0mstart_recording\u001b[0m\u001b[1;33m(\u001b[0m\u001b[1;33m)\u001b[0m\u001b[1;33m\u001b[0m\u001b[1;33m\u001b[0m\u001b[0m\n\u001b[1;32m-> 1042\u001b[1;33m     \u001b[0mwait\u001b[0m\u001b[1;33m(\u001b[0m\u001b[0muntil\u001b[0m\u001b[1;33m,\u001b[0m \u001b[0msuppress\u001b[0m\u001b[1;33m=\u001b[0m\u001b[0msuppress\u001b[0m\u001b[1;33m,\u001b[0m \u001b[0mtrigger_on_release\u001b[0m\u001b[1;33m=\u001b[0m\u001b[0mtrigger_on_release\u001b[0m\u001b[1;33m)\u001b[0m\u001b[1;33m\u001b[0m\u001b[1;33m\u001b[0m\u001b[0m\n\u001b[0m\u001b[0;32m   1043\u001b[0m     \u001b[1;32mreturn\u001b[0m \u001b[0mstop_recording\u001b[0m\u001b[1;33m(\u001b[0m\u001b[1;33m)\u001b[0m\u001b[1;33m\u001b[0m\u001b[1;33m\u001b[0m\u001b[0m\n\u001b[0;32m   1044\u001b[0m \u001b[1;33m\u001b[0m\u001b[0m\n",
      "\u001b[1;32m~\\Anaconda3\\lib\\site-packages\\keyboard\\__init__.py\u001b[0m in \u001b[0;36mwait\u001b[1;34m(hotkey, suppress, trigger_on_release)\u001b[0m\n\u001b[0;32m    880\u001b[0m         \u001b[0mlock\u001b[0m \u001b[1;33m=\u001b[0m \u001b[0m_Event\u001b[0m\u001b[1;33m(\u001b[0m\u001b[1;33m)\u001b[0m\u001b[1;33m\u001b[0m\u001b[1;33m\u001b[0m\u001b[0m\n\u001b[0;32m    881\u001b[0m         \u001b[0mremove\u001b[0m \u001b[1;33m=\u001b[0m \u001b[0madd_hotkey\u001b[0m\u001b[1;33m(\u001b[0m\u001b[0mhotkey\u001b[0m\u001b[1;33m,\u001b[0m \u001b[1;32mlambda\u001b[0m\u001b[1;33m:\u001b[0m \u001b[0mlock\u001b[0m\u001b[1;33m.\u001b[0m\u001b[0mset\u001b[0m\u001b[1;33m(\u001b[0m\u001b[1;33m)\u001b[0m\u001b[1;33m,\u001b[0m \u001b[0msuppress\u001b[0m\u001b[1;33m=\u001b[0m\u001b[0msuppress\u001b[0m\u001b[1;33m,\u001b[0m \u001b[0mtrigger_on_release\u001b[0m\u001b[1;33m=\u001b[0m\u001b[0mtrigger_on_release\u001b[0m\u001b[1;33m)\u001b[0m\u001b[1;33m\u001b[0m\u001b[1;33m\u001b[0m\u001b[0m\n\u001b[1;32m--> 882\u001b[1;33m         \u001b[0mlock\u001b[0m\u001b[1;33m.\u001b[0m\u001b[0mwait\u001b[0m\u001b[1;33m(\u001b[0m\u001b[1;33m)\u001b[0m\u001b[1;33m\u001b[0m\u001b[1;33m\u001b[0m\u001b[0m\n\u001b[0m\u001b[0;32m    883\u001b[0m         \u001b[0mremove_hotkey\u001b[0m\u001b[1;33m(\u001b[0m\u001b[0mremove\u001b[0m\u001b[1;33m)\u001b[0m\u001b[1;33m\u001b[0m\u001b[1;33m\u001b[0m\u001b[0m\n\u001b[0;32m    884\u001b[0m     \u001b[1;32melse\u001b[0m\u001b[1;33m:\u001b[0m\u001b[1;33m\u001b[0m\u001b[1;33m\u001b[0m\u001b[0m\n",
      "\u001b[1;32m~\\Anaconda3\\lib\\site-packages\\keyboard\\__init__.py\u001b[0m in \u001b[0;36mwait\u001b[1;34m(self)\u001b[0m\n\u001b[0;32m    115\u001b[0m     \u001b[1;32mdef\u001b[0m \u001b[0mwait\u001b[0m\u001b[1;33m(\u001b[0m\u001b[0mself\u001b[0m\u001b[1;33m)\u001b[0m\u001b[1;33m:\u001b[0m\u001b[1;33m\u001b[0m\u001b[1;33m\u001b[0m\u001b[0m\n\u001b[0;32m    116\u001b[0m         \u001b[1;32mwhile\u001b[0m \u001b[1;32mTrue\u001b[0m\u001b[1;33m:\u001b[0m\u001b[1;33m\u001b[0m\u001b[1;33m\u001b[0m\u001b[0m\n\u001b[1;32m--> 117\u001b[1;33m             \u001b[1;32mif\u001b[0m \u001b[0m_UninterruptibleEvent\u001b[0m\u001b[1;33m.\u001b[0m\u001b[0mwait\u001b[0m\u001b[1;33m(\u001b[0m\u001b[0mself\u001b[0m\u001b[1;33m,\u001b[0m \u001b[1;36m0.5\u001b[0m\u001b[1;33m)\u001b[0m\u001b[1;33m:\u001b[0m\u001b[1;33m\u001b[0m\u001b[1;33m\u001b[0m\u001b[0m\n\u001b[0m\u001b[0;32m    118\u001b[0m                 \u001b[1;32mbreak\u001b[0m\u001b[1;33m\u001b[0m\u001b[1;33m\u001b[0m\u001b[0m\n\u001b[0;32m    119\u001b[0m \u001b[1;33m\u001b[0m\u001b[0m\n",
      "\u001b[1;32m~\\Anaconda3\\lib\\threading.py\u001b[0m in \u001b[0;36mwait\u001b[1;34m(self, timeout)\u001b[0m\n\u001b[0;32m    556\u001b[0m             \u001b[0msignaled\u001b[0m \u001b[1;33m=\u001b[0m \u001b[0mself\u001b[0m\u001b[1;33m.\u001b[0m\u001b[0m_flag\u001b[0m\u001b[1;33m\u001b[0m\u001b[1;33m\u001b[0m\u001b[0m\n\u001b[0;32m    557\u001b[0m             \u001b[1;32mif\u001b[0m \u001b[1;32mnot\u001b[0m \u001b[0msignaled\u001b[0m\u001b[1;33m:\u001b[0m\u001b[1;33m\u001b[0m\u001b[1;33m\u001b[0m\u001b[0m\n\u001b[1;32m--> 558\u001b[1;33m                 \u001b[0msignaled\u001b[0m \u001b[1;33m=\u001b[0m \u001b[0mself\u001b[0m\u001b[1;33m.\u001b[0m\u001b[0m_cond\u001b[0m\u001b[1;33m.\u001b[0m\u001b[0mwait\u001b[0m\u001b[1;33m(\u001b[0m\u001b[0mtimeout\u001b[0m\u001b[1;33m)\u001b[0m\u001b[1;33m\u001b[0m\u001b[1;33m\u001b[0m\u001b[0m\n\u001b[0m\u001b[0;32m    559\u001b[0m             \u001b[1;32mreturn\u001b[0m \u001b[0msignaled\u001b[0m\u001b[1;33m\u001b[0m\u001b[1;33m\u001b[0m\u001b[0m\n\u001b[0;32m    560\u001b[0m \u001b[1;33m\u001b[0m\u001b[0m\n",
      "\u001b[1;32m~\\Anaconda3\\lib\\threading.py\u001b[0m in \u001b[0;36mwait\u001b[1;34m(self, timeout)\u001b[0m\n\u001b[0;32m    304\u001b[0m             \u001b[1;32melse\u001b[0m\u001b[1;33m:\u001b[0m\u001b[1;33m\u001b[0m\u001b[1;33m\u001b[0m\u001b[0m\n\u001b[0;32m    305\u001b[0m                 \u001b[1;32mif\u001b[0m \u001b[0mtimeout\u001b[0m \u001b[1;33m>\u001b[0m \u001b[1;36m0\u001b[0m\u001b[1;33m:\u001b[0m\u001b[1;33m\u001b[0m\u001b[1;33m\u001b[0m\u001b[0m\n\u001b[1;32m--> 306\u001b[1;33m                     \u001b[0mgotit\u001b[0m \u001b[1;33m=\u001b[0m \u001b[0mwaiter\u001b[0m\u001b[1;33m.\u001b[0m\u001b[0macquire\u001b[0m\u001b[1;33m(\u001b[0m\u001b[1;32mTrue\u001b[0m\u001b[1;33m,\u001b[0m \u001b[0mtimeout\u001b[0m\u001b[1;33m)\u001b[0m\u001b[1;33m\u001b[0m\u001b[1;33m\u001b[0m\u001b[0m\n\u001b[0m\u001b[0;32m    307\u001b[0m                 \u001b[1;32melse\u001b[0m\u001b[1;33m:\u001b[0m\u001b[1;33m\u001b[0m\u001b[1;33m\u001b[0m\u001b[0m\n\u001b[0;32m    308\u001b[0m                     \u001b[0mgotit\u001b[0m \u001b[1;33m=\u001b[0m \u001b[0mwaiter\u001b[0m\u001b[1;33m.\u001b[0m\u001b[0macquire\u001b[0m\u001b[1;33m(\u001b[0m\u001b[1;32mFalse\u001b[0m\u001b[1;33m)\u001b[0m\u001b[1;33m\u001b[0m\u001b[1;33m\u001b[0m\u001b[0m\n",
      "\u001b[1;31mKeyboardInterrupt\u001b[0m: "
     ]
    }
   ],
   "source": [
    "# Keyboard module in Python\n",
    "import keyboard\n",
    "  \n",
    "# It records all the keys until escape is pressed\n",
    "rk = keyboard.record(until ='Esc')\n",
    "  \n",
    "# It replay back the all keys\n",
    "#keyboard.play(rk, speed_factor = 1)RK\n"
   ]
  },
  {
   "cell_type": "code",
   "execution_count": 79,
   "id": "6fca1df9",
   "metadata": {},
   "outputs": [
    {
     "data": {
      "text/plain": [
       "[KeyboardEvent(t down),\n",
       " KeyboardEvent(t up),\n",
       " KeyboardEvent(e down),\n",
       " KeyboardEvent(e up),\n",
       " KeyboardEvent(t down),\n",
       " KeyboardEvent(i down),\n",
       " KeyboardEvent(t up),\n",
       " KeyboardEvent(n down),\n",
       " KeyboardEvent(i up),\n",
       " KeyboardEvent(n up),\n",
       " KeyboardEvent(backspace down),\n",
       " KeyboardEvent(backspace up),\n",
       " KeyboardEvent(backspace down),\n",
       " KeyboardEvent(backspace up),\n",
       " KeyboardEvent(backspace down),\n",
       " KeyboardEvent(backspace up),\n",
       " KeyboardEvent(s down),\n",
       " KeyboardEvent(s up),\n",
       " KeyboardEvent(t down),\n",
       " KeyboardEvent(t up),\n",
       " KeyboardEvent(i down),\n",
       " KeyboardEvent(n down),\n",
       " KeyboardEvent(i up),\n",
       " KeyboardEvent(g down),\n",
       " KeyboardEvent(n up),\n",
       " KeyboardEvent(g up),\n",
       " KeyboardEvent(space down),\n",
       " KeyboardEvent(space up),\n",
       " KeyboardEvent(r down),\n",
       " KeyboardEvent(o down),\n",
       " KeyboardEvent(r up),\n",
       " KeyboardEvent(o up),\n",
       " KeyboardEvent(n down),\n",
       " KeyboardEvent(n up),\n",
       " KeyboardEvent(n down),\n",
       " KeyboardEvent(n up),\n",
       " KeyboardEvent(y down),\n",
       " KeyboardEvent(y up),\n",
       " KeyboardEvent(esc down)]"
      ]
     },
     "execution_count": 79,
     "metadata": {},
     "output_type": "execute_result"
    }
   ],
   "source": [
    "rk"
   ]
  },
  {
   "cell_type": "code",
   "execution_count": null,
   "id": "20d7cba7",
   "metadata": {},
   "outputs": [],
   "source": [
    "testing ronny"
   ]
  },
  {
   "cell_type": "code",
   "execution_count": null,
   "id": "d43960e6",
   "metadata": {},
   "outputs": [],
   "source": [
    "keyboard.play(rk)"
   ]
  },
  {
   "cell_type": "raw",
   "id": "1637e15e",
   "metadata": {},
   "source": [
    "import mouse\n",
    "events = mouse.record('Esc')"
   ]
  },
  {
   "cell_type": "code",
   "execution_count": null,
   "id": "8002164b",
   "metadata": {},
   "outputs": [],
   "source": [
    "keyboard.play(rk, speed_factor = 1)"
   ]
  },
  {
   "cell_type": "code",
   "execution_count": null,
   "id": "2cb7f2bd",
   "metadata": {},
   "outputs": [],
   "source": [
    "import mouse\n",
    "mouse_events = []\n",
    "keyboard_events = []\n",
    "\n",
    "mouse.hook(mouse_events.append)\n"
   ]
  },
  {
   "cell_type": "code",
   "execution_count": null,
   "id": "4ceb42b3",
   "metadata": {},
   "outputs": [],
   "source": [
    "mouse.unhook(mouse_events.append)"
   ]
  },
  {
   "cell_type": "code",
   "execution_count": null,
   "id": "7972117b",
   "metadata": {},
   "outputs": [],
   "source": [
    "mouse.play(mouse_events)"
   ]
  },
  {
   "cell_type": "code",
   "execution_count": null,
   "id": "d52d382d",
   "metadata": {},
   "outputs": [],
   "source": []
  },
  {
   "cell_type": "code",
   "execution_count": null,
   "id": "c35504a7",
   "metadata": {},
   "outputs": [],
   "source": [
    "testing"
   ]
  },
  {
   "cell_type": "code",
   "execution_count": null,
   "id": "ed5ad6c6",
   "metadata": {},
   "outputs": [],
   "source": []
  },
  {
   "cell_type": "code",
   "execution_count": null,
   "id": "b9417118",
   "metadata": {},
   "outputs": [],
   "source": [
    "mouse_events = []\n",
    "keyboard_events = []\n",
    "\n",
    "mouse.hook(mouse_events.append)\n",
    "keyboard.hook(keyboard_events.append)\n",
    "\n",
    "keyboard.wait(\"a\")\n",
    "\n",
    "mouse.unhook(events.append)\n",
    "keyboard.unhook(events.append)\n",
    "keyboard.play(events)"
   ]
  },
  {
   "cell_type": "code",
   "execution_count": null,
   "id": "24836c60",
   "metadata": {},
   "outputs": [],
   "source": [
    "a"
   ]
  },
  {
   "cell_type": "code",
   "execution_count": null,
   "id": "14061502",
   "metadata": {},
   "outputs": [],
   "source": [
    "oke "
   ]
  },
  {
   "cell_type": "code",
   "execution_count": null,
   "id": "2eb653a8",
   "metadata": {},
   "outputs": [],
   "source": []
  },
  {
   "cell_type": "code",
   "execution_count": null,
   "id": "37d5d97f",
   "metadata": {},
   "outputs": [],
   "source": []
  },
  {
   "cell_type": "code",
   "execution_count": null,
   "id": "c9614803",
   "metadata": {},
   "outputs": [],
   "source": []
  },
  {
   "cell_type": "code",
   "execution_count": null,
   "id": "c0d6f1cb",
   "metadata": {},
   "outputs": [],
   "source": []
  },
  {
   "cell_type": "code",
   "execution_count": null,
   "id": "ad1f4e5f",
   "metadata": {},
   "outputs": [],
   "source": []
  },
  {
   "cell_type": "code",
   "execution_count": null,
   "id": "7114fc65",
   "metadata": {},
   "outputs": [],
   "source": [
    "from pynput import mouse\n",
    "from pynput import keyboard\n",
    "\n",
    "count = 0\n",
    "\n",
    "def on_move(x, y):\n",
    "    print('Pointer moved to {0}'.format(\n",
    "        (x, y)))\n",
    "\n",
    "def on_click(x, y, button, pressed):\n",
    "    \n",
    "    if pressed :\n",
    "        print (x, y)\n",
    "        count = 0\n",
    "        \n",
    "        \n",
    "    if not pressed:\n",
    "        # Stop listener\n",
    "        #return False\n",
    "        #count += 1\n",
    "        print ('Nothing')\n",
    "\n",
    "def on_scroll(x, y, dx, dy):\n",
    "    print('Scrolled {0}'.format(\n",
    "        (x, y)))\n",
    "\n",
    "def on_press(key):\n",
    "    try:\n",
    "        print('alphanumeric key {0} pressed'.format(\n",
    "            key.char))\n",
    "    except AttributeError:\n",
    "        print('special key {0} pressed'.format(\n",
    "            key))\n",
    "\n",
    "def on_release(key):\n",
    "    print('{0} released'.format(\n",
    "        key))\n",
    "    if key == keyboard.Key.esc:\n",
    "        # Stop listener\n",
    "        return False \n",
    "\n",
    "# Collect events until released\n",
    "  \n",
    "\n",
    "with keyboard.Listener(on_release=on_release) as k_listener, mouse.Listener(on_click=on_click) as m_listener:\n",
    "    k_listener.join()\n",
    "    m_listener.join()"
   ]
  },
  {
   "cell_type": "code",
   "execution_count": null,
   "id": "8d9d9d78",
   "metadata": {},
   "outputs": [],
   "source": [
    "testing ronny "
   ]
  },
  {
   "cell_type": "code",
   "execution_count": null,
   "id": "78264066",
   "metadata": {},
   "outputs": [],
   "source": [
    "import pyautogui as s\n",
    "\n",
    "list = [100,100]\n",
    "\n",
    "\n",
    "\n",
    "s.moveTo(list[0],list[1])\n"
   ]
  },
  {
   "cell_type": "code",
   "execution_count": null,
   "id": "64abe8bd",
   "metadata": {},
   "outputs": [],
   "source": [
    "for i in range(3):\n",
    "    \n",
    "    with mouse.Listener(\n",
    "                on_click=on_click) as listener:\n",
    "                listener.join()\n",
    "            \n",
    "    "
   ]
  },
  {
   "cell_type": "code",
   "execution_count": null,
   "id": "6742f5c2",
   "metadata": {},
   "outputs": [],
   "source": [
    "\n",
    "for i in range(2):\n",
    "  # Collect events until released\n",
    "    with keyboard.Listener(on_release=on_release) as k_listener, mouse.Listener(on_click=on_click) as m_listener:\n",
    "      k_listener.join()\n",
    "      m_listener.join()"
   ]
  },
  {
   "cell_type": "code",
   "execution_count": null,
   "id": "dd8d9cb3",
   "metadata": {},
   "outputs": [],
   "source": [
    "\n",
    "ronny ronny\n",
    "djfkdj\n",
    "dsjfjsdjlkfsd\n"
   ]
  },
  {
   "cell_type": "code",
   "execution_count": null,
   "id": "cc43b1d0",
   "metadata": {},
   "outputs": [],
   "source": [
    "\n",
    "import time\n",
    "from pynput import mouse\n",
    "from pynput import keyboard\n",
    "\n",
    "def on_click(x, y, button, pressed):\n",
    "    print (x,y,button, pressed)\n",
    "    \n",
    "    if not pressed:\n",
    "        return False\n",
    "\n",
    "    \n",
    "    \n",
    "    \n",
    "# Collect events until released\n",
    "with mouse.Listener(\n",
    "        on_click=on_click) as listener:\n",
    "    listener.join()"
   ]
  },
  {
   "cell_type": "code",
   "execution_count": null,
   "id": "701855d3",
   "metadata": {},
   "outputs": [],
   "source": [
    "listener = mouse.Listener(\n",
    "    on_click=on_click)\n",
    "listener.start()"
   ]
  },
  {
   "cell_type": "code",
   "execution_count": null,
   "id": "aeb1d97a",
   "metadata": {},
   "outputs": [],
   "source": []
  },
  {
   "cell_type": "code",
   "execution_count": null,
   "id": "14f293ae",
   "metadata": {},
   "outputs": [],
   "source": [
    "value = input(\"Please enter a string:\\n\")\n",
    " \n",
    "print(f'You entered {value}')"
   ]
  },
  {
   "cell_type": "code",
   "execution_count": 1,
   "id": "cf5a388a",
   "metadata": {},
   "outputs": [
    {
     "name": "stdout",
     "output_type": "stream",
     "text": [
      "Requirement already satisfied: mouse in c:\\users\\r.christianto\\anaconda3\\lib\\site-packages (0.7.1)\n",
      "Note: you may need to restart the kernel to use updated packages.\n"
     ]
    }
   ],
   "source": [
    "pip install mouse\n"
   ]
  },
  {
   "cell_type": "code",
   "execution_count": 9,
   "id": "613a4ddf",
   "metadata": {},
   "outputs": [
    {
     "name": "stdout",
     "output_type": "stream",
     "text": [
      "run\n",
      "run\n",
      "run\n",
      "run\n",
      "run\n",
      "run\n",
      "run\n",
      "run\n",
      "run\n",
      "stop\n"
     ]
    }
   ],
   "source": [
    "import time\n",
    "count = 0\n",
    "while True:\n",
    "    \n",
    "    count += 1\n",
    "    \n",
    "    if count == 10:\n",
    "        print ('stop')\n",
    "        break\n",
    "    else:\n",
    "        print ('run')\n",
    "        time.sleep(2)"
   ]
  },
  {
   "cell_type": "code",
   "execution_count": 7,
   "id": "d17d6702",
   "metadata": {},
   "outputs": [],
   "source": [
    "i = 100"
   ]
  },
  {
   "cell_type": "code",
   "execution_count": 8,
   "id": "e6365c05",
   "metadata": {},
   "outputs": [
    {
     "data": {
      "text/plain": [
       "100"
      ]
     },
     "execution_count": 8,
     "metadata": {},
     "output_type": "execute_result"
    }
   ],
   "source": [
    "i"
   ]
  },
  {
   "cell_type": "code",
   "execution_count": 168,
   "id": "f4e17b2d",
   "metadata": {},
   "outputs": [
    {
     "name": "stdout",
     "output_type": "stream",
     "text": [
      "doing away1\n",
      "doing away1\n",
      "doing awake1\n",
      "doing awake1\n",
      "doing awake1\n"
     ]
    }
   ],
   "source": [
    "import pyautogui\n",
    "import time\n",
    "import datetime\n",
    "import time\n",
    "import pickle\n",
    "import mouse\n",
    "import keyboard\n",
    "\n",
    "\n",
    "pyautogui.FAILSAFE = False\n",
    "\n",
    "# keep the laptop alive until certain time by clicking window button\n",
    "mydate = datetime.date.today()\n",
    "awake1 = datetime.time(hour=22,minute=43, second=10)\n",
    "awake1 = datetime.datetime.combine(mydate,awake1)\n",
    "\n",
    "away1 = datetime.time(hour=22,minute=43, second=35)\n",
    "away1 = datetime.datetime.combine(mydate,away1)\n",
    "\n",
    "awake2 = datetime.time(hour=22,minute=43, second=50)\n",
    "awake2 = datetime.datetime.combine(mydate,awake2)\n",
    "\n",
    "\n",
    "while datetime.datetime.now() < awake1:\n",
    "    # keep computer awake\n",
    "    pyautogui.click(28,1055)\n",
    "    time.sleep(150)\n",
    "    \n",
    "while datetime.datetime.now() < away1:\n",
    "    # open the file and replay all steps\n",
    "    pickle_off = open ('mysteps.txt', \"rb\")\n",
    "    myfiles = pickle.load(pickle_off)\n",
    "\n",
    "    # replay all the steps\n",
    "    for myfile in  myfiles:\n",
    "        pickle_off = open (myfile, \"rb\")\n",
    "        event = pickle.load(pickle_off)\n",
    "\n",
    "        if 'kb' in myfile:\n",
    "          print (event)\n",
    "          keyboard.play(event)\n",
    "        else:\n",
    "          mouse.play(event)\n",
    "    \n",
    "while datetime.datetime.now() < awake2:\n",
    "     # bring the laptop back on again\n",
    "    pickle_off = open ('mysteps.txt', \"rb\")\n",
    "    myfiles = pickle.load(pickle_off)\n",
    "\n",
    "    # replay all the steps\n",
    "    for myfile in  myfiles:\n",
    "        pickle_off = open (myfile, \"rb\")\n",
    "        event = pickle.load(pickle_off)\n",
    "\n",
    "        if 'kb' in myfile:\n",
    "          print (event)\n",
    "          keyboard.play(event)\n",
    "        else:\n",
    "          mouse.play(event)\n"
   ]
  },
  {
   "cell_type": "code",
   "execution_count": 175,
   "id": "2d260028",
   "metadata": {},
   "outputs": [],
   "source": [
    "import os\n",
    "x = os.getcwd()"
   ]
  },
  {
   "cell_type": "code",
   "execution_count": 176,
   "id": "fd2cfa2e",
   "metadata": {},
   "outputs": [],
   "source": [
    "x = x + '\\\\Way'"
   ]
  },
  {
   "cell_type": "code",
   "execution_count": 178,
   "id": "f9a8e3d5",
   "metadata": {},
   "outputs": [
    {
     "ename": "FileNotFoundError",
     "evalue": "[WinError 2] The system cannot find the file specified: 'C:\\\\Users\\\\r.christianto\\\\Way'",
     "output_type": "error",
     "traceback": [
      "\u001b[1;31m---------------------------------------------------------------------------\u001b[0m",
      "\u001b[1;31mFileNotFoundError\u001b[0m                         Traceback (most recent call last)",
      "\u001b[1;32m<ipython-input-178-8ee40a4d1a47>\u001b[0m in \u001b[0;36m<module>\u001b[1;34m\u001b[0m\n\u001b[1;32m----> 1\u001b[1;33m \u001b[0mos\u001b[0m\u001b[1;33m.\u001b[0m\u001b[0mchdir\u001b[0m\u001b[1;33m(\u001b[0m\u001b[0mx\u001b[0m\u001b[1;33m)\u001b[0m\u001b[1;33m\u001b[0m\u001b[1;33m\u001b[0m\u001b[0m\n\u001b[0m",
      "\u001b[1;31mFileNotFoundError\u001b[0m: [WinError 2] The system cannot find the file specified: 'C:\\\\Users\\\\r.christianto\\\\Way'"
     ]
    }
   ],
   "source": [
    "os.chdir(x)"
   ]
  },
  {
   "cell_type": "code",
   "execution_count": 183,
   "id": "5e202da5",
   "metadata": {},
   "outputs": [
    {
     "ename": "FileNotFoundError",
     "evalue": "[WinError 2] The system cannot find the file specified: 'C:\\\\Users\\\\r.christianto\\\\Away'",
     "output_type": "error",
     "traceback": [
      "\u001b[1;31m---------------------------------------------------------------------------\u001b[0m",
      "\u001b[1;31mFileNotFoundError\u001b[0m                         Traceback (most recent call last)",
      "\u001b[1;32m<ipython-input-183-6893e25e377c>\u001b[0m in \u001b[0;36m<module>\u001b[1;34m\u001b[0m\n\u001b[0;32m     30\u001b[0m     \u001b[0mpath\u001b[0m \u001b[1;33m=\u001b[0m \u001b[0mos\u001b[0m\u001b[1;33m.\u001b[0m\u001b[0mgetcwd\u001b[0m\u001b[1;33m(\u001b[0m\u001b[1;33m)\u001b[0m\u001b[1;33m\u001b[0m\u001b[1;33m\u001b[0m\u001b[0m\n\u001b[0;32m     31\u001b[0m     \u001b[0mpath\u001b[0m \u001b[1;33m=\u001b[0m \u001b[0mpath\u001b[0m \u001b[1;33m+\u001b[0m \u001b[1;34m'\\\\Away'\u001b[0m\u001b[1;33m\u001b[0m\u001b[1;33m\u001b[0m\u001b[0m\n\u001b[1;32m---> 32\u001b[1;33m     \u001b[0mos\u001b[0m\u001b[1;33m.\u001b[0m\u001b[0mchdir\u001b[0m\u001b[1;33m(\u001b[0m\u001b[0mpath\u001b[0m\u001b[1;33m)\u001b[0m\u001b[1;33m\u001b[0m\u001b[1;33m\u001b[0m\u001b[0m\n\u001b[0m\u001b[0;32m     33\u001b[0m \u001b[1;33m\u001b[0m\u001b[0m\n\u001b[0;32m     34\u001b[0m \u001b[1;31m# open the file and replay all steps\u001b[0m\u001b[1;33m\u001b[0m\u001b[1;33m\u001b[0m\u001b[1;33m\u001b[0m\u001b[0m\n",
      "\u001b[1;31mFileNotFoundError\u001b[0m: [WinError 2] The system cannot find the file specified: 'C:\\\\Users\\\\r.christianto\\\\Away'"
     ]
    }
   ],
   "source": [
    "import pyautogui\n",
    "import time\n",
    "import datetime\n",
    "import pickle\n",
    "import mouse\n",
    "import keyboard\n",
    "import os\n",
    "\n",
    "\n",
    "pyautogui.FAILSAFE = False\n",
    "\n",
    "# keep the laptop alive until certain time by clicking window button\n",
    "mydate = datetime.date.today()\n",
    "awake1 = datetime.time(hour=23,minute=14, second=10)\n",
    "awake1 = datetime.datetime.combine(mydate,awake1)\n",
    "\n",
    "away1 = datetime.time(hour=23,minute=14, second=20)\n",
    "away1 = datetime.datetime.combine(mydate,away1)\n",
    "\n",
    "awake2 = datetime.time(hour=23,minute=14, second=30)\n",
    "awake2 = datetime.datetime.combine(mydate,awake2)\n",
    "\n",
    "\n",
    "while datetime.datetime.now() < awake1:\n",
    "    # keep computer awake\n",
    "    pyautogui.click(28,1055)\n",
    "    time.sleep(2)\n",
    "    \n",
    "while datetime.datetime.now() < away1:\n",
    "    path = os.getcwd()\n",
    "    path = path + '\\\\Away'\n",
    "    os.chdir(path)\n",
    "\n",
    "# open the file and replay all steps\n",
    "    pickle_off = open ('mysteps.txt', \"rb\")\n",
    "    myfiles = pickle.load(pickle_off)\n",
    "\n",
    "# replay all the steps\n",
    "    for myfile in  myfiles:\n",
    "        pickle_off = open (myfile, \"rb\")\n",
    "        event = pickle.load(pickle_off)\n",
    "    \n",
    "        if 'kb' in myfile:\n",
    "            print (event)\n",
    "            keyboard.play(event)\n",
    "        else:\n",
    "            mouse.play(event)\n",
    "    \n",
    "\n",
    "    \n",
    "while datetime.datetime.now() < awake2:\n",
    "    path = os.getcwd()\n",
    "    path = path + '\\\\Available'\n",
    "    os.chdir(path)\n",
    "\n",
    "# open the file and replay all steps\n",
    "    pickle_off = open ('mysteps.txt', \"rb\")\n",
    "    myfiles = pickle.load(pickle_off)\n",
    "\n",
    "# replay all the steps\n",
    "    for myfile in  myfiles:\n",
    "        pickle_off = open (myfile, \"rb\")\n",
    "        event = pickle.load(pickle_off)\n",
    "    \n",
    "        if 'kb' in myfile:\n",
    "            print (event)\n",
    "            keyboard.play(event)\n",
    "        else:\n",
    "            mouse.play(event)\n"
   ]
  },
  {
   "cell_type": "code",
   "execution_count": null,
   "id": "42ac1239",
   "metadata": {},
   "outputs": [],
   "source": []
  }
 ],
 "metadata": {
  "kernelspec": {
   "display_name": "Python 3",
   "language": "python",
   "name": "python3"
  },
  "language_info": {
   "codemirror_mode": {
    "name": "ipython",
    "version": 3
   },
   "file_extension": ".py",
   "mimetype": "text/x-python",
   "name": "python",
   "nbconvert_exporter": "python",
   "pygments_lexer": "ipython3",
   "version": "3.8.8"
  }
 },
 "nbformat": 4,
 "nbformat_minor": 5
}
