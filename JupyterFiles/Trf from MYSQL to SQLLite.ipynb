{
 "cells": [
  {
   "cell_type": "code",
   "execution_count": 5,
   "id": "5c32c1f3",
   "metadata": {},
   "outputs": [],
   "source": [
    "import pandas as pd\n",
    "from sqlalchemy import create_engine\n",
    "\n",
    "# Credentials to database connection\n",
    "hostname=\"localhost\"\n",
    "dbname=\"pribadi\"\n",
    "uname=\"root\"\n",
    "pwd=\"Ronchi1989!\"\n",
    "\n",
    "\n",
    "# Create SQLAlchemy engine to connect to MySQL Database\n",
    "engine = create_engine(\"mysql+pymysql://{user}:{pw}@{host}/{db}\".format(host=hostname, db=dbname, user=uname, pw=pwd))\n",
    "\n",
    "\n",
    "SQL = '''\n",
    "\n",
    "\n",
    "select * from thepond\n",
    "\n",
    "\n",
    "'''\n",
    "\n",
    "\n",
    "con = engine.connect()\n",
    "mysql = pd.read_sql(SQL,con)\n"
   ]
  },
  {
   "cell_type": "code",
   "execution_count": 36,
   "id": "4943005c",
   "metadata": {},
   "outputs": [],
   "source": [
    "mysql.drop_duplicates(inplace=True)"
   ]
  },
  {
   "cell_type": "code",
   "execution_count": 6,
   "id": "ec2bf510",
   "metadata": {},
   "outputs": [],
   "source": [
    "import pandas as pd\n",
    "import sqlite3\n",
    "import os\n",
    "\n",
    "os.chdir(r'c:\\Users\\r.christianto\\SQLiteStudio')\n",
    "\n",
    "\n",
    "con = sqlite3.connect(\"mydatabase\")\n",
    "\n",
    "mysql.to_sql('thepond',con,if_exists=\"replace\",index=False)  #trf to sqllite\n",
    "\n",
    "con.close()"
   ]
  },
  {
   "cell_type": "code",
   "execution_count": null,
   "id": "905a5738",
   "metadata": {},
   "outputs": [],
   "source": []
  }
 ],
 "metadata": {
  "kernelspec": {
   "display_name": "Python 3",
   "language": "python",
   "name": "python3"
  },
  "language_info": {
   "codemirror_mode": {
    "name": "ipython",
    "version": 3
   },
   "file_extension": ".py",
   "mimetype": "text/x-python",
   "name": "python",
   "nbconvert_exporter": "python",
   "pygments_lexer": "ipython3",
   "version": "3.8.8"
  }
 },
 "nbformat": 4,
 "nbformat_minor": 5
}
