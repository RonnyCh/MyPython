{
 "cells": [
  {
   "cell_type": "markdown",
   "id": "2d2038c1",
   "metadata": {},
   "source": [
    "# designing events automation based on certain times"
   ]
  },
  {
   "cell_type": "code",
   "execution_count": 17,
   "id": "fae734be",
   "metadata": {},
   "outputs": [
    {
     "name": "stdout",
     "output_type": "stream",
     "text": [
      "Dummy Click\n",
      "Dummy Click\n",
      "Dummy Click\n",
      "Dummy Click\n",
      "Dummy Click\n",
      "Change Status to Away - starting lunch\n",
      "Do dummy click to keep laptop awake\n",
      "Change Status to Away - starting lunch\n",
      "Do dummy click to keep laptop awake\n"
     ]
    },
    {
     "ename": "NameError",
     "evalue": "name 'event3' is not defined",
     "output_type": "error",
     "traceback": [
      "\u001b[1;31m---------------------------------------------------------------------------\u001b[0m",
      "\u001b[1;31mNameError\u001b[0m                                 Traceback (most recent call last)",
      "\u001b[1;32m<ipython-input-17-48873a514fce>\u001b[0m in \u001b[0;36m<module>\u001b[1;34m\u001b[0m\n\u001b[0;32m     18\u001b[0m         \u001b[0mtime\u001b[0m\u001b[1;33m.\u001b[0m\u001b[0msleep\u001b[0m\u001b[1;33m(\u001b[0m\u001b[1;36m1\u001b[0m\u001b[1;33m)\u001b[0m\u001b[1;33m\u001b[0m\u001b[1;33m\u001b[0m\u001b[0m\n\u001b[0;32m     19\u001b[0m         \u001b[0ms\u001b[0m\u001b[1;33m.\u001b[0m\u001b[0mclick\u001b[0m\u001b[1;33m(\u001b[0m\u001b[0mbutton\u001b[0m\u001b[1;33m=\u001b[0m\u001b[1;34m'left'\u001b[0m\u001b[1;33m)\u001b[0m\u001b[1;33m\u001b[0m\u001b[1;33m\u001b[0m\u001b[0m\n\u001b[1;32m---> 20\u001b[1;33m     \u001b[1;32melif\u001b[0m \u001b[0mtime\u001b[0m\u001b[1;33m.\u001b[0m\u001b[0mtime\u001b[0m\u001b[1;33m(\u001b[0m\u001b[1;33m)\u001b[0m \u001b[1;33m<\u001b[0m \u001b[0mstart\u001b[0m \u001b[1;33m+\u001b[0m \u001b[0mevent3\u001b[0m\u001b[1;33m:\u001b[0m\u001b[1;33m\u001b[0m\u001b[1;33m\u001b[0m\u001b[0m\n\u001b[0m\u001b[0;32m     21\u001b[0m         \u001b[0mprint\u001b[0m \u001b[1;33m(\u001b[0m\u001b[1;34m'Finish lunch, change status online'\u001b[0m\u001b[1;33m)\u001b[0m\u001b[1;33m\u001b[0m\u001b[1;33m\u001b[0m\u001b[0m\n\u001b[0;32m     22\u001b[0m         \u001b[0mprint\u001b[0m \u001b[1;33m(\u001b[0m\u001b[1;34m'Do dummy click to keep laptop awake'\u001b[0m\u001b[1;33m)\u001b[0m\u001b[1;33m\u001b[0m\u001b[1;33m\u001b[0m\u001b[0m\n",
      "\u001b[1;31mNameError\u001b[0m: name 'event3' is not defined"
     ]
    }
   ],
   "source": [
    "\n",
    "import time\n",
    "import pyautogui as s\n",
    "\n",
    "start = time.time()\n",
    "event1 = 5 # in hour (code will convert to seconds)\n",
    "event2 = 10 # in hour (code will convert to seconds)\n",
    "\n",
    "\n",
    "while True:\n",
    "    if time.time() < start + event1 :\n",
    "        print ('Dummy Click')\n",
    "        time.sleep(1)\n",
    "    elif time.time() < start + event2:\n",
    "        print ('Change Status to Away - starting lunch')\n",
    "        print ('Do dummy click to keep laptop awake')\n",
    "        s.moveTo(425,730,1)\n",
    "        # pause to let web refresh etc\n",
    "        time.sleep(1)\n",
    "        s.click(button='left')\n",
    "    elif time.time() < start + event3:\n",
    "        print ('Finish lunch, change status online')\n",
    "        print ('Do dummy click to keep laptop awake')\n",
    "        time.sleep(1)\n",
    "    else:\n",
    "        print (' time to shutdown and turn off laptop')\n",
    "        break\n"
   ]
  },
  {
   "cell_type": "code",
   "execution_count": 11,
   "id": "3179c698",
   "metadata": {},
   "outputs": [],
   "source": [
    "hour1 = 2\n",
    "event1 = hour1 * 60 "
   ]
  },
  {
   "cell_type": "code",
   "execution_count": 13,
   "id": "817004c5",
   "metadata": {},
   "outputs": [
    {
     "name": "stdout",
     "output_type": "stream",
     "text": [
      "delay....\n",
      "delay....\n",
      "delay....\n",
      "delay....\n",
      "delay....\n",
      "delay....\n",
      "delay....\n",
      "delay....\n",
      "delay....\n",
      "delay....\n",
      "delay....\n",
      "delay....\n",
      "delay....\n",
      "delay....\n",
      "delay....\n",
      "delay....\n",
      "delay....\n",
      "delay....\n",
      "delay....\n",
      "delay....\n"
     ]
    }
   ],
   "source": [
    "delay = 20\n",
    "\n",
    "n = time.time() + delay\n",
    "\n",
    "while time.time() < n :\n",
    "    print ('delay....')\n",
    "    time.sleep(1)"
   ]
  },
  {
   "cell_type": "code",
   "execution_count": null,
   "id": "433b1f0c",
   "metadata": {},
   "outputs": [],
   "source": [
    "# import pyautogui\n",
    "import time\n",
    "import datetime\n",
    "import os\n",
    "import mouse\n",
    "import keyboard\n",
    "\n",
    "path = os.getcwd()\n",
    "pyautogui.FAILSAFE = False\n",
    "\n",
    "hour = pyautogui.prompt(text='Enter Hour in 24 Hr format', title='Hour' , default='17')\n",
    "minutes = pyautogui.prompt(text='Enter minutes', title='Minutes' , default='30')\n",
    "\n",
    "hr1 = pyautogui.prompt(text='Break Hour', title='Hour' , default='17')\n",
    "min1 = pyautogui.prompt(text='Break Minutes', title='Minutes' , default='30')\n",
    "\n",
    "mydate = datetime.date.today()\n",
    "mytime = datetime.time(hour=int(hour),minute=int(minutes))\n",
    "mybreak = datetime.time(hour=int(hr1),minute=int(min1))\n",
    "\n",
    "\n",
    "final = datetime.datetime.combine(mydate,mytime)\n",
    "brk = datetime.datetime.combine(mydate,mybreak)\n",
    "\n",
    "\n",
    "# just click windows button to keep the computer awake\n",
    "status = 'online'\n",
    "while datetime.datetime.now() < final:\n",
    "    if datetime.datetime.now() > brk and status == 'online':\n",
    "        status = 'away'\n",
    "        pyautogui.click(449,753)\n",
    "        time.sleep(0.8)\n",
    "        pyautogui.click(1163,117)\n",
    "        time.sleep(0.5)\n",
    "        pyautogui.click(1137,317)   # status offline\n",
    "        time.sleep(10) # offline for 45 seconds\n",
    "        \n",
    "        pyautogui.click(449,753)\n",
    "        time.sleep(0.8)\n",
    "        pyautogui.click(1163,117)\n",
    "        time.sleep(0.5)\n",
    "        pyautogui.click(1137,160)  # online\n",
    "        status = 'online'\n",
    "        \n",
    "        \n",
    "        \n",
    "    else:    \n",
    "        if status != 'away':\n",
    "            pyautogui.click(28,1055)\n",
    "            time.sleep(15)\n",
    "\n",
    "# change the status to away\n",
    "\n",
    "\n",
    "\n",
    "# keep doing dummy clicking again to keep computer awake\n",
    "\n",
    "\n",
    "\n",
    "\t"
   ]
  },
  {
   "cell_type": "code",
   "execution_count": 5,
   "id": "56381d98",
   "metadata": {},
   "outputs": [],
   "source": [
    "import pyautogui\n",
    "import time\n",
    "# pyautogui.click(449,753)\n",
    "pyautogui.click(449,753)\n",
    "time.sleep(1)\n",
    "pyautogui.moveTo(1216,124,2)\n",
    "time.sleep(1)\n",
    "#pyautogui.moveTo(1163,117,2)\n",
    "#time.sleep(0.5)\n",
    "pyautogui.moveTo(1137,317,2) # offline\n",
    "#pyautogui.moveTo(1137,300,2) # appear away\n",
    "#pyautogui.moveTo(1137,160,2) # online"
   ]
  },
  {
   "cell_type": "code",
   "execution_count": 27,
   "id": "62871898",
   "metadata": {},
   "outputs": [
    {
     "data": {
      "text/plain": [
       "232"
      ]
     },
     "execution_count": 27,
     "metadata": {},
     "output_type": "execute_result"
    }
   ],
   "source": [
    "317-85"
   ]
  },
  {
   "cell_type": "code",
   "execution_count": null,
   "id": "2291168a",
   "metadata": {},
   "outputs": [],
   "source": [
    "def offline():\n",
    "    import pyautogui as s\n",
    "    import time\n",
    "    import pandas as pd\n",
    "\n",
    "    newlist = pd.read_csv(\"offline.csv\")\n",
    "    newlist = newlist.values.tolist()\n",
    "\n",
    "    print (newlist)\n",
    "\n",
    "    # replay\n",
    "\n",
    "    # add duration to the list\n",
    "\n",
    "    for index, i in enumerate(newlist):\n",
    "       try :\n",
    "        if index != 0:\n",
    "            now = newlist[index][4]\n",
    "            before = newlist[index-1][4]\n",
    "            duration = now - before\n",
    "            newlist[index].append(duration)\n",
    "        else:\n",
    "            newlist[index].append(0)\n",
    "       except:\n",
    "            break\n",
    "\n",
    "    # remove the last 2 which is esc and quit commands\n",
    "    list = newlist\n",
    "\n",
    "    for i in range(len(list)):\n",
    "        if 'Click' in list[i][0]:\n",
    "            x = int(list[i][1])\n",
    "            y = int(list[i][2])\n",
    "            button = list[i][3]\n",
    "            duration = list[i][5]\n",
    "            s.moveTo(x,y,0.5)\n",
    "            # pause to let web refresh etc\n",
    "            time.sleep(duration)\n",
    "            s.click(button=button)\n",
    "\n",
    "            #time.sleep(0.9)\n",
    "        elif 'Write' in list[i][0]:\n",
    "            s.write(list[i][1],0.1)\n",
    "        elif 'Key' in list[i][0]:\n",
    "            s.press(list[i][1])\n",
    "            time.sleep(0.5)\n",
    "        elif 'MoveTo' in list[i][0]:\n",
    "            x = list[i][1]\n",
    "            y = list[i][2]\n",
    "\n",
    "            duration = list[i][5]\n",
    "            print (x,y)\n",
    "            s.moveTo(x,y,0.8)\n",
    "            # pause to let web refresh etc\n",
    "            time.sleep(duration)\n",
    "\n",
    "            s.moveTo(x,y,1)\n",
    "        elif 'DragTo' in list[i][0]:\n",
    "            x = list[i][1]\n",
    "            y = list[i][2]\n",
    "\n",
    "            s.dragTo(x,y,1)\n",
    "\n",
    "    s.alert(\"Done\")    "
   ]
  },
  {
   "cell_type": "code",
   "execution_count": 6,
   "id": "c3256f5a",
   "metadata": {},
   "outputs": [],
   "source": [
    "import time\n",
    "\n",
    "\n",
    "start = time.time()\n",
    "time.sleep(10)\n",
    "\n",
    "end = time.time()\n",
    "\n",
    "x = end - start"
   ]
  },
  {
   "cell_type": "code",
   "execution_count": 3,
   "id": "42c0cef3",
   "metadata": {},
   "outputs": [
    {
     "data": {
      "text/plain": [
       "datetime.datetime(2022, 5, 8, 22, 32, 48, 420515)"
      ]
     },
     "execution_count": 3,
     "metadata": {},
     "output_type": "execute_result"
    }
   ],
   "source": [
    "from datetime import datetime, timedelta\n",
    "\n",
    "m = datetime(2022,5,8,)"
   ]
  },
  {
   "cell_type": "code",
   "execution_count": null,
   "id": "6df1c2d4",
   "metadata": {},
   "outputs": [],
   "source": [
    "import pyautogui\n",
    "import time\n",
    "import datetime\n",
    "import os\n",
    "import mouse\n",
    "import keyboard\n",
    "\n",
    "path = os.getcwd()\n",
    "pyautogui.FAILSAFE = False\n",
    "\n",
    "hour = pyautogui.prompt(text='Enter Hour in 24 Hr format', title='Hour' , default='17')\n",
    "minutes = pyautogui.prompt(text='Enter minutes', title='Minutes' , default='30')\n",
    "\n",
    "mydate = datetime.date.today()\n",
    "mytime = datetime.time(hour=int(hour),minute=int(minutes))\n",
    "mytime = datetime.datetime.combine(mydate,mytime)\n",
    "\n",
    "\n",
    "# just click windows button to keep the computer awake\n",
    "while datetime.datetime.now() < mytime:\n",
    "\tpyautogui.click(28,1055)\n",
    "\ttime.sleep(15)\n",
    "\t"
   ]
  }
 ],
 "metadata": {
  "kernelspec": {
   "display_name": "Python 3",
   "language": "python",
   "name": "python3"
  },
  "language_info": {
   "codemirror_mode": {
    "name": "ipython",
    "version": 3
   },
   "file_extension": ".py",
   "mimetype": "text/x-python",
   "name": "python",
   "nbconvert_exporter": "python",
   "pygments_lexer": "ipython3",
   "version": "3.8.8"
  }
 },
 "nbformat": 4,
 "nbformat_minor": 5
}
