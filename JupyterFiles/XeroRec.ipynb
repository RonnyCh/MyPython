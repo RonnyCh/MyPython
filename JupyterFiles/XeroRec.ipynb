{
 "cells": [
  {
   "cell_type": "code",
   "execution_count": 14,
   "id": "56d6416c",
   "metadata": {},
   "outputs": [],
   "source": [
    "import os\n",
    "import pandas as pd\n",
    "os.chdir(r'P:\\Shared Documents\\Finance Systems\\Xero Project\\Reconciliation')\n",
    "\n",
    "\n",
    "def Type(Name):\n",
    "    if Name in ('Assets','Liabilities','Equity'):\n",
    "        x = 'BS'\n",
    "    else:\n",
    "        x = 'PNL'\n",
    "    return x\n",
    "    \n",
    "def Bal(a,b):\n",
    "    x = a - b\n",
    "    return x\n",
    "\n",
    "def Amt(a,b,type):\n",
    "    if type == 'PNL':\n",
    "        x = a\n",
    "    else:\n",
    "        x = b\n",
    "    return x\n",
    "\n",
    "def YTD(a,b,type):\n",
    "    if type == 'PNL':\n",
    "        x = b\n",
    "    else:\n",
    "        x = a\n",
    "    return x\n",
    "\n",
    "\n",
    "\n",
    "df = pd.read_csv('Xero.txt',sep=';',skiprows=[0],header=None)\n",
    "df.columns = ['Date', 'XeroOrganisation' ,'SectionName', 'AccountCode', 'AccountName',\n",
    "       'Debit', 'Credit', 'YTD Debit', 'YTD Credit']\n",
    "\n",
    "df['Debit'].fillna(0,inplace=True)\n",
    "df['Credit'].fillna(0,inplace=True)\n",
    "df['YTD Debit'].fillna(0,inplace=True)\n",
    "df['YTD Credit'].fillna(0,inplace=True)\n",
    "\n",
    "df['Type'] = df.apply(lambda x:Type(x['SectionName']),axis=1)\n",
    "df['Movement'] = df.apply(lambda x:Bal(x.Debit,x.Credit),axis=1)\n",
    "df['Spot'] = df.apply(lambda x:Bal(x['YTD Debit'],x['YTD Credit']),axis=1)\n",
    "\n",
    "\n",
    "\n",
    "df['Cube'] = 'LCA:XRO_Trial Balance'\n",
    "df['Version'] = 'Actual'\n",
    "df['Currency'] = 'Local'\n",
    "df['Measure'] = 'Balance'\n",
    "df['Amt'] = df.apply(lambda x:Amt(x['Movement'],x['Spot'],x['Type']),axis=1)\n",
    "df['YTD'] = df['Spot']\n",
    "\n",
    "# final results\n",
    "df = df [['Date','SectionName','AccountName',\n",
    "'Debit', 'Credit', 'YTD Debit', 'YTD Credit', 'Type', 'Movement',\n",
    "'Spot', 'Cube', 'XeroOrganisation','Version', 'Currency', 'Measure', 'AccountCode', 'Amt','YTD']]\n",
    "df.to_csv(r'C:\\Users\\r.christianto\\MyPython\\Xero.csv',index=False)"
   ]
  },
  {
   "cell_type": "code",
   "execution_count": 13,
   "id": "5e9e3ded",
   "metadata": {},
   "outputs": [
    {
     "data": {
      "text/plain": [
       "(16150, 18)"
      ]
     },
     "execution_count": 13,
     "metadata": {},
     "output_type": "execute_result"
    }
   ],
   "source": [
    "df.shape\n"
   ]
  },
  {
   "cell_type": "code",
   "execution_count": 8,
   "id": "bebbd495",
   "metadata": {},
   "outputs": [
    {
     "data": {
      "text/plain": [
       "'P:\\\\Shared Documents\\\\Finance Systems\\\\Xero Project\\\\Reconciliation'"
      ]
     },
     "execution_count": 8,
     "metadata": {},
     "output_type": "execute_result"
    }
   ],
   "source": [
    "os.getcwd()"
   ]
  },
  {
   "cell_type": "code",
   "execution_count": 10,
   "id": "c65543d4",
   "metadata": {},
   "outputs": [],
   "source": [
    "df.to_csv('Xero.csv',index=False)"
   ]
  },
  {
   "cell_type": "code",
   "execution_count": null,
   "id": "daa9f2d4",
   "metadata": {},
   "outputs": [],
   "source": []
  }
 ],
 "metadata": {
  "kernelspec": {
   "display_name": "Python 3",
   "language": "python",
   "name": "python3"
  },
  "language_info": {
   "codemirror_mode": {
    "name": "ipython",
    "version": 3
   },
   "file_extension": ".py",
   "mimetype": "text/x-python",
   "name": "python",
   "nbconvert_exporter": "python",
   "pygments_lexer": "ipython3",
   "version": "3.8.8"
  }
 },
 "nbformat": 4,
 "nbformat_minor": 5
}
