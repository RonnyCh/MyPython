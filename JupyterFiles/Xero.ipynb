{
 "cells": [
  {
   "cell_type": "markdown",
   "id": "6002ed89",
   "metadata": {},
   "source": [
    "# my first code reading text file, no longer needed since you can just use read_csv"
   ]
  },
  {
   "cell_type": "code",
   "execution_count": null,
   "id": "09f7ed26",
   "metadata": {},
   "outputs": [],
   "source": [
    "# https://pythonexamples.org/python-read-text-file-line-by-line/#:~:text=There%20are%20many%20ways%20to%20read%20a%20text,or%20calling%20a%20function%20on%20the%20file%20object."
   ]
  },
  {
   "cell_type": "code",
   "execution_count": 85,
   "id": "f3225ceb",
   "metadata": {},
   "outputs": [
    {
     "name": "stdout",
     "output_type": "stream",
     "text": [
      "2021-10-31;LCA Elizabeth Pty Limited;Revenue;41000;Earned Revenue;;154983.94;;626644.45\n",
      "\n",
      "2021-10-31;LCUK Bromley Ltd;Expenses;496;Advertising Levy;1044.64;;4035.18;\n",
      "\n",
      "\n"
     ]
    }
   ],
   "source": [
    "\n",
    "import os\n",
    "import pandas as pd\n",
    "os.chdir(r'P:\\Shared Documents\\Finance Systems\\Xero Project')\n",
    "\n",
    "# read the text file\n",
    "f = open(r'P:\\Shared Documents\\Finance Systems\\Automation\\Xero\\TBTest.txt','r')\n",
    "\n",
    "# put to a list and replace Ltd to Limited\n",
    "uk = []\n",
    "\n",
    "# write header\n",
    "#a = f.readline()\n",
    "#uk.append(a)\n",
    "\n",
    "for i in f:\n",
    "    a = f.readline()\n",
    "    print (a)\n",
    "    if 'LCUK' in a:\n",
    "        a = a.replace('Ltd','Limited')\n",
    "        a = a.replace('\\n','')\n",
    "        #print (a)\n",
    "        uk.append(a)\n",
    "    else:\n",
    "        a = a.replace('\\n','')\n",
    "        #print (a)\n",
    "        uk.append(a)\n",
    "\n",
    "# put it back to text file called list\n",
    "F = open('list.txt', 'w')\n",
    "\n",
    "for i in uk:\n",
    "    F.write(str(i) + \"\\n\")\n",
    " \n",
    "# Close the file\n",
    "F.close()\n",
    "    "
   ]
  },
  {
   "cell_type": "code",
   "execution_count": 103,
   "id": "7539b248",
   "metadata": {},
   "outputs": [
    {
     "name": "stdout",
     "output_type": "stream",
     "text": [
      "Date;XeroOrganisation,SectionName;AccountCode;AccountName;Debit;Credit;YTD Debit;YTD Credit\n",
      "2021-10-31;LCA Elizabeth Pty Limited;Revenue;41000;Earned Revenue;;154983.94;;626644.45\n",
      "2021-10-31;LCA Elizabeth Pty Limited;Revenue;81000;Interest Income;;0.84;;3.35\n",
      "2021-10-31;LCUK Bromley Ltd;Expenses;496;Advertising Levy;1044.64;;4035.18;\n",
      "2021-10-31;LCUK Bromley Ltd;Expenses;401;Audit & Accountancy fees;685.83;;2578.32;\n"
     ]
    },
    {
     "data": {
      "text/plain": [
       "<function TextIOWrapper.close()>"
      ]
     },
     "execution_count": 103,
     "metadata": {},
     "output_type": "execute_result"
    }
   ],
   "source": [
    "import os\n",
    "import pandas as pd\n",
    "os.chdir(r'P:\\Shared Documents\\Finance Systems\\Automation\\Xero')\n",
    "\n",
    "# read the text file\n",
    "f = open(r'P:\\Shared Documents\\Finance Systems\\Automation\\Xero\\TBTest.txt','r')\n",
    "\n",
    "\n",
    "while(True):\n",
    "    line = f.readline()\n",
    "    \n",
    "    if not line:\n",
    "        break\n",
    "    print (line.strip())\n",
    "\n",
    "f.close"
   ]
  },
  {
   "cell_type": "code",
   "execution_count": 105,
   "id": "874aa042",
   "metadata": {},
   "outputs": [],
   "source": [
    "import os\n",
    "import pandas as pd\n",
    "os.chdir(r'P:\\Shared Documents\\Finance Systems\\Automation\\Xero')\n",
    "\n",
    "# read the text file\n",
    "f = open(r'P:\\Shared Documents\\Finance Systems\\Automation\\Xero\\TBTest.txt','r')\n",
    "\n",
    "\n",
    "x = f.readlines()"
   ]
  },
  {
   "cell_type": "code",
   "execution_count": 110,
   "id": "5b1aec73",
   "metadata": {},
   "outputs": [
    {
     "data": {
      "text/html": [
       "<div>\n",
       "<style scoped>\n",
       "    .dataframe tbody tr th:only-of-type {\n",
       "        vertical-align: middle;\n",
       "    }\n",
       "\n",
       "    .dataframe tbody tr th {\n",
       "        vertical-align: top;\n",
       "    }\n",
       "\n",
       "    .dataframe thead th {\n",
       "        text-align: right;\n",
       "    }\n",
       "</style>\n",
       "<table border=\"1\" class=\"dataframe\">\n",
       "  <thead>\n",
       "    <tr style=\"text-align: right;\">\n",
       "      <th></th>\n",
       "      <th>0</th>\n",
       "    </tr>\n",
       "  </thead>\n",
       "  <tbody>\n",
       "    <tr>\n",
       "      <th>0</th>\n",
       "      <td>Date;XeroOrganisation,SectionName;AccountCode;...</td>\n",
       "    </tr>\n",
       "    <tr>\n",
       "      <th>1</th>\n",
       "      <td>2021-10-31;LCA Elizabeth Pty Limited;Revenue;4...</td>\n",
       "    </tr>\n",
       "    <tr>\n",
       "      <th>2</th>\n",
       "      <td>2021-10-31;LCA Elizabeth Pty Limited;Revenue;8...</td>\n",
       "    </tr>\n",
       "    <tr>\n",
       "      <th>3</th>\n",
       "      <td>2021-10-31;LCUK Bromley Ltd;Expenses;496;Adver...</td>\n",
       "    </tr>\n",
       "    <tr>\n",
       "      <th>4</th>\n",
       "      <td>2021-10-31;LCUK Bromley Ltd;Expenses;401;Audit...</td>\n",
       "    </tr>\n",
       "  </tbody>\n",
       "</table>\n",
       "</div>"
      ],
      "text/plain": [
       "                                                   0\n",
       "0  Date;XeroOrganisation,SectionName;AccountCode;...\n",
       "1  2021-10-31;LCA Elizabeth Pty Limited;Revenue;4...\n",
       "2  2021-10-31;LCA Elizabeth Pty Limited;Revenue;8...\n",
       "3  2021-10-31;LCUK Bromley Ltd;Expenses;496;Adver...\n",
       "4  2021-10-31;LCUK Bromley Ltd;Expenses;401;Audit..."
      ]
     },
     "execution_count": 110,
     "metadata": {},
     "output_type": "execute_result"
    }
   ],
   "source": [
    "pd.DataFrame(x)"
   ]
  },
  {
   "cell_type": "code",
   "execution_count": 97,
   "id": "1ea9548b",
   "metadata": {},
   "outputs": [
    {
     "data": {
      "text/plain": [
       "'2021-10-31;LCUK Bromley Ltd;Expenses;401;Audit & Accountancy fees;685.83;;2578.32;\\n'"
      ]
     },
     "execution_count": 97,
     "metadata": {},
     "output_type": "execute_result"
    }
   ],
   "source": [
    "#get file object\n",
    "file1 = open(\"sample.txt\", \"r\")\n",
    "\n",
    "while(True):\n",
    "\t#read next line\n",
    "\tline = file1.readline()\n",
    "\t#check if line is not null\n",
    "\tif not line:\n",
    "\t\tbreak\n",
    "\t#you can access the line\n",
    "\tprint(line.strip())\n",
    "\n",
    "#close file\n",
    "file1.close"
   ]
  },
  {
   "cell_type": "markdown",
   "id": "c5af53e3",
   "metadata": {},
   "source": [
    "# Read using pandas csv"
   ]
  },
  {
   "cell_type": "code",
   "execution_count": 7,
   "id": "a8a7c1de",
   "metadata": {},
   "outputs": [
    {
     "data": {
      "text/plain": [
       "(15303, 9)"
      ]
     },
     "execution_count": 7,
     "metadata": {},
     "output_type": "execute_result"
    }
   ],
   "source": [
    "import os\n",
    "import pandas as pd\n",
    "os.chdir(r'P:\\Shared Documents\\Finance Systems\\Xero Project')\n",
    "\n",
    "df = pd.read_csv('XEROText.txt',sep=';',skiprows=[0],header=None)\n",
    "df.columns = ['Date', 'XeroOrganisation' ,' SectionName', 'AccountCode', 'AccountName',\n",
    "       'Debit', 'Credit', 'YTD Debit', 'YTD Credit']\n",
    "\n",
    "df.shape"
   ]
  },
  {
   "cell_type": "code",
   "execution_count": 9,
   "id": "d99e7043",
   "metadata": {},
   "outputs": [],
   "source": [
    "df.to_csv('Xero.csv',index=False)\n"
   ]
  },
  {
   "cell_type": "code",
   "execution_count": 78,
   "id": "310ad953",
   "metadata": {},
   "outputs": [],
   "source": [
    "import snowflake.connector\n",
    "import pandas as pd\n",
    "import numpy as np\n",
    "ctx = snowflake.connector.connect(\n",
    "    account = 'xb05962.australia-east.azure',\n",
    "    user = 'Ronnyc',\n",
    "    password = 'Ronchi1989',\n",
    "    warehouse = 'FINANCE',\n",
    "    database = 'FINANCE_TEAM',\n",
    "    schema = 'PUBLIC'\n",
    ")\n",
    "cur = ctx.cursor()"
   ]
  },
  {
   "cell_type": "code",
   "execution_count": null,
   "id": "9808341d",
   "metadata": {},
   "outputs": [],
   "source": []
  },
  {
   "cell_type": "code",
   "execution_count": 79,
   "id": "b881815f",
   "metadata": {},
   "outputs": [
    {
     "ename": "ProgrammingError",
     "evalue": "100080 (22000): Number of columns in file (8) does not match that of the corresponding table (9), use file format option error_on_column_count_mismatch=false to ignore this error\n  File '@XERO/Test.csv.gz', line 2, character 1\n  Row 1 starts at line 1, column \"XERO\"[\"YTD_DR\":8]\n  If you would like to continue loading when an error is encountered, use other values such as 'SKIP_FILE' or 'CONTINUE' for the ON_ERROR option. For more information on loading options, please run 'info loading_data' in a SQL client.",
     "output_type": "error",
     "traceback": [
      "\u001b[1;31m---------------------------------------------------------------------------\u001b[0m",
      "\u001b[1;31mProgrammingError\u001b[0m                          Traceback (most recent call last)",
      "\u001b[1;32m<ipython-input-79-633d2e2a9eaa>\u001b[0m in \u001b[0;36m<module>\u001b[1;34m\u001b[0m\n\u001b[0;32m      3\u001b[0m \u001b[1;33m\u001b[0m\u001b[0m\n\u001b[0;32m      4\u001b[0m \u001b[0mcur\u001b[0m\u001b[1;33m.\u001b[0m\u001b[0mexecute\u001b[0m\u001b[1;33m(\u001b[0m\u001b[1;34m\"PUT file:///tmp/Test* @%Xero\"\u001b[0m\u001b[1;33m)\u001b[0m\u001b[1;33m\u001b[0m\u001b[1;33m\u001b[0m\u001b[0m\n\u001b[1;32m----> 5\u001b[1;33m \u001b[0mcur\u001b[0m\u001b[1;33m.\u001b[0m\u001b[0mexecute\u001b[0m\u001b[1;33m(\u001b[0m\u001b[1;34m\"COPY INTO Xero\"\u001b[0m\u001b[1;33m)\u001b[0m\u001b[1;33m\u001b[0m\u001b[1;33m\u001b[0m\u001b[0m\n\u001b[0m",
      "\u001b[1;32m~\\Anaconda3\\lib\\site-packages\\snowflake\\connector\\cursor.py\u001b[0m in \u001b[0;36mexecute\u001b[1;34m(self, command, params, _bind_stage, timeout, _exec_async, _do_reset, _put_callback, _put_azure_callback, _put_callback_output_stream, _get_callback, _get_azure_callback, _get_callback_output_stream, _show_progress_bar, _statement_params, _is_internal, _describe_only, _no_results, _use_ijson, _is_put_get, _raise_put_get_error, _force_put_overwrite, file_stream)\u001b[0m\n\u001b[0;32m    779\u001b[0m                 \u001b[1;34m\"sfqid\"\u001b[0m\u001b[1;33m:\u001b[0m \u001b[0mself\u001b[0m\u001b[1;33m.\u001b[0m\u001b[0m_sfqid\u001b[0m\u001b[1;33m,\u001b[0m\u001b[1;33m\u001b[0m\u001b[1;33m\u001b[0m\u001b[0m\n\u001b[0;32m    780\u001b[0m             }\n\u001b[1;32m--> 781\u001b[1;33m             Error.errorhandler_wrapper(\n\u001b[0m\u001b[0;32m    782\u001b[0m                 \u001b[0mself\u001b[0m\u001b[1;33m.\u001b[0m\u001b[0mconnection\u001b[0m\u001b[1;33m,\u001b[0m \u001b[0mself\u001b[0m\u001b[1;33m,\u001b[0m \u001b[0mProgrammingError\u001b[0m\u001b[1;33m,\u001b[0m \u001b[0merrvalue\u001b[0m\u001b[1;33m\u001b[0m\u001b[1;33m\u001b[0m\u001b[0m\n\u001b[0;32m    783\u001b[0m             )\n",
      "\u001b[1;32m~\\Anaconda3\\lib\\site-packages\\snowflake\\connector\\errors.py\u001b[0m in \u001b[0;36merrorhandler_wrapper\u001b[1;34m(connection, cursor, error_class, error_value)\u001b[0m\n\u001b[0;32m    266\u001b[0m         \"\"\"\n\u001b[0;32m    267\u001b[0m \u001b[1;33m\u001b[0m\u001b[0m\n\u001b[1;32m--> 268\u001b[1;33m         handed_over = Error.hand_to_other_handler(\n\u001b[0m\u001b[0;32m    269\u001b[0m             \u001b[0mconnection\u001b[0m\u001b[1;33m,\u001b[0m\u001b[1;33m\u001b[0m\u001b[1;33m\u001b[0m\u001b[0m\n\u001b[0;32m    270\u001b[0m             \u001b[0mcursor\u001b[0m\u001b[1;33m,\u001b[0m\u001b[1;33m\u001b[0m\u001b[1;33m\u001b[0m\u001b[0m\n",
      "\u001b[1;32m~\\Anaconda3\\lib\\site-packages\\snowflake\\connector\\errors.py\u001b[0m in \u001b[0;36mhand_to_other_handler\u001b[1;34m(connection, cursor, error_class, error_value)\u001b[0m\n\u001b[0;32m    321\u001b[0m         \u001b[1;32mif\u001b[0m \u001b[0mcursor\u001b[0m \u001b[1;32mis\u001b[0m \u001b[1;32mnot\u001b[0m \u001b[1;32mNone\u001b[0m\u001b[1;33m:\u001b[0m\u001b[1;33m\u001b[0m\u001b[1;33m\u001b[0m\u001b[0m\n\u001b[0;32m    322\u001b[0m             \u001b[0mcursor\u001b[0m\u001b[1;33m.\u001b[0m\u001b[0mmessages\u001b[0m\u001b[1;33m.\u001b[0m\u001b[0mappend\u001b[0m\u001b[1;33m(\u001b[0m\u001b[1;33m(\u001b[0m\u001b[0merror_class\u001b[0m\u001b[1;33m,\u001b[0m \u001b[0merror_value\u001b[0m\u001b[1;33m)\u001b[0m\u001b[1;33m)\u001b[0m\u001b[1;33m\u001b[0m\u001b[1;33m\u001b[0m\u001b[0m\n\u001b[1;32m--> 323\u001b[1;33m             \u001b[0mcursor\u001b[0m\u001b[1;33m.\u001b[0m\u001b[0merrorhandler\u001b[0m\u001b[1;33m(\u001b[0m\u001b[0mconnection\u001b[0m\u001b[1;33m,\u001b[0m \u001b[0mcursor\u001b[0m\u001b[1;33m,\u001b[0m \u001b[0merror_class\u001b[0m\u001b[1;33m,\u001b[0m \u001b[0merror_value\u001b[0m\u001b[1;33m)\u001b[0m\u001b[1;33m\u001b[0m\u001b[1;33m\u001b[0m\u001b[0m\n\u001b[0m\u001b[0;32m    324\u001b[0m             \u001b[1;32mreturn\u001b[0m \u001b[1;32mTrue\u001b[0m\u001b[1;33m\u001b[0m\u001b[1;33m\u001b[0m\u001b[0m\n\u001b[0;32m    325\u001b[0m         \u001b[1;32melif\u001b[0m \u001b[0mconnection\u001b[0m \u001b[1;32mis\u001b[0m \u001b[1;32mnot\u001b[0m \u001b[1;32mNone\u001b[0m\u001b[1;33m:\u001b[0m\u001b[1;33m\u001b[0m\u001b[1;33m\u001b[0m\u001b[0m\n",
      "\u001b[1;32m~\\Anaconda3\\lib\\site-packages\\snowflake\\connector\\errors.py\u001b[0m in \u001b[0;36mdefault_errorhandler\u001b[1;34m(connection, cursor, error_class, error_value)\u001b[0m\n\u001b[0;32m    200\u001b[0m             \u001b[0mA\u001b[0m \u001b[0mSnowflake\u001b[0m \u001b[0merror\u001b[0m\u001b[1;33m.\u001b[0m\u001b[1;33m\u001b[0m\u001b[1;33m\u001b[0m\u001b[0m\n\u001b[0;32m    201\u001b[0m         \"\"\"\n\u001b[1;32m--> 202\u001b[1;33m         raise error_class(\n\u001b[0m\u001b[0;32m    203\u001b[0m             \u001b[0mmsg\u001b[0m\u001b[1;33m=\u001b[0m\u001b[0merror_value\u001b[0m\u001b[1;33m.\u001b[0m\u001b[0mget\u001b[0m\u001b[1;33m(\u001b[0m\u001b[1;34m\"msg\"\u001b[0m\u001b[1;33m)\u001b[0m\u001b[1;33m,\u001b[0m\u001b[1;33m\u001b[0m\u001b[1;33m\u001b[0m\u001b[0m\n\u001b[0;32m    204\u001b[0m             \u001b[0merrno\u001b[0m\u001b[1;33m=\u001b[0m\u001b[0merror_value\u001b[0m\u001b[1;33m.\u001b[0m\u001b[0mget\u001b[0m\u001b[1;33m(\u001b[0m\u001b[1;34m\"errno\"\u001b[0m\u001b[1;33m)\u001b[0m\u001b[1;33m,\u001b[0m\u001b[1;33m\u001b[0m\u001b[1;33m\u001b[0m\u001b[0m\n",
      "\u001b[1;31mProgrammingError\u001b[0m: 100080 (22000): Number of columns in file (8) does not match that of the corresponding table (9), use file format option error_on_column_count_mismatch=false to ignore this error\n  File '@XERO/Test.csv.gz', line 2, character 1\n  Row 1 starts at line 1, column \"XERO\"[\"YTD_DR\":8]\n  If you would like to continue loading when an error is encountered, use other values such as 'SKIP_FILE' or 'CONTINUE' for the ON_ERROR option. For more information on loading options, please run 'info loading_data' in a SQL client."
     ]
    }
   ],
   "source": [
    "### Load csv files start with test*\n",
    "### Oke needs to check this again..... \n",
    "\n",
    "cur.execute(\"PUT file:///tmp/Test* @%Xero\")\n",
    "cur.execute(\"COPY INTO Xero\")\n"
   ]
  },
  {
   "cell_type": "code",
   "execution_count": null,
   "id": "ed5e026b",
   "metadata": {},
   "outputs": [],
   "source": []
  }
 ],
 "metadata": {
  "kernelspec": {
   "display_name": "Python 3",
   "language": "python",
   "name": "python3"
  },
  "language_info": {
   "codemirror_mode": {
    "name": "ipython",
    "version": 3
   },
   "file_extension": ".py",
   "mimetype": "text/x-python",
   "name": "python",
   "nbconvert_exporter": "python",
   "pygments_lexer": "ipython3",
   "version": "3.8.8"
  }
 },
 "nbformat": 4,
 "nbformat_minor": 5
}
