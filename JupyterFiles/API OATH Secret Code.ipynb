{
 "cells": [
  {
   "cell_type": "markdown",
   "id": "3119ce30",
   "metadata": {},
   "source": [
    "\n",
    "\n",
    "# Source :\n",
    "https://python.plainenglish.io/connect-xero-oauth-2-0-using-python-without-a-website-86c79474c482\n",
    "\n",
    "\n",
    "\n",
    "Notes : I also tested, you can create two apps with different client ids , they will work in on the same xero data\n",
    "\n",
    "\n",
    "### format of Trial Balance\n",
    "https://developer.xero.com/documentation/api/accounting/reports/#budget-summary\n",
    "\n",
    "### XERO API Exploration\n",
    "https://api-explorer.xero.com/accounting/reports/getreporttrialbalance?query-date=2022-06-30\n",
    "\n",
    "### Auth flow - secret code\n",
    "https://developer.xero.com/documentation/guides/oauth2/auth-flow#4-receive-your-tokens\n",
    "\n",
    "\n",
    "### Auth flow - PKCE\n",
    "https://developer.xero.com/documentation/guides/oauth2/pkce-flow\n",
    "\n",
    "### Create App - developer site\n",
    "https://developer.xero.com/"
   ]
  },
  {
   "cell_type": "code",
   "execution_count": 272,
   "id": "e9b528fe",
   "metadata": {},
   "outputs": [],
   "source": [
    "\n",
    "client_id = '997B883FBD8F4100B021ABB5D83C5DE3' # web client id\n",
    "client_secret = 'Bk90_tGJsnRY6LrkvzneoXPLajzU04Mq4EW0ub5-iS7G2UBV'\n",
    "redirect_url = 'https://developer.xero.com/'\n",
    "#scope = 'offline_access accounting.contacts'\n",
    "scope = 'offline_access accounting.reports.read'\n",
    "b64_id_secret = base64.b64encode(bytes(client_id + ':' + client_secret, 'utf-8')).decode('utf-8')"
   ]
  },
  {
   "cell_type": "markdown",
   "id": "f35944a2",
   "metadata": {},
   "source": [
    "# Generate authentication URL and connect to xero"
   ]
  },
  {
   "cell_type": "code",
   "execution_count": 273,
   "id": "bb18e196",
   "metadata": {},
   "outputs": [
    {
     "name": "stdout",
     "output_type": "stream",
     "text": [
      "https://login.xero.com/identity/connect/authorize?response_type=code&client_id=997B883FBD8F4100B021ABB5D83C5DE3&scope=offline_access accounting.reports.read&redirect_uri=https://developer.xero.com/\n"
     ]
    }
   ],
   "source": [
    "auth_url = ('https://login.xero.com/identity/connect/authorize?' +\n",
    "'response_type=code' +\n",
    "'&client_id=' + client_id +\n",
    "'&scope=' + scope +\n",
    "'&redirect_uri=' + redirect_url)\n",
    "print (auth_url)"
   ]
  },
  {
   "cell_type": "code",
   "execution_count": 81,
   "id": "0cf78d49",
   "metadata": {},
   "outputs": [],
   "source": [
    "code = 'd5b699afb0e611a51a41e4633674adf7804e87b5bdba0e56c8f35ebc00bdae8e'"
   ]
  },
  {
   "cell_type": "markdown",
   "id": "f086d7a0",
   "metadata": {},
   "source": [
    "# Exchange token"
   ]
  },
  {
   "cell_type": "code",
   "execution_count": 84,
   "id": "8f272949",
   "metadata": {},
   "outputs": [],
   "source": [
    " # 3. Exchange the code\n",
    "exchange_code_url = 'https://identity.xero.com/connect/token'\n",
    "response = requests.post(exchange_code_url, \n",
    "                        headers = {\n",
    "                            'Authorization': 'Basic ' + b64_id_secret\n",
    "                        },\n",
    "                        data={\n",
    "              'grant_type': 'authorization_code',\n",
    "              'code': code,\n",
    "              'redirect_uri': redirect_url\n",
    "})"
   ]
  },
  {
   "cell_type": "code",
   "execution_count": 85,
   "id": "65075e34",
   "metadata": {},
   "outputs": [
    {
     "data": {
      "text/plain": [
       "{'access_token': 'eyJhbGciOiJSUzI1NiIsImtpZCI6IjFDQUY4RTY2NzcyRDZEQzAyOEQ2NzI2RkQwMjYxNTgxNTcwRUZDMTkiLCJ0eXAiOiJKV1QiLCJ4NXQiOiJISy1PWm5jdGJjQW8xbkp2MENZVmdWY09fQmsifQ.eyJuYmYiOjE2NTI3OTIyMjcsImV4cCI6MTY1Mjc5NDAyNywiaXNzIjoiaHR0cHM6Ly9pZGVudGl0eS54ZXJvLmNvbSIsImF1ZCI6Imh0dHBzOi8vaWRlbnRpdHkueGVyby5jb20vcmVzb3VyY2VzIiwiY2xpZW50X2lkIjoiOTk3Qjg4M0ZCRDhGNDEwMEIwMjFBQkI1RDgzQzVERTMiLCJzdWIiOiI0Zjk3ZjQ4M2Q1MTI1NmFkOTg4ZDMzOTQ2YTdhMWEyOSIsImF1dGhfdGltZSI6MTY1Mjc4NjgyMiwieGVyb191c2VyaWQiOiIyMTc5ZWM0Ni03MjcxLTRiOTktYjY2ZC1jNWQ5NGExOGRjYjQiLCJnbG9iYWxfc2Vzc2lvbl9pZCI6IjMzMTc5MTJkY2U2YjQ1YzJiNGMzYjU0ZjJhZjAyOTdjIiwianRpIjoiY2JhNGYxNTgwYWZiOGFjZDI2MGUxYTRjZWE4NzE2MzUiLCJhdXRoZW50aWNhdGlvbl9ldmVudF9pZCI6ImQ0MTNmNGUwLWI2NjEtNDZkNC04YjhjLTk2MGFlZTU5NDc0ZCIsInNjb3BlIjpbImFjY291bnRpbmcucmVwb3J0cy5yZWFkIiwib2ZmbGluZV9hY2Nlc3MiXSwiYW1yIjpbInB3ZCJdfQ.nxNNzpBBNSVxAn78Jzv5kaz2Tlh_pGgHBPDmwzNyt7QHJuSD-7o2P7tPS9uu7n-hjd8xN5TW7oYMurLHlt0ykAuvZKgjnLKPsyWzf7k5F3vJvxJpXYgksUwpYkqH3ke3-dqfMn-w5vb7Z1MwZ_gHcZxdRsQLTltYaraDaRua1wk4_lDwROiaa2PwIscNiUNVPPnjWTNrYFkHjaLwYijpJTqeOSGnKcDaE4FbY2V8Jx3Xf-y9-ECUeTNze3ua2PRgUvuZTEW6vRD8zisSmQjq3Tn9TgiwVvThcFUCPuOnLcd1gKglxKcUh-lQZDShg69m0O_xraF4fqRZrGwgvNcwoA',\n",
       " 'expires_in': 1800,\n",
       " 'token_type': 'Bearer',\n",
       " 'refresh_token': 'f8eaa9314f8d0b76e617f394b406c3c2a388c5e5514347e05e8f31da44d8cb33',\n",
       " 'scope': 'accounting.reports.read offline_access'}"
      ]
     },
     "execution_count": 85,
     "metadata": {},
     "output_type": "execute_result"
    }
   ],
   "source": [
    "response.json()"
   ]
  },
  {
   "cell_type": "code",
   "execution_count": 87,
   "id": "9578d6bf",
   "metadata": {},
   "outputs": [],
   "source": [
    "access_token = response.json()['access_token']\n",
    "refresh_token = response.json()['refresh_token']"
   ]
  },
  {
   "cell_type": "markdown",
   "id": "01f34e83",
   "metadata": {},
   "source": [
    "# store the tenant id in list for looping"
   ]
  },
  {
   "cell_type": "code",
   "execution_count": 20,
   "id": "4ff8ca71",
   "metadata": {},
   "outputs": [],
   "source": [
    "url = 'https://api.xero.com/connections'\n",
    "response = requests.get(url,\n",
    "           headers={\n",
    "             'Authorization' : 'Bearer '+access_token,\n",
    "             'Content-Type' : 'application/json'\n",
    "          })\n",
    "conn_json = response.json()\n",
    "mylist = []\n",
    "tenantName = \"\"\n",
    "for t in conn_json:\n",
    "    if 'tenantId' in t:\n",
    "        tenantId = t['tenantId']\n",
    "        mylist.append(tenantId)"
   ]
  },
  {
   "cell_type": "code",
   "execution_count": 24,
   "id": "b04e6b1b",
   "metadata": {},
   "outputs": [
    {
     "data": {
      "text/plain": [
       "['6439291f-b6b3-433a-b6b3-810336a7c903',\n",
       " 'c2635a39-2e2a-4105-8aa9-b4800c4f59dc']"
      ]
     },
     "execution_count": 24,
     "metadata": {},
     "output_type": "execute_result"
    }
   ],
   "source": [
    "mylist"
   ]
  },
  {
   "cell_type": "code",
   "execution_count": 89,
   "id": "54fb8430",
   "metadata": {},
   "outputs": [],
   "source": [
    "import json\n",
    "#url = 'https://api.xero.com/api.xro/2.0/Contacts'\n",
    "url = 'https://api.xero.com/api.xro/2.0/Reports/TrialBalance'\n",
    "#url = 'https://api.xero.com/connections'\n",
    "\n",
    "for i in mylist:\n",
    "    response = requests.get(url,\n",
    "           headers={\n",
    "               'Authorization' : 'Bearer '+access_token,\n",
    "               'Accept' : 'application/json',\n",
    "               'Xero-tenant-id' : i})\n",
    "    data = json.loads(response.text)\n",
    "    with open(i+'.txt','w') as f:\n",
    "        f.write(str(data))\n",
    "        #### it works i can write different text files.\n",
    "        ### just need to figure out tidying up the text to proper columns etc like csv"
   ]
  },
  {
   "cell_type": "code",
   "execution_count": 275,
   "id": "46e3601a",
   "metadata": {},
   "outputs": [
    {
     "data": {
      "text/plain": [
       "[{'id': 'dea2dd9c-9366-450e-8964-dd18e5814abc',\n",
       "  'authEventId': '9dbcdca8-1f38-4caa-84fb-01870c08eed8',\n",
       "  'tenantId': '6439291f-b6b3-433a-b6b3-810336a7c903',\n",
       "  'tenantType': 'ORGANISATION',\n",
       "  'tenantName': 'Xero Testing2',\n",
       "  'createdDateUtc': '2022-05-17T06:31:48.1219710',\n",
       "  'updatedDateUtc': '2022-05-17T06:31:48.1231110'},\n",
       " {'id': '89e470f4-503a-44dc-af06-63f68e6769b2',\n",
       "  'authEventId': '0cc2e136-620d-4a9a-80ba-c1ddb4887fb4',\n",
       "  'tenantId': 'c2635a39-2e2a-4105-8aa9-b4800c4f59dc',\n",
       "  'tenantType': 'ORGANISATION',\n",
       "  'tenantName': 'Xero Testing',\n",
       "  'createdDateUtc': '2022-05-17T06:31:12.4294250',\n",
       "  'updatedDateUtc': '2022-05-17T06:31:12.4306880'},\n",
       " {'id': 'aa7e2f9a-1077-4b18-9dda-04e37c9d0004',\n",
       "  'authEventId': 'a3f5710e-c948-4110-95e1-3e8a9a9a7468',\n",
       "  'tenantId': 'ef778bbb-e6cb-4f92-8cfe-4e165c0da7ee',\n",
       "  'tenantType': 'ORGANISATION',\n",
       "  'tenantName': 'Demo Company (AU)',\n",
       "  'createdDateUtc': '2022-05-18T12:27:36.6094690',\n",
       "  'updatedDateUtc': '2022-05-18T12:27:36.6111980'}]"
      ]
     },
     "execution_count": 275,
     "metadata": {},
     "output_type": "execute_result"
    }
   ],
   "source": [
    "url = 'https://api.xero.com/connections'\n",
    "response = requests.get(url,\n",
    "           headers={\n",
    "               'Authorization' : 'Bearer '+access_token,\n",
    "               'Accept' : 'application/json'})\n",
    "json.loads(response.text)\n",
    "  "
   ]
  },
  {
   "cell_type": "markdown",
   "id": "e8b6396d",
   "metadata": {},
   "source": [
    "# Refresh Token\n",
    "\n",
    "Please note refreshen token expires after 60 days"
   ]
  },
  {
   "cell_type": "code",
   "execution_count": 274,
   "id": "69cc3656",
   "metadata": {},
   "outputs": [],
   "source": [
    "import requests\n",
    "import base64\n",
    "\n",
    "b64_id_secret = base64.b64encode(bytes(client_id + ':' + client_secret, 'utf-8')).decode('utf-8')\n",
    "\n",
    "\n",
    "# open last refresh token\n",
    "f = open('oath_refresh.txt','r')\n",
    "refresh_token = f.read()\n",
    "\n",
    "\n",
    "# get new access token and refresh token\n",
    "url = 'https://identity.xero.com/connect/token'\n",
    "response = requests.post(url,\n",
    "           headers={\n",
    "               'Authorization': 'Basic ' + b64_id_secret\n",
    "           },\n",
    "           data={\n",
    "               'grant_type': 'refresh_token',\n",
    "               'client_id' : client_id,\n",
    "               'refresh_token': refresh_token\n",
    "           })\n",
    "\n",
    "\n",
    "response.json()\n",
    "response_dict = response.json()\n",
    "access_token = response_dict['access_token']\n",
    "refresh_token = response_dict['refresh_token']\n",
    "\n",
    "\n",
    "# save new refresh token\n",
    "f = open('oath_refresh.txt','w')\n",
    "f = f.write(refresh_token)"
   ]
  },
  {
   "cell_type": "markdown",
   "id": "d4011f42",
   "metadata": {},
   "source": [
    "# Convert Json to DF"
   ]
  },
  {
   "cell_type": "code",
   "execution_count": 278,
   "id": "f6633aec",
   "metadata": {},
   "outputs": [],
   "source": [
    "import json\n",
    "#url = 'https://api.xero.com/api.xro/2.0/Contacts'\n",
    "#url = 'https://api.xero.com/api.xro/2.0/Reports/TrialBalance'\n",
    "url = 'https://api.xero.com/api.xro/2.0/Reports/TrialBalance?date=2022-04-30&paymentsOnly=false'\n",
    "#url = 'https://api.xero.com/connections'\n",
    "\n",
    "\n",
    "response = requests.get(url,\n",
    "       headers={\n",
    "           'Authorization' : 'Bearer '+access_token,\n",
    "           'Accept' : 'application/json',\n",
    "           'Xero-tenant-id' : 'ef778bbb-e6cb-4f92-8cfe-4e165c0da7ee'})\n",
    "data = json.loads(response.text)\n"
   ]
  },
  {
   "cell_type": "code",
   "execution_count": 279,
   "id": "dc8d6d90",
   "metadata": {},
   "outputs": [
    {
     "data": {
      "text/html": [
       "<div>\n",
       "<style scoped>\n",
       "    .dataframe tbody tr th:only-of-type {\n",
       "        vertical-align: middle;\n",
       "    }\n",
       "\n",
       "    .dataframe tbody tr th {\n",
       "        vertical-align: top;\n",
       "    }\n",
       "\n",
       "    .dataframe thead th {\n",
       "        text-align: right;\n",
       "    }\n",
       "</style>\n",
       "<table border=\"1\" class=\"dataframe\">\n",
       "  <thead>\n",
       "    <tr style=\"text-align: right;\">\n",
       "      <th></th>\n",
       "      <th>Desc</th>\n",
       "      <th>Dr</th>\n",
       "      <th>Cr</th>\n",
       "      <th>YTD Dr</th>\n",
       "      <th>YTD Cr</th>\n",
       "    </tr>\n",
       "  </thead>\n",
       "  <tbody>\n",
       "    <tr>\n",
       "      <th>0</th>\n",
       "      <td>Sales (200)</td>\n",
       "      <td></td>\n",
       "      <td>13645.00</td>\n",
       "      <td></td>\n",
       "      <td>35931.00</td>\n",
       "    </tr>\n",
       "    <tr>\n",
       "      <th>1</th>\n",
       "      <td>Advertising (400)</td>\n",
       "      <td>1818.18</td>\n",
       "      <td></td>\n",
       "      <td>1830.18</td>\n",
       "      <td></td>\n",
       "    </tr>\n",
       "    <tr>\n",
       "      <th>2</th>\n",
       "      <td>Bank Fees (404)</td>\n",
       "      <td>10.50</td>\n",
       "      <td></td>\n",
       "      <td>31.50</td>\n",
       "      <td></td>\n",
       "    </tr>\n",
       "    <tr>\n",
       "      <th>3</th>\n",
       "      <td>Cleaning (408)</td>\n",
       "      <td>155.00</td>\n",
       "      <td></td>\n",
       "      <td>310.00</td>\n",
       "      <td></td>\n",
       "    </tr>\n",
       "    <tr>\n",
       "      <th>4</th>\n",
       "      <td>Consulting &amp; Accounting (412)</td>\n",
       "      <td>49.00</td>\n",
       "      <td></td>\n",
       "      <td>49.00</td>\n",
       "      <td></td>\n",
       "    </tr>\n",
       "    <tr>\n",
       "      <th>5</th>\n",
       "      <td>Entertainment (420)</td>\n",
       "      <td></td>\n",
       "      <td>200.00</td>\n",
       "      <td>277.20</td>\n",
       "      <td></td>\n",
       "    </tr>\n",
       "    <tr>\n",
       "      <th>6</th>\n",
       "      <td>General Expenses (429)</td>\n",
       "      <td>0.00</td>\n",
       "      <td></td>\n",
       "      <td>966.87</td>\n",
       "      <td></td>\n",
       "    </tr>\n",
       "    <tr>\n",
       "      <th>7</th>\n",
       "      <td>Light, Power, Heating (445)</td>\n",
       "      <td>301.00</td>\n",
       "      <td></td>\n",
       "      <td>946.00</td>\n",
       "      <td></td>\n",
       "    </tr>\n",
       "    <tr>\n",
       "      <th>8</th>\n",
       "      <td>Motor Vehicle Expenses (449)</td>\n",
       "      <td>59.09</td>\n",
       "      <td></td>\n",
       "      <td>429.09</td>\n",
       "      <td></td>\n",
       "    </tr>\n",
       "    <tr>\n",
       "      <th>9</th>\n",
       "      <td>Office Expenses (453)</td>\n",
       "      <td>83.54</td>\n",
       "      <td></td>\n",
       "      <td>1410.44</td>\n",
       "      <td></td>\n",
       "    </tr>\n",
       "    <tr>\n",
       "      <th>10</th>\n",
       "      <td>Printing &amp; Stationery (461)</td>\n",
       "      <td>30.09</td>\n",
       "      <td></td>\n",
       "      <td>66.00</td>\n",
       "      <td></td>\n",
       "    </tr>\n",
       "    <tr>\n",
       "      <th>11</th>\n",
       "      <td>Rent (469)</td>\n",
       "      <td>2573.86</td>\n",
       "      <td></td>\n",
       "      <td>5573.86</td>\n",
       "      <td></td>\n",
       "    </tr>\n",
       "    <tr>\n",
       "      <th>12</th>\n",
       "      <td>Telephone &amp; Internet (489)</td>\n",
       "      <td>49.21</td>\n",
       "      <td></td>\n",
       "      <td>239.56</td>\n",
       "      <td></td>\n",
       "    </tr>\n",
       "    <tr>\n",
       "      <th>13</th>\n",
       "      <td>Travel - National (493)</td>\n",
       "      <td>0.00</td>\n",
       "      <td></td>\n",
       "      <td>462.14</td>\n",
       "      <td></td>\n",
       "    </tr>\n",
       "    <tr>\n",
       "      <th>14</th>\n",
       "      <td>Wages and Salaries (477)</td>\n",
       "      <td>13400.00</td>\n",
       "      <td></td>\n",
       "      <td>33500.00</td>\n",
       "      <td></td>\n",
       "    </tr>\n",
       "    <tr>\n",
       "      <th>15</th>\n",
       "      <td>Accounts Receivable (610)</td>\n",
       "      <td>5329.50</td>\n",
       "      <td></td>\n",
       "      <td>14049.50</td>\n",
       "      <td></td>\n",
       "    </tr>\n",
       "    <tr>\n",
       "      <th>16</th>\n",
       "      <td>Business Bank Account (090)</td>\n",
       "      <td></td>\n",
       "      <td>94.79</td>\n",
       "      <td></td>\n",
       "      <td>10752.84</td>\n",
       "    </tr>\n",
       "    <tr>\n",
       "      <th>17</th>\n",
       "      <td>Business Savings Account (091)</td>\n",
       "      <td></td>\n",
       "      <td>3500.00</td>\n",
       "      <td>11581.23</td>\n",
       "      <td></td>\n",
       "    </tr>\n",
       "    <tr>\n",
       "      <th>18</th>\n",
       "      <td>Office Equipment (710)</td>\n",
       "      <td>6300.00</td>\n",
       "      <td></td>\n",
       "      <td>7050.00</td>\n",
       "      <td></td>\n",
       "    </tr>\n",
       "    <tr>\n",
       "      <th>19</th>\n",
       "      <td>Less Accumulated Depreciation on Office Equipm...</td>\n",
       "      <td>0.00</td>\n",
       "      <td></td>\n",
       "      <td></td>\n",
       "      <td>825.00</td>\n",
       "    </tr>\n",
       "    <tr>\n",
       "      <th>20</th>\n",
       "      <td>Accounts Payable (800)</td>\n",
       "      <td></td>\n",
       "      <td>9787.73</td>\n",
       "      <td></td>\n",
       "      <td>11560.04</td>\n",
       "    </tr>\n",
       "    <tr>\n",
       "      <th>21</th>\n",
       "      <td>GST (820)</td>\n",
       "      <td></td>\n",
       "      <td>222.60</td>\n",
       "      <td></td>\n",
       "      <td>868.57</td>\n",
       "    </tr>\n",
       "    <tr>\n",
       "      <th>22</th>\n",
       "      <td>Historical Adjustment (840)</td>\n",
       "      <td></td>\n",
       "      <td>0.00</td>\n",
       "      <td></td>\n",
       "      <td>19212.21</td>\n",
       "    </tr>\n",
       "    <tr>\n",
       "      <th>23</th>\n",
       "      <td>PAYG Withholdings Payable (825)</td>\n",
       "      <td></td>\n",
       "      <td>3014.00</td>\n",
       "      <td></td>\n",
       "      <td>7535.00</td>\n",
       "    </tr>\n",
       "    <tr>\n",
       "      <th>24</th>\n",
       "      <td>Rounding (860)</td>\n",
       "      <td></td>\n",
       "      <td>0.00</td>\n",
       "      <td>0.09</td>\n",
       "      <td></td>\n",
       "    </tr>\n",
       "    <tr>\n",
       "      <th>25</th>\n",
       "      <td>Unpaid Expense Claims (801)</td>\n",
       "      <td>305.15</td>\n",
       "      <td></td>\n",
       "      <td></td>\n",
       "      <td>0.00</td>\n",
       "    </tr>\n",
       "    <tr>\n",
       "      <th>26</th>\n",
       "      <td>Retained Earnings (960)</td>\n",
       "      <td></td>\n",
       "      <td>0.00</td>\n",
       "      <td>7912.00</td>\n",
       "      <td></td>\n",
       "    </tr>\n",
       "    <tr>\n",
       "      <th>27</th>\n",
       "      <td>Total</td>\n",
       "      <td>30464.12</td>\n",
       "      <td>30464.12</td>\n",
       "      <td>86684.66</td>\n",
       "      <td>86684.66</td>\n",
       "    </tr>\n",
       "  </tbody>\n",
       "</table>\n",
       "</div>"
      ],
      "text/plain": [
       "                                                 Desc        Dr        Cr  \\\n",
       "0                                         Sales (200)            13645.00   \n",
       "1                                   Advertising (400)   1818.18             \n",
       "2                                     Bank Fees (404)     10.50             \n",
       "3                                      Cleaning (408)    155.00             \n",
       "4                       Consulting & Accounting (412)     49.00             \n",
       "5                                 Entertainment (420)              200.00   \n",
       "6                              General Expenses (429)      0.00             \n",
       "7                         Light, Power, Heating (445)    301.00             \n",
       "8                        Motor Vehicle Expenses (449)     59.09             \n",
       "9                               Office Expenses (453)     83.54             \n",
       "10                        Printing & Stationery (461)     30.09             \n",
       "11                                         Rent (469)   2573.86             \n",
       "12                         Telephone & Internet (489)     49.21             \n",
       "13                            Travel - National (493)      0.00             \n",
       "14                           Wages and Salaries (477)  13400.00             \n",
       "15                          Accounts Receivable (610)   5329.50             \n",
       "16                        Business Bank Account (090)               94.79   \n",
       "17                     Business Savings Account (091)             3500.00   \n",
       "18                             Office Equipment (710)   6300.00             \n",
       "19  Less Accumulated Depreciation on Office Equipm...      0.00             \n",
       "20                             Accounts Payable (800)             9787.73   \n",
       "21                                          GST (820)              222.60   \n",
       "22                        Historical Adjustment (840)                0.00   \n",
       "23                    PAYG Withholdings Payable (825)             3014.00   \n",
       "24                                     Rounding (860)                0.00   \n",
       "25                        Unpaid Expense Claims (801)    305.15             \n",
       "26                            Retained Earnings (960)                0.00   \n",
       "27                                              Total  30464.12  30464.12   \n",
       "\n",
       "      YTD Dr    YTD Cr  \n",
       "0             35931.00  \n",
       "1    1830.18            \n",
       "2      31.50            \n",
       "3     310.00            \n",
       "4      49.00            \n",
       "5     277.20            \n",
       "6     966.87            \n",
       "7     946.00            \n",
       "8     429.09            \n",
       "9    1410.44            \n",
       "10     66.00            \n",
       "11   5573.86            \n",
       "12    239.56            \n",
       "13    462.14            \n",
       "14  33500.00            \n",
       "15  14049.50            \n",
       "16            10752.84  \n",
       "17  11581.23            \n",
       "18   7050.00            \n",
       "19              825.00  \n",
       "20            11560.04  \n",
       "21              868.57  \n",
       "22            19212.21  \n",
       "23             7535.00  \n",
       "24      0.09            \n",
       "25                0.00  \n",
       "26   7912.00            \n",
       "27  86684.66  86684.66  "
      ]
     },
     "execution_count": 279,
     "metadata": {},
     "output_type": "execute_result"
    }
   ],
   "source": [
    "\n",
    "\n",
    "mycell = []\n",
    "for i in data['Reports']:\n",
    "    for j, l1 in enumerate(i['Rows']):\n",
    "        #print (j,desc['RowType'],'\\n')\n",
    "        if j != 0:\n",
    "            # go to rows section and loop it to find cells\n",
    "            #print (j,desc,'\\n')\n",
    "            for l2 in l1['Rows']:\n",
    "                #print (l2,'\\n')\n",
    "                myrow = []\n",
    "                for l3 in l2['Cells']:\n",
    "                  #print (l3['Value'])\n",
    "                  myrow.append(l3['Value'])\n",
    "                mycell.append(myrow)\n",
    "        \n",
    "df = pd.DataFrame(mycell)\n",
    "df.columns = ['Desc','Dr','Cr','YTD Dr','YTD Cr']\n",
    "\n",
    "df"
   ]
  },
  {
   "cell_type": "markdown",
   "id": "a7a6eb3e",
   "metadata": {},
   "source": [
    "# Simple example to convert json to csv"
   ]
  },
  {
   "cell_type": "code",
   "execution_count": 199,
   "id": "b047438b",
   "metadata": {},
   "outputs": [],
   "source": [
    "x = {'Name':'Ronny','Address':'Sydney'}"
   ]
  },
  {
   "cell_type": "code",
   "execution_count": 202,
   "id": "0c704428",
   "metadata": {},
   "outputs": [
    {
     "data": {
      "text/plain": [
       "dict_values(['Ronny', 'Sydney'])"
      ]
     },
     "execution_count": 202,
     "metadata": {},
     "output_type": "execute_result"
    }
   ],
   "source": [
    "x.values()"
   ]
  },
  {
   "cell_type": "code",
   "execution_count": null,
   "id": "2a6a0d5b",
   "metadata": {},
   "outputs": [],
   "source": []
  },
  {
   "cell_type": "code",
   "execution_count": 194,
   "id": "c089bd77",
   "metadata": {},
   "outputs": [
    {
     "ename": "TypeError",
     "evalue": "the JSON object must be str, bytes or bytearray, not dict",
     "output_type": "error",
     "traceback": [
      "\u001b[1;31m---------------------------------------------------------------------------\u001b[0m",
      "\u001b[1;31mTypeError\u001b[0m                                 Traceback (most recent call last)",
      "\u001b[1;32m<ipython-input-194-1edd923f4da0>\u001b[0m in \u001b[0;36m<module>\u001b[1;34m\u001b[0m\n\u001b[0;32m      1\u001b[0m \u001b[0mdata\u001b[0m \u001b[1;33m=\u001b[0m \u001b[1;33m{\u001b[0m\u001b[1;34m'emp_details'\u001b[0m\u001b[1;33m:\u001b[0m\u001b[1;33m[\u001b[0m\u001b[1;33m{\u001b[0m\u001b[1;34m'Name'\u001b[0m\u001b[1;33m:\u001b[0m\u001b[1;34m'Ronny'\u001b[0m\u001b[1;33m,\u001b[0m\u001b[1;34m'Address'\u001b[0m\u001b[1;33m:\u001b[0m\u001b[1;34m'Sydney'\u001b[0m\u001b[1;33m}\u001b[0m\u001b[1;33m,\u001b[0m\u001b[1;33m{\u001b[0m\u001b[1;34m'Name'\u001b[0m\u001b[1;33m:\u001b[0m\u001b[1;34m'Mercedes'\u001b[0m\u001b[1;33m,\u001b[0m\u001b[1;34m'Address'\u001b[0m\u001b[1;33m:\u001b[0m\u001b[1;34m'Melbourne'\u001b[0m\u001b[1;33m}\u001b[0m\u001b[1;33m]\u001b[0m\u001b[1;33m}\u001b[0m\u001b[1;33m\u001b[0m\u001b[1;33m\u001b[0m\u001b[0m\n\u001b[0;32m      2\u001b[0m \u001b[0mmystring\u001b[0m \u001b[1;33m=\u001b[0m \u001b[0mjson\u001b[0m\u001b[1;33m.\u001b[0m\u001b[0mdumps\u001b[0m\u001b[1;33m(\u001b[0m\u001b[0mdata\u001b[0m\u001b[1;33m)\u001b[0m\u001b[1;33m\u001b[0m\u001b[1;33m\u001b[0m\u001b[0m\n\u001b[1;32m----> 3\u001b[1;33m \u001b[0mmylist\u001b[0m \u001b[1;33m=\u001b[0m \u001b[0mjson\u001b[0m\u001b[1;33m.\u001b[0m\u001b[0mloads\u001b[0m\u001b[1;33m(\u001b[0m\u001b[0mm\u001b[0m\u001b[1;33m)\u001b[0m\u001b[1;33m\u001b[0m\u001b[1;33m\u001b[0m\u001b[0m\n\u001b[0m\u001b[0;32m      4\u001b[0m \u001b[1;33m\u001b[0m\u001b[0m\n\u001b[0;32m      5\u001b[0m \u001b[1;33m\u001b[0m\u001b[0m\n",
      "\u001b[1;32m~\\Anaconda3\\lib\\json\\__init__.py\u001b[0m in \u001b[0;36mloads\u001b[1;34m(s, cls, object_hook, parse_float, parse_int, parse_constant, object_pairs_hook, **kw)\u001b[0m\n\u001b[0;32m    339\u001b[0m     \u001b[1;32melse\u001b[0m\u001b[1;33m:\u001b[0m\u001b[1;33m\u001b[0m\u001b[1;33m\u001b[0m\u001b[0m\n\u001b[0;32m    340\u001b[0m         \u001b[1;32mif\u001b[0m \u001b[1;32mnot\u001b[0m \u001b[0misinstance\u001b[0m\u001b[1;33m(\u001b[0m\u001b[0ms\u001b[0m\u001b[1;33m,\u001b[0m \u001b[1;33m(\u001b[0m\u001b[0mbytes\u001b[0m\u001b[1;33m,\u001b[0m \u001b[0mbytearray\u001b[0m\u001b[1;33m)\u001b[0m\u001b[1;33m)\u001b[0m\u001b[1;33m:\u001b[0m\u001b[1;33m\u001b[0m\u001b[1;33m\u001b[0m\u001b[0m\n\u001b[1;32m--> 341\u001b[1;33m             raise TypeError(f'the JSON object must be str, bytes or bytearray, '\n\u001b[0m\u001b[0;32m    342\u001b[0m                             f'not {s.__class__.__name__}')\n\u001b[0;32m    343\u001b[0m         \u001b[0ms\u001b[0m \u001b[1;33m=\u001b[0m \u001b[0ms\u001b[0m\u001b[1;33m.\u001b[0m\u001b[0mdecode\u001b[0m\u001b[1;33m(\u001b[0m\u001b[0mdetect_encoding\u001b[0m\u001b[1;33m(\u001b[0m\u001b[0ms\u001b[0m\u001b[1;33m)\u001b[0m\u001b[1;33m,\u001b[0m \u001b[1;34m'surrogatepass'\u001b[0m\u001b[1;33m)\u001b[0m\u001b[1;33m\u001b[0m\u001b[1;33m\u001b[0m\u001b[0m\n",
      "\u001b[1;31mTypeError\u001b[0m: the JSON object must be str, bytes or bytearray, not dict"
     ]
    }
   ],
   "source": [
    "data = {'emp_details':[{'Name':'Ronny','Address':'Sydney'},{'Name':'Mercedes','Address':'Melbourne'}]}\n",
    "mystring = json.dumps(data)\n",
    "mylist = json.loads(m)\n",
    "\n",
    "\n",
    "data['emp_details']\n"
   ]
  },
  {
   "cell_type": "code",
   "execution_count": null,
   "id": "d8f6834d",
   "metadata": {},
   "outputs": [],
   "source": []
  },
  {
   "cell_type": "code",
   "execution_count": 85,
   "id": "65437d1d",
   "metadata": {},
   "outputs": [
    {
     "data": {
      "text/plain": [
       "[{'Name': 'Ronny', 'Address': 'Sydney'},\n",
       " {'Name': 'Mercedes', 'Address': 'Melbourne'}]"
      ]
     },
     "execution_count": 85,
     "metadata": {},
     "output_type": "execute_result"
    }
   ],
   "source": [
    "employee_data"
   ]
  },
  {
   "cell_type": "code",
   "execution_count": null,
   "id": "cb30c0f4",
   "metadata": {},
   "outputs": [],
   "source": []
  },
  {
   "cell_type": "code",
   "execution_count": 82,
   "id": "ce1d5626",
   "metadata": {},
   "outputs": [],
   "source": [
    "import json\n",
    "import csv\n",
    " \n",
    " \n",
    "employee_data = data['emp_details']\n",
    " \n",
    "# now we will open a file for writing\n",
    "data_file = open('data_file.csv', 'w')\n",
    " \n",
    "# create the csv writer object\n",
    "csv_writer = csv.writer(data_file)\n",
    " \n",
    "# Counter variable used for writing\n",
    "# headers to the CSV file\n",
    "count = 0\n",
    " \n",
    "for emp in employee_data:\n",
    "    if count == 0:\n",
    " \n",
    "        # Writing headers of CSV file\n",
    "        header = emp.keys()\n",
    "        csv_writer.writerow(header)\n",
    "        count += 1\n",
    " \n",
    "    # Writing data of CSV file\n",
    "    csv_writer.writerow(emp.values())\n",
    " \n",
    "data_file.close()"
   ]
  },
  {
   "cell_type": "code",
   "execution_count": 83,
   "id": "4472dce5",
   "metadata": {},
   "outputs": [
    {
     "data": {
      "text/html": [
       "<div>\n",
       "<style scoped>\n",
       "    .dataframe tbody tr th:only-of-type {\n",
       "        vertical-align: middle;\n",
       "    }\n",
       "\n",
       "    .dataframe tbody tr th {\n",
       "        vertical-align: top;\n",
       "    }\n",
       "\n",
       "    .dataframe thead th {\n",
       "        text-align: right;\n",
       "    }\n",
       "</style>\n",
       "<table border=\"1\" class=\"dataframe\">\n",
       "  <thead>\n",
       "    <tr style=\"text-align: right;\">\n",
       "      <th></th>\n",
       "      <th>Name</th>\n",
       "      <th>Address</th>\n",
       "    </tr>\n",
       "  </thead>\n",
       "  <tbody>\n",
       "    <tr>\n",
       "      <th>0</th>\n",
       "      <td>Ronny</td>\n",
       "      <td>Sydney</td>\n",
       "    </tr>\n",
       "    <tr>\n",
       "      <th>1</th>\n",
       "      <td>Mercedes</td>\n",
       "      <td>Melbourne</td>\n",
       "    </tr>\n",
       "  </tbody>\n",
       "</table>\n",
       "</div>"
      ],
      "text/plain": [
       "       Name    Address\n",
       "0     Ronny     Sydney\n",
       "1  Mercedes  Melbourne"
      ]
     },
     "execution_count": 83,
     "metadata": {},
     "output_type": "execute_result"
    }
   ],
   "source": [
    "import pandas as pd\n",
    "\n",
    "pd.read_csv('data_file.csv')"
   ]
  },
  {
   "cell_type": "code",
   "execution_count": 6,
   "id": "e201cfdd",
   "metadata": {},
   "outputs": [
    {
     "data": {
      "text/plain": [
       "[{'Name': 'Ronny', 'Address': 'Sydney'},\n",
       " {'Name': 'Mercedes', 'Address': 'Melbourne'}]"
      ]
     },
     "execution_count": 6,
     "metadata": {},
     "output_type": "execute_result"
    }
   ],
   "source": [
    "employee_data = data['emp_details']\n",
    "employee_data"
   ]
  },
  {
   "cell_type": "markdown",
   "id": "c276f71c",
   "metadata": {},
   "source": [
    "# test xero json to csv"
   ]
  },
  {
   "cell_type": "code",
   "execution_count": null,
   "id": "e5804998",
   "metadata": {},
   "outputs": [],
   "source": []
  }
 ],
 "metadata": {
  "kernelspec": {
   "display_name": "Python 3",
   "language": "python",
   "name": "python3"
  },
  "language_info": {
   "codemirror_mode": {
    "name": "ipython",
    "version": 3
   },
   "file_extension": ".py",
   "mimetype": "text/x-python",
   "name": "python",
   "nbconvert_exporter": "python",
   "pygments_lexer": "ipython3",
   "version": "3.8.8"
  }
 },
 "nbformat": 4,
 "nbformat_minor": 5
}
