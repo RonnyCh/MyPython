{
 "cells": [
  {
   "cell_type": "markdown",
   "id": "a760f2e5",
   "metadata": {},
   "source": [
    "# tidying up"
   ]
  },
  {
   "cell_type": "code",
   "execution_count": 18,
   "id": "e3be40af",
   "metadata": {},
   "outputs": [],
   "source": [
    "with open(\"record.txt\",\"r\") as test:\n",
    "    a = test.read()\n",
    "    a"
   ]
  },
  {
   "cell_type": "code",
   "execution_count": 22,
   "id": "b3c973ea",
   "metadata": {},
   "outputs": [
    {
     "name": "stdout",
     "output_type": "stream",
     "text": [
      "\n",
      "\n"
     ]
    }
   ],
   "source": [
    "with open(\"record.txt\",\"r\") as test:\n",
    "    print (test.readline())"
   ]
  },
  {
   "cell_type": "code",
   "execution_count": 23,
   "id": "276b2947",
   "metadata": {},
   "outputs": [],
   "source": [
    "mytext = 'oke letsseeeeee!! yooooo'"
   ]
  },
  {
   "cell_type": "code",
   "execution_count": 26,
   "id": "a73c1753",
   "metadata": {},
   "outputs": [],
   "source": [
    "for i in range(2):\n",
    "\n",
    "    with open('record'+str(i)+'.txt', 'w') as fh:\n",
    "            fh.write(mytext)"
   ]
  },
  {
   "cell_type": "code",
   "execution_count": 8,
   "id": "66d33a8f",
   "metadata": {},
   "outputs": [],
   "source": [
    "my_details = [['Click', 383, 0, 'left', 1640784526.6145458],\n",
    " ['Click', 436, 22, 'left', 1640784527.515616],\n",
    " ['Click', 357, 9, 'left', 1640784528.2450924],\n",
    " ['Click', 301, 4, 'left', 1640784529.1765525],\n",
    " ['Key', 'esc', '', 1640784530.299552],\n",
    " 'Quit']"
   ]
  },
  {
   "cell_type": "code",
   "execution_count": 9,
   "id": "83ad52e4",
   "metadata": {},
   "outputs": [],
   "source": [
    "import json\n",
    "\n",
    "with open('personal.json', 'w') as json_file:\n",
    "    json.dump(my_details, json_file)"
   ]
  },
  {
   "cell_type": "code",
   "execution_count": 10,
   "id": "bf979ff3",
   "metadata": {},
   "outputs": [],
   "source": [
    "with open('personal.json') as json_file:\n",
    "    data = json.load(json_file)"
   ]
  },
  {
   "cell_type": "code",
   "execution_count": null,
   "id": "2e47917d",
   "metadata": {},
   "outputs": [],
   "source": []
  }
 ],
 "metadata": {
  "kernelspec": {
   "display_name": "Python 3",
   "language": "python",
   "name": "python3"
  },
  "language_info": {
   "codemirror_mode": {
    "name": "ipython",
    "version": 3
   },
   "file_extension": ".py",
   "mimetype": "text/x-python",
   "name": "python",
   "nbconvert_exporter": "python",
   "pygments_lexer": "ipython3",
   "version": "3.8.8"
  }
 },
 "nbformat": 4,
 "nbformat_minor": 5
}
