{
 "cells": [
  {
   "cell_type": "markdown",
   "id": "2bd87f5c",
   "metadata": {},
   "source": [
    "# 1. Download TM1 raw file"
   ]
  },
  {
   "cell_type": "code",
   "execution_count": 8,
   "id": "65a3faa3",
   "metadata": {},
   "outputs": [
    {
     "name": "stdout",
     "output_type": "stream",
     "text": [
      "<class 'pandas.core.frame.DataFrame'>\n",
      "RangeIndex: 18346 entries, 0 to 18345\n",
      "Data columns (total 3 columns):\n",
      " #   Column       Non-Null Count  Dtype  \n",
      "---  ------       --------------  -----  \n",
      " 0   XRO_Clinic   18346 non-null  object \n",
      " 1   XRO_Account  18346 non-null  object \n",
      " 2   Amount       18346 non-null  float64\n",
      "dtypes: float64(1), object(2)\n",
      "memory usage: 430.1+ KB\n"
     ]
    }
   ],
   "source": [
    "import pandas as pd\n",
    "import os\n",
    "\n",
    "os.chdir(r'C:\\Users\\r.christianto\\MyPython\\TM1BackUp')\n",
    "filetype = 'TM1'\n",
    "#df = pd.read_csv('Timesheet.csv',parse_dates = ['Start Date','Approved Date','Filled Date'],dayfirst=True)\n",
    "df = pd.read_csv('TM1.csv')\n",
    "\n",
    "\n",
    "if filetype == 'PNL':\n",
    "    df.columns = ['Cube','Version','Period','Company','Account','CostCentre','Brand','Currency','Type','Amount']\n",
    "    mycube = 'pnlcube2'\n",
    "    for i in ['Account','CostCentre','Company']:\n",
    "        df[i] = df[i].astype('str')\n",
    "elif filetype == 'FA':   \n",
    "    df.columns = ['Cube','Version','Period','Company','Centre','Brand','Desc1','AssetNo','Desc2','Amount']\n",
    "    mycube = 'fixedasset'\n",
    "elif filetype == 'XeroHier':\n",
    "    df.columns = ['XeroAcct','L1','L2','L3','L4','L5','L6','L7','L8','L9','L10','Type']\n",
    "    df.fillna('',inplace=True)\n",
    "    mycube = 'xerohier'\n",
    "elif filetype == 'ClinicMap':\n",
    "    df.columns = ['ClinicNames','ClinicCodes','Code-Name','Country']\n",
    "    df.fillna('',inplace=True)\n",
    "    mycube = 'clinicmap'\n",
    "elif filetype == 'Xero':\n",
    "    df.columns = ['Cube','Version','Period','Clinic','Account','Currency','Measure','Amount']\n",
    "    df.fillna('',inplace=True)\n",
    "    mycube = 'xerofy22'\n",
    "elif filetype == 'XeroSource':\n",
    "    mycube = 'xeroapi'\n",
    "elif filetype == 'TM1':\n",
    "    mycube = 'tm1load'\n",
    "\n",
    "\n",
    "\n",
    "df.info()"
   ]
  },
  {
   "cell_type": "markdown",
   "id": "873184ce",
   "metadata": {},
   "source": [
    "# 2. Fast export to MYSQL"
   ]
  },
  {
   "cell_type": "code",
   "execution_count": 9,
   "id": "366ec40f",
   "metadata": {},
   "outputs": [
    {
     "name": "stderr",
     "output_type": "stream",
     "text": [
      "c:\\Users\\r.christianto\\Anaconda3\\lib\\site-packages\\pandas\\io\\sql.py:1663: UserWarning: The provided table name 'TM1load' is not found exactly as such in the database after writing the table, possibly due to case sensitivity issues. Consider using lower case table names.\n",
      "  warnings.warn(msg, UserWarning)\n"
     ]
    },
    {
     "data": {
      "text/plain": [
       "18346"
      ]
     },
     "execution_count": 9,
     "metadata": {},
     "output_type": "execute_result"
    },
    {
     "ename": "",
     "evalue": "",
     "output_type": "error",
     "traceback": [
      "\u001b[1;31mThe Kernel crashed while executing code in the the current cell or a previous cell. Please review the code in the cell(s) to identify a possible cause of the failure. Click <a href='https://aka.ms/vscodeJupyterKernelCrash'>here</a> for more info. View Jupyter <a href='command:jupyter.viewOutput'>log</a> for further details."
     ]
    }
   ],
   "source": [
    "import pandas as pd\n",
    "from sqlalchemy import create_engine\n",
    "\n",
    "# Credentials to database connection\n",
    "hostname=\"localhost\"\n",
    "dbname=\"lca\"\n",
    "uname=\"root\"\n",
    "pwd=\"Ronchi1989!\"\n",
    "\n",
    "\n",
    "# Create SQLAlchemy engine to connect to MySQL Database\n",
    "engine = create_engine(\"mysql+pymysql://{user}:{pw}@{host}/{db}\".format(host=hostname, db=dbname, user=uname, pw=pwd))\n",
    "\n",
    "# Convert dataframe to sql table                                   \n",
    "df.to_sql(mycube, engine, if_exists = 'replace', index=False)\n",
    "# option for if_exist >>>>> {‘fail’, ‘replace’, ‘append’}"
   ]
  },
  {
   "cell_type": "markdown",
   "id": "03841850",
   "metadata": {},
   "source": [
    "# Read from MYSQL to DF"
   ]
  },
  {
   "cell_type": "code",
   "execution_count": 6,
   "id": "cb1a3e77",
   "metadata": {},
   "outputs": [],
   "source": [
    "import pandas as pd\n",
    "from sqlalchemy import create_engine\n",
    "\n",
    "# Credentials to database connection\n",
    "hostname=\"localhost\"\n",
    "dbname=\"lca\"\n",
    "uname=\"root\"\n",
    "pwd=\"Ronchi1989!\"\n",
    "\n",
    "\n",
    "# Create SQLAlchemy engine to connect to MySQL Database\n",
    "engine = create_engine(\"mysql+pymysql://{user}:{pw}@{host}/{db}\".format(host=hostname, db=dbname, user=uname, pw=pwd))\n"
   ]
  },
  {
   "cell_type": "code",
   "execution_count": 9,
   "id": "3d50d762",
   "metadata": {},
   "outputs": [],
   "source": [
    "\n",
    "SQL = '''\n",
    "\n",
    "select \n",
    "* from vpnl\n",
    "\n",
    "\n",
    "'''\n",
    "\n",
    "\n",
    "con = engine.connect()\n",
    "frame = pd.read_sql(SQL,con)\n",
    "\n",
    "#df = pd.pivot_table(frame,index=['Cube','Version'],columns=['Period'],values=['Amount'], aggfunc = lambda x:x.sum())\n",
    "#df.dropna(inplace=True)"
   ]
  },
  {
   "cell_type": "code",
   "execution_count": 4,
   "id": "0dabd390",
   "metadata": {},
   "outputs": [
    {
     "name": "stdout",
     "output_type": "stream",
     "text": [
      "<class 'pandas.core.frame.DataFrame'>\n",
      "RangeIndex: 16479 entries, 0 to 16478\n",
      "Data columns (total 7 columns):\n",
      " #   Column      Non-Null Count  Dtype  \n",
      "---  ------      --------------  -----  \n",
      " 0   period      16479 non-null  object \n",
      " 1   parent      16479 non-null  object \n",
      " 2   child       16479 non-null  object \n",
      " 3   brand       16479 non-null  object \n",
      " 4   costcentre  16479 non-null  object \n",
      " 5   version     16479 non-null  object \n",
      " 6   Amount      16479 non-null  float64\n",
      "dtypes: float64(1), object(6)\n",
      "memory usage: 901.3+ KB\n"
     ]
    }
   ],
   "source": [
    "frame.info()"
   ]
  },
  {
   "cell_type": "code",
   "execution_count": 10,
   "id": "2f0e9602",
   "metadata": {},
   "outputs": [],
   "source": [
    "import os\n",
    "os.chdir(r'C:\\Users\\r.christianto\\MyPython\\TM1MYSQL\\DataLatest')\n",
    "frame.to_excel('PNL.xlsx',index=False)"
   ]
  },
  {
   "cell_type": "code",
   "execution_count": 6,
   "id": "5b422b1e",
   "metadata": {},
   "outputs": [
    {
     "name": "stdout",
     "output_type": "stream",
     "text": [
      "<class 'pandas.core.frame.DataFrame'>\n",
      "RangeIndex: 2887 entries, 0 to 2886\n",
      "Data columns (total 4 columns):\n",
      " #   Column       Non-Null Count  Dtype  \n",
      "---  ------       --------------  -----  \n",
      " 0   Date         2887 non-null   object \n",
      " 1   Amount       2887 non-null   float64\n",
      " 2   Description  2887 non-null   object \n",
      " 3   Balance      0 non-null      float64\n",
      "dtypes: float64(2), object(2)\n",
      "memory usage: 90.3+ KB\n"
     ]
    }
   ],
   "source": [
    "df = pd.read_csv('test.csv')\n",
    "\n",
    "df.info()"
   ]
  },
  {
   "cell_type": "code",
   "execution_count": 8,
   "id": "a68e9550",
   "metadata": {},
   "outputs": [],
   "source": [
    "import os\n",
    "os.chdir(r'C:\\tmp')\n",
    "\n",
    "frame.to_csv('xero.csv',index=False)"
   ]
  },
  {
   "cell_type": "markdown",
   "id": "6767dc58",
   "metadata": {},
   "source": [
    "# Using mysql connector to do other ETL"
   ]
  },
  {
   "cell_type": "code",
   "execution_count": 43,
   "id": "70bf5ba1",
   "metadata": {},
   "outputs": [],
   "source": [
    "import mysql.connector\n",
    "\n",
    "mydb = mysql.connector.connect(\n",
    "  host=\"localhost\",\n",
    "  user=\"root\",\n",
    "  password=\"Ronchi1989!\",\n",
    "  database=\"lca\"\n",
    ")\n",
    "\n",
    "mycursor = mydb.cursor()\n",
    "\n"
   ]
  },
  {
   "cell_type": "code",
   "execution_count": null,
   "id": "9c5d984e",
   "metadata": {},
   "outputs": [],
   "source": [
    "sql = \"drop view vxerocsv\"\n",
    "\n",
    "mycursor.execute(sql)"
   ]
  },
  {
   "cell_type": "code",
   "execution_count": null,
   "id": "b69399c2",
   "metadata": {},
   "outputs": [],
   "source": []
  }
 ],
 "metadata": {
  "interpreter": {
   "hash": "4f00ff7e2e21f11f1fc8d52a12f60112e63b9b5629ed122616054479540c3b60"
  },
  "kernelspec": {
   "display_name": "Python 3.8.8 ('base')",
   "language": "python",
   "name": "python3"
  },
  "language_info": {
   "codemirror_mode": {
    "name": "ipython",
    "version": 3
   },
   "file_extension": ".py",
   "mimetype": "text/x-python",
   "name": "python",
   "nbconvert_exporter": "python",
   "pygments_lexer": "ipython3",
   "version": "3.8.8"
  }
 },
 "nbformat": 4,
 "nbformat_minor": 5
}
